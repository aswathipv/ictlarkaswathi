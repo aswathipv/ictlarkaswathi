{
 "cells": [
  {
   "cell_type": "markdown",
   "id": "35ecc8c8",
   "metadata": {},
   "source": [
    "# Read dataset"
   ]
  },
  {
   "cell_type": "code",
   "execution_count": 1,
   "id": "0dff5bc6",
   "metadata": {},
   "outputs": [],
   "source": [
    "import pandas as pd"
   ]
  },
  {
   "cell_type": "code",
   "execution_count": 2,
   "id": "1826c71a",
   "metadata": {},
   "outputs": [],
   "source": [
    "data=pd.read_csv('pollution_2000_2021.csv')"
   ]
  },
  {
   "cell_type": "markdown",
   "id": "50232f2a",
   "metadata": {},
   "source": [
    "# Display columns"
   ]
  },
  {
   "cell_type": "code",
   "execution_count": 3,
   "id": "6db02572",
   "metadata": {},
   "outputs": [
    {
     "data": {
      "text/plain": [
       "Index(['Date', 'Year', 'Month', 'Day', 'Address', 'State', 'County', 'City',\n",
       "       'O3 Mean', 'O3 1st Max Value', 'O3 1st Max Hour', 'O3 AQI', 'CO Mean',\n",
       "       'CO 1st Max Value', 'CO 1st Max Hour', 'CO AQI', 'SO2 Mean',\n",
       "       'SO2 1st Max Value', 'SO2 1st Max Hour', 'SO2 AQI', 'NO2 Mean',\n",
       "       'NO2 1st Max Value', 'NO2 1st Max Hour', 'NO2 AQI'],\n",
       "      dtype='object')"
      ]
     },
     "execution_count": 3,
     "metadata": {},
     "output_type": "execute_result"
    }
   ],
   "source": [
    "data.columns"
   ]
  },
  {
   "cell_type": "markdown",
   "id": "636fcd81",
   "metadata": {},
   "source": [
    "# Mean of each columns in dataset"
   ]
  },
  {
   "cell_type": "code",
   "execution_count": null,
   "id": "9271f880",
   "metadata": {},
   "outputs": [],
   "source": [
    "data.mean(axis=0)"
   ]
  },
  {
   "cell_type": "markdown",
   "id": "9bb394ca",
   "metadata": {},
   "source": [
    "# Null values in dataset"
   ]
  },
  {
   "cell_type": "code",
   "execution_count": 4,
   "id": "950e4d40",
   "metadata": {},
   "outputs": [
    {
     "data": {
      "text/plain": [
       "Date                 0\n",
       "Year                 0\n",
       "Month                0\n",
       "Day                  0\n",
       "Address              0\n",
       "State                0\n",
       "County               0\n",
       "City                 0\n",
       "O3 Mean              0\n",
       "O3 1st Max Value     0\n",
       "O3 1st Max Hour      0\n",
       "O3 AQI               0\n",
       "CO Mean              0\n",
       "CO 1st Max Value     0\n",
       "CO 1st Max Hour      0\n",
       "CO AQI               0\n",
       "SO2 Mean             0\n",
       "SO2 1st Max Value    0\n",
       "SO2 1st Max Hour     0\n",
       "SO2 AQI              0\n",
       "NO2 Mean             0\n",
       "NO2 1st Max Value    0\n",
       "NO2 1st Max Hour     0\n",
       "NO2 AQI              0\n",
       "dtype: int64"
      ]
     },
     "execution_count": 4,
     "metadata": {},
     "output_type": "execute_result"
    }
   ],
   "source": [
    "data.isnull().sum()"
   ]
  },
  {
   "cell_type": "code",
   "execution_count": 29,
   "id": "cb1c277c",
   "metadata": {},
   "outputs": [
    {
     "data": {
      "text/html": [
       "<div>\n",
       "<style scoped>\n",
       "    .dataframe tbody tr th:only-of-type {\n",
       "        vertical-align: middle;\n",
       "    }\n",
       "\n",
       "    .dataframe tbody tr th {\n",
       "        vertical-align: top;\n",
       "    }\n",
       "\n",
       "    .dataframe thead th {\n",
       "        text-align: right;\n",
       "    }\n",
       "</style>\n",
       "<table border=\"1\" class=\"dataframe\">\n",
       "  <thead>\n",
       "    <tr style=\"text-align: right;\">\n",
       "      <th></th>\n",
       "      <th>Date</th>\n",
       "      <th>Year</th>\n",
       "      <th>Month</th>\n",
       "      <th>Day</th>\n",
       "      <th>Address</th>\n",
       "      <th>State</th>\n",
       "      <th>County</th>\n",
       "      <th>City</th>\n",
       "      <th>O3 Mean</th>\n",
       "      <th>O3 1st Max Value</th>\n",
       "      <th>...</th>\n",
       "      <th>CO 1st Max Hour</th>\n",
       "      <th>CO AQI</th>\n",
       "      <th>SO2 Mean</th>\n",
       "      <th>SO2 1st Max Value</th>\n",
       "      <th>SO2 1st Max Hour</th>\n",
       "      <th>SO2 AQI</th>\n",
       "      <th>NO2 Mean</th>\n",
       "      <th>NO2 1st Max Value</th>\n",
       "      <th>NO2 1st Max Hour</th>\n",
       "      <th>NO2 AQI</th>\n",
       "    </tr>\n",
       "  </thead>\n",
       "  <tbody>\n",
       "    <tr>\n",
       "      <th>0</th>\n",
       "      <td>2000-01-01</td>\n",
       "      <td>2000</td>\n",
       "      <td>1</td>\n",
       "      <td>1</td>\n",
       "      <td>1645 E ROOSEVELT ST-CENTRAL PHOENIX STN</td>\n",
       "      <td>Arizona</td>\n",
       "      <td>Maricopa</td>\n",
       "      <td>Phoenix</td>\n",
       "      <td>0.019765</td>\n",
       "      <td>0.040</td>\n",
       "      <td>...</td>\n",
       "      <td>5.971042</td>\n",
       "      <td>5.377387</td>\n",
       "      <td>3.000000</td>\n",
       "      <td>9.000000</td>\n",
       "      <td>21</td>\n",
       "      <td>13.000000</td>\n",
       "      <td>19.041667</td>\n",
       "      <td>49.000000</td>\n",
       "      <td>19</td>\n",
       "      <td>46.00000</td>\n",
       "    </tr>\n",
       "    <tr>\n",
       "      <th>1</th>\n",
       "      <td>2000-01-02</td>\n",
       "      <td>2000</td>\n",
       "      <td>1</td>\n",
       "      <td>2</td>\n",
       "      <td>1645 E ROOSEVELT ST-CENTRAL PHOENIX STN</td>\n",
       "      <td>Arizona</td>\n",
       "      <td>Maricopa</td>\n",
       "      <td>Phoenix</td>\n",
       "      <td>0.015882</td>\n",
       "      <td>0.032</td>\n",
       "      <td>...</td>\n",
       "      <td>0.000000</td>\n",
       "      <td>5.377387</td>\n",
       "      <td>1.958333</td>\n",
       "      <td>3.000000</td>\n",
       "      <td>22</td>\n",
       "      <td>4.000000</td>\n",
       "      <td>22.958333</td>\n",
       "      <td>36.000000</td>\n",
       "      <td>19</td>\n",
       "      <td>34.00000</td>\n",
       "    </tr>\n",
       "    <tr>\n",
       "      <th>2</th>\n",
       "      <td>2000-01-03</td>\n",
       "      <td>2000</td>\n",
       "      <td>1</td>\n",
       "      <td>3</td>\n",
       "      <td>1645 E ROOSEVELT ST-CENTRAL PHOENIX STN</td>\n",
       "      <td>Arizona</td>\n",
       "      <td>Maricopa</td>\n",
       "      <td>Phoenix</td>\n",
       "      <td>0.009353</td>\n",
       "      <td>0.016</td>\n",
       "      <td>...</td>\n",
       "      <td>8.000000</td>\n",
       "      <td>5.377387</td>\n",
       "      <td>1.523358</td>\n",
       "      <td>4.210271</td>\n",
       "      <td>19</td>\n",
       "      <td>5.568708</td>\n",
       "      <td>11.738067</td>\n",
       "      <td>51.000000</td>\n",
       "      <td>8</td>\n",
       "      <td>48.00000</td>\n",
       "    </tr>\n",
       "    <tr>\n",
       "      <th>3</th>\n",
       "      <td>2000-01-04</td>\n",
       "      <td>2000</td>\n",
       "      <td>1</td>\n",
       "      <td>4</td>\n",
       "      <td>1645 E ROOSEVELT ST-CENTRAL PHOENIX STN</td>\n",
       "      <td>Arizona</td>\n",
       "      <td>Maricopa</td>\n",
       "      <td>Phoenix</td>\n",
       "      <td>0.015882</td>\n",
       "      <td>0.033</td>\n",
       "      <td>...</td>\n",
       "      <td>5.971042</td>\n",
       "      <td>5.377387</td>\n",
       "      <td>1.523358</td>\n",
       "      <td>4.210271</td>\n",
       "      <td>8</td>\n",
       "      <td>5.568708</td>\n",
       "      <td>11.738067</td>\n",
       "      <td>23.610711</td>\n",
       "      <td>8</td>\n",
       "      <td>22.12424</td>\n",
       "    </tr>\n",
       "    <tr>\n",
       "      <th>4</th>\n",
       "      <td>2000-01-05</td>\n",
       "      <td>2000</td>\n",
       "      <td>1</td>\n",
       "      <td>5</td>\n",
       "      <td>1645 E ROOSEVELT ST-CENTRAL PHOENIX STN</td>\n",
       "      <td>Arizona</td>\n",
       "      <td>Maricopa</td>\n",
       "      <td>Phoenix</td>\n",
       "      <td>0.007353</td>\n",
       "      <td>0.012</td>\n",
       "      <td>...</td>\n",
       "      <td>2.000000</td>\n",
       "      <td>5.377387</td>\n",
       "      <td>1.523358</td>\n",
       "      <td>4.210271</td>\n",
       "      <td>7</td>\n",
       "      <td>5.568708</td>\n",
       "      <td>11.738067</td>\n",
       "      <td>61.000000</td>\n",
       "      <td>22</td>\n",
       "      <td>58.00000</td>\n",
       "    </tr>\n",
       "  </tbody>\n",
       "</table>\n",
       "<p>5 rows × 24 columns</p>\n",
       "</div>"
      ],
      "text/plain": [
       "         Date  Year  Month  Day                                  Address  \\\n",
       "0  2000-01-01  2000      1    1  1645 E ROOSEVELT ST-CENTRAL PHOENIX STN   \n",
       "1  2000-01-02  2000      1    2  1645 E ROOSEVELT ST-CENTRAL PHOENIX STN   \n",
       "2  2000-01-03  2000      1    3  1645 E ROOSEVELT ST-CENTRAL PHOENIX STN   \n",
       "3  2000-01-04  2000      1    4  1645 E ROOSEVELT ST-CENTRAL PHOENIX STN   \n",
       "4  2000-01-05  2000      1    5  1645 E ROOSEVELT ST-CENTRAL PHOENIX STN   \n",
       "\n",
       "     State    County     City   O3 Mean  O3 1st Max Value  ...  \\\n",
       "0  Arizona  Maricopa  Phoenix  0.019765             0.040  ...   \n",
       "1  Arizona  Maricopa  Phoenix  0.015882             0.032  ...   \n",
       "2  Arizona  Maricopa  Phoenix  0.009353             0.016  ...   \n",
       "3  Arizona  Maricopa  Phoenix  0.015882             0.033  ...   \n",
       "4  Arizona  Maricopa  Phoenix  0.007353             0.012  ...   \n",
       "\n",
       "   CO 1st Max Hour    CO AQI  SO2 Mean  SO2 1st Max Value  SO2 1st Max Hour  \\\n",
       "0         5.971042  5.377387  3.000000           9.000000                21   \n",
       "1         0.000000  5.377387  1.958333           3.000000                22   \n",
       "2         8.000000  5.377387  1.523358           4.210271                19   \n",
       "3         5.971042  5.377387  1.523358           4.210271                 8   \n",
       "4         2.000000  5.377387  1.523358           4.210271                 7   \n",
       "\n",
       "     SO2 AQI   NO2 Mean  NO2 1st Max Value  NO2 1st Max Hour   NO2 AQI  \n",
       "0  13.000000  19.041667          49.000000                19  46.00000  \n",
       "1   4.000000  22.958333          36.000000                19  34.00000  \n",
       "2   5.568708  11.738067          51.000000                 8  48.00000  \n",
       "3   5.568708  11.738067          23.610711                 8  22.12424  \n",
       "4   5.568708  11.738067          61.000000                22  58.00000  \n",
       "\n",
       "[5 rows x 24 columns]"
      ]
     },
     "execution_count": 29,
     "metadata": {},
     "output_type": "execute_result"
    }
   ],
   "source": [
    "data.head()"
   ]
  },
  {
   "cell_type": "markdown",
   "id": "17e3b621",
   "metadata": {},
   "source": [
    "# visualizations "
   ]
  },
  {
   "cell_type": "code",
   "execution_count": 15,
   "id": "723eeeaa",
   "metadata": {},
   "outputs": [],
   "source": [
    "import matplotlib.pyplot as plt"
   ]
  },
  {
   "cell_type": "code",
   "execution_count": 7,
   "id": "68efebd9",
   "metadata": {},
   "outputs": [
    {
     "data": {
      "text/plain": [
       "[<matplotlib.lines.Line2D at 0x1accb91ad60>]"
      ]
     },
     "execution_count": 7,
     "metadata": {},
     "output_type": "execute_result"
    },
    {
     "data": {
      "image/png": "[encoded data removed]",
      "text/plain": [
       "<Figure size 432x288 with 1 Axes>"
      ]
     },
     "metadata": {
      "needs_background": "light"
     },
     "output_type": "display_data"
    }
   ],
   "source": [
    "plt.figure()\n",
    "plt.plot(data['Year'],data['CO Mean'])"
   ]
  },
  {
   "cell_type": "code",
   "execution_count": 8,
   "id": "caaf7447",
   "metadata": {},
   "outputs": [
    {
     "data": {
      "text/plain": [
       "[<matplotlib.lines.Line2D at 0x1accc0d05e0>]"
      ]
     },
     "execution_count": 8,
     "metadata": {},
     "output_type": "execute_result"
    },
    {
     "data": {
      "image/png": "[encoded data removed]",
      "text/plain": [
       "<Figure size 432x288 with 1 Axes>"
      ]
     },
     "metadata": {
      "needs_background": "light"
     },
     "output_type": "display_data"
    }
   ],
   "source": [
    "plt.plot(data['Year'],data['NO2 Mean'])"
   ]
  },
  {
   "cell_type": "code",
   "execution_count": 9,
   "id": "00d693ab",
   "metadata": {},
   "outputs": [
    {
     "data": {
      "text/plain": [
       "[<matplotlib.lines.Line2D at 0x1accc13b940>]"
      ]
     },
     "execution_count": 9,
     "metadata": {},
     "output_type": "execute_result"
    },
    {
     "data": {
      "image/png": "[encoded data removed]",
      "text/plain": [
       "<Figure size 432x288 with 1 Axes>"
      ]
     },
     "metadata": {
      "needs_background": "light"
     },
     "output_type": "display_data"
    }
   ],
   "source": [
    "plt.plot(data['Year'],data['SO2 Mean'])"
   ]
  },
  {
   "cell_type": "code",
   "execution_count": 10,
   "id": "0165cb18",
   "metadata": {},
   "outputs": [
    {
     "data": {
      "text/plain": [
       "[<matplotlib.lines.Line2D at 0x1accc1ab280>]"
      ]
     },
     "execution_count": 10,
     "metadata": {},
     "output_type": "execute_result"
    },
    {
     "data": {
      "image/png": "[encoded data removed]",
      "text/plain": [
       "<Figure size 432x288 with 1 Axes>"
      ]
     },
     "metadata": {
      "needs_background": "light"
     },
     "output_type": "display_data"
    }
   ],
   "source": [
    "plt.plot(data['Year'],data['O3 Mean'])"
   ]
  },
  {
   "cell_type": "code",
   "execution_count": 2,
   "id": "a7b21a79",
   "metadata": {},
   "outputs": [],
   "source": [
    "import seaborn as sns"
   ]
  },
  {
   "cell_type": "code",
   "execution_count": 12,
   "id": "ca59e983",
   "metadata": {},
   "outputs": [
    {
     "data": {
      "text/plain": [
       "(608699, 24)"
      ]
     },
     "execution_count": 12,
     "metadata": {},
     "output_type": "execute_result"
    }
   ],
   "source": [
    "data.shape"
   ]
  },
  {
   "cell_type": "code",
   "execution_count": 13,
   "id": "49f1a00d",
   "metadata": {},
   "outputs": [
    {
     "data": {
      "text/html": [
       "<div>\n",
       "<style scoped>\n",
       "    .dataframe tbody tr th:only-of-type {\n",
       "        vertical-align: middle;\n",
       "    }\n",
       "\n",
       "    .dataframe tbody tr th {\n",
       "        vertical-align: top;\n",
       "    }\n",
       "\n",
       "    .dataframe thead th {\n",
       "        text-align: right;\n",
       "    }\n",
       "</style>\n",
       "<table border=\"1\" class=\"dataframe\">\n",
       "  <thead>\n",
       "    <tr style=\"text-align: right;\">\n",
       "      <th></th>\n",
       "      <th>Year</th>\n",
       "      <th>Month</th>\n",
       "      <th>Day</th>\n",
       "      <th>O3 Mean</th>\n",
       "      <th>O3 1st Max Value</th>\n",
       "      <th>O3 1st Max Hour</th>\n",
       "      <th>O3 AQI</th>\n",
       "      <th>CO Mean</th>\n",
       "      <th>CO 1st Max Value</th>\n",
       "      <th>CO 1st Max Hour</th>\n",
       "      <th>CO AQI</th>\n",
       "      <th>SO2 Mean</th>\n",
       "      <th>SO2 1st Max Value</th>\n",
       "      <th>SO2 1st Max Hour</th>\n",
       "      <th>SO2 AQI</th>\n",
       "      <th>NO2 Mean</th>\n",
       "      <th>NO2 1st Max Value</th>\n",
       "      <th>NO2 1st Max Hour</th>\n",
       "      <th>NO2 AQI</th>\n",
       "    </tr>\n",
       "  </thead>\n",
       "  <tbody>\n",
       "    <tr>\n",
       "      <th>count</th>\n",
       "      <td>608699.000000</td>\n",
       "      <td>608699.000000</td>\n",
       "      <td>608699.000000</td>\n",
       "      <td>608699.000000</td>\n",
       "      <td>608699.000000</td>\n",
       "      <td>608699.000000</td>\n",
       "      <td>608699.000000</td>\n",
       "      <td>608699.000000</td>\n",
       "      <td>608699.000000</td>\n",
       "      <td>608699.000000</td>\n",
       "      <td>608699.000000</td>\n",
       "      <td>608699.000000</td>\n",
       "      <td>608699.000000</td>\n",
       "      <td>608699.000000</td>\n",
       "      <td>608699.000000</td>\n",
       "      <td>608699.000000</td>\n",
       "      <td>608699.000000</td>\n",
       "      <td>608699.000000</td>\n",
       "      <td>608699.000000</td>\n",
       "    </tr>\n",
       "    <tr>\n",
       "      <th>mean</th>\n",
       "      <td>2011.040529</td>\n",
       "      <td>6.508670</td>\n",
       "      <td>15.737176</td>\n",
       "      <td>0.028477</td>\n",
       "      <td>0.038903</td>\n",
       "      <td>10.773469</td>\n",
       "      <td>39.112517</td>\n",
       "      <td>0.337258</td>\n",
       "      <td>0.476798</td>\n",
       "      <td>5.971042</td>\n",
       "      <td>5.377387</td>\n",
       "      <td>1.523358</td>\n",
       "      <td>4.210271</td>\n",
       "      <td>8.851891</td>\n",
       "      <td>5.568708</td>\n",
       "      <td>11.738067</td>\n",
       "      <td>23.610711</td>\n",
       "      <td>11.606845</td>\n",
       "      <td>22.124240</td>\n",
       "    </tr>\n",
       "    <tr>\n",
       "      <th>std</th>\n",
       "      <td>6.122558</td>\n",
       "      <td>3.310633</td>\n",
       "      <td>8.806949</td>\n",
       "      <td>0.012218</td>\n",
       "      <td>0.015031</td>\n",
       "      <td>3.308152</td>\n",
       "      <td>22.480864</td>\n",
       "      <td>0.282958</td>\n",
       "      <td>0.446321</td>\n",
       "      <td>7.739380</td>\n",
       "      <td>5.142873</td>\n",
       "      <td>2.495094</td>\n",
       "      <td>7.983793</td>\n",
       "      <td>6.774720</td>\n",
       "      <td>10.736164</td>\n",
       "      <td>9.083091</td>\n",
       "      <td>15.412489</td>\n",
       "      <td>7.881014</td>\n",
       "      <td>14.610125</td>\n",
       "    </tr>\n",
       "    <tr>\n",
       "      <th>min</th>\n",
       "      <td>2000.000000</td>\n",
       "      <td>1.000000</td>\n",
       "      <td>1.000000</td>\n",
       "      <td>-0.000706</td>\n",
       "      <td>0.000000</td>\n",
       "      <td>7.000000</td>\n",
       "      <td>0.000000</td>\n",
       "      <td>-0.437500</td>\n",
       "      <td>-0.400000</td>\n",
       "      <td>0.000000</td>\n",
       "      <td>0.000000</td>\n",
       "      <td>-2.508333</td>\n",
       "      <td>-2.300000</td>\n",
       "      <td>0.000000</td>\n",
       "      <td>0.000000</td>\n",
       "      <td>-4.629167</td>\n",
       "      <td>-4.400000</td>\n",
       "      <td>0.000000</td>\n",
       "      <td>0.000000</td>\n",
       "    </tr>\n",
       "    <tr>\n",
       "      <th>25%</th>\n",
       "      <td>2006.000000</td>\n",
       "      <td>4.000000</td>\n",
       "      <td>8.000000</td>\n",
       "      <td>0.019647</td>\n",
       "      <td>0.029000</td>\n",
       "      <td>9.000000</td>\n",
       "      <td>27.000000</td>\n",
       "      <td>0.179167</td>\n",
       "      <td>0.200000</td>\n",
       "      <td>0.000000</td>\n",
       "      <td>2.000000</td>\n",
       "      <td>0.187500</td>\n",
       "      <td>0.600000</td>\n",
       "      <td>3.000000</td>\n",
       "      <td>0.000000</td>\n",
       "      <td>4.978261</td>\n",
       "      <td>11.200000</td>\n",
       "      <td>5.000000</td>\n",
       "      <td>10.000000</td>\n",
       "    </tr>\n",
       "    <tr>\n",
       "      <th>50%</th>\n",
       "      <td>2012.000000</td>\n",
       "      <td>7.000000</td>\n",
       "      <td>16.000000</td>\n",
       "      <td>0.028235</td>\n",
       "      <td>0.038000</td>\n",
       "      <td>10.000000</td>\n",
       "      <td>35.000000</td>\n",
       "      <td>0.262500</td>\n",
       "      <td>0.400000</td>\n",
       "      <td>2.000000</td>\n",
       "      <td>5.000000</td>\n",
       "      <td>0.666667</td>\n",
       "      <td>1.700000</td>\n",
       "      <td>8.000000</td>\n",
       "      <td>1.000000</td>\n",
       "      <td>9.541667</td>\n",
       "      <td>21.800000</td>\n",
       "      <td>9.000000</td>\n",
       "      <td>20.000000</td>\n",
       "    </tr>\n",
       "    <tr>\n",
       "      <th>75%</th>\n",
       "      <td>2016.000000</td>\n",
       "      <td>9.000000</td>\n",
       "      <td>23.000000</td>\n",
       "      <td>0.036765</td>\n",
       "      <td>0.048000</td>\n",
       "      <td>11.000000</td>\n",
       "      <td>44.000000</td>\n",
       "      <td>0.420833</td>\n",
       "      <td>0.600000</td>\n",
       "      <td>9.000000</td>\n",
       "      <td>7.000000</td>\n",
       "      <td>1.772727</td>\n",
       "      <td>4.000000</td>\n",
       "      <td>13.000000</td>\n",
       "      <td>6.000000</td>\n",
       "      <td>16.304348</td>\n",
       "      <td>33.700000</td>\n",
       "      <td>20.000000</td>\n",
       "      <td>31.000000</td>\n",
       "    </tr>\n",
       "    <tr>\n",
       "      <th>max</th>\n",
       "      <td>2021.000000</td>\n",
       "      <td>12.000000</td>\n",
       "      <td>31.000000</td>\n",
       "      <td>0.107353</td>\n",
       "      <td>0.140000</td>\n",
       "      <td>23.000000</td>\n",
       "      <td>237.000000</td>\n",
       "      <td>7.508333</td>\n",
       "      <td>15.500000</td>\n",
       "      <td>23.000000</td>\n",
       "      <td>201.000000</td>\n",
       "      <td>321.625000</td>\n",
       "      <td>351.000000</td>\n",
       "      <td>23.000000</td>\n",
       "      <td>200.000000</td>\n",
       "      <td>140.650000</td>\n",
       "      <td>269.200000</td>\n",
       "      <td>23.000000</td>\n",
       "      <td>133.000000</td>\n",
       "    </tr>\n",
       "  </tbody>\n",
       "</table>\n",
       "</div>"
      ],
      "text/plain": [
       "                Year          Month            Day        O3 Mean  \\\n",
       "count  608699.000000  608699.000000  608699.000000  608699.000000   \n",
       "mean     2011.040529       6.508670      15.737176       0.028477   \n",
       "std         6.122558       3.310633       8.806949       0.012218   \n",
       "min      2000.000000       1.000000       1.000000      -0.000706   \n",
       "25%      2006.000000       4.000000       8.000000       0.019647   \n",
       "50%      2012.000000       7.000000      16.000000       0.028235   \n",
       "75%      2016.000000       9.000000      23.000000       0.036765   \n",
       "max      2021.000000      12.000000      31.000000       0.107353   \n",
       "\n",
       "       O3 1st Max Value  O3 1st Max Hour         O3 AQI        CO Mean  \\\n",
       "count     608699.000000    608699.000000  608699.000000  608699.000000   \n",
       "mean           0.038903        10.773469      39.112517       0.337258   \n",
       "std            0.015031         3.308152      22.480864       0.282958   \n",
       "min            0.000000         7.000000       0.000000      -0.437500   \n",
       "25%            0.029000         9.000000      27.000000       0.179167   \n",
       "50%            0.038000        10.000000      35.000000       0.262500   \n",
       "75%            0.048000        11.000000      44.000000       0.420833   \n",
       "max            0.140000        23.000000     237.000000       7.508333   \n",
       "\n",
       "       CO 1st Max Value  CO 1st Max Hour         CO AQI       SO2 Mean  \\\n",
       "count     608699.000000    608699.000000  608699.000000  608699.000000   \n",
       "mean           0.476798         5.971042       5.377387       1.523358   \n",
       "std            0.446321         7.739380       5.142873       2.495094   \n",
       "min           -0.400000         0.000000       0.000000      -2.508333   \n",
       "25%            0.200000         0.000000       2.000000       0.187500   \n",
       "50%            0.400000         2.000000       5.000000       0.666667   \n",
       "75%            0.600000         9.000000       7.000000       1.772727   \n",
       "max           15.500000        23.000000     201.000000     321.625000   \n",
       "\n",
       "       SO2 1st Max Value  SO2 1st Max Hour        SO2 AQI       NO2 Mean  \\\n",
       "count      608699.000000     608699.000000  608699.000000  608699.000000   \n",
       "mean            4.210271          8.851891       5.568708      11.738067   \n",
       "std             7.983793          6.774720      10.736164       9.083091   \n",
       "min            -2.300000          0.000000       0.000000      -4.629167   \n",
       "25%             0.600000          3.000000       0.000000       4.978261   \n",
       "50%             1.700000          8.000000       1.000000       9.541667   \n",
       "75%             4.000000         13.000000       6.000000      16.304348   \n",
       "max           351.000000         23.000000     200.000000     140.650000   \n",
       "\n",
       "       NO2 1st Max Value  NO2 1st Max Hour        NO2 AQI  \n",
       "count      608699.000000     608699.000000  608699.000000  \n",
       "mean           23.610711         11.606845      22.124240  \n",
       "std            15.412489          7.881014      14.610125  \n",
       "min            -4.400000          0.000000       0.000000  \n",
       "25%            11.200000          5.000000      10.000000  \n",
       "50%            21.800000          9.000000      20.000000  \n",
       "75%            33.700000         20.000000      31.000000  \n",
       "max           269.200000         23.000000     133.000000  "
      ]
     },
     "execution_count": 13,
     "metadata": {},
     "output_type": "execute_result"
    }
   ],
   "source": [
    "data.describe()"
   ]
  },
  {
   "cell_type": "code",
   "execution_count": 25,
   "id": "585660a1",
   "metadata": {},
   "outputs": [
    {
     "data": {
      "text/plain": [
       "<BarContainer object of 5 artists>"
      ]
     },
     "execution_count": 25,
     "metadata": {},
     "output_type": "execute_result"
    },
    {
     "data": {
      "image/png": "[encoded data removed]",
      "text/plain": [
       "<Figure size 432x288 with 1 Axes>"
      ]
     },
     "metadata": {
      "needs_background": "light"
     },
     "output_type": "display_data"
    }
   ],
   "source": [
    "plt.bar(datatop['County'],datatop['O3 AQI'])"
   ]
  },
  {
   "cell_type": "code",
   "execution_count": 20,
   "id": "cc0fd3c2",
   "metadata": {},
   "outputs": [],
   "source": [
    "datatop=data.nlargest(n=5,columns=['O3 AQI'])"
   ]
  },
  {
   "cell_type": "code",
   "execution_count": 22,
   "id": "b66d4484",
   "metadata": {},
   "outputs": [
    {
     "data": {
      "text/html": [
       "<div>\n",
       "<style scoped>\n",
       "    .dataframe tbody tr th:only-of-type {\n",
       "        vertical-align: middle;\n",
       "    }\n",
       "\n",
       "    .dataframe tbody tr th {\n",
       "        vertical-align: top;\n",
       "    }\n",
       "\n",
       "    .dataframe thead th {\n",
       "        text-align: right;\n",
       "    }\n",
       "</style>\n",
       "<table border=\"1\" class=\"dataframe\">\n",
       "  <thead>\n",
       "    <tr style=\"text-align: right;\">\n",
       "      <th></th>\n",
       "      <th>Date</th>\n",
       "      <th>Year</th>\n",
       "      <th>Month</th>\n",
       "      <th>Day</th>\n",
       "      <th>Address</th>\n",
       "      <th>State</th>\n",
       "      <th>County</th>\n",
       "      <th>City</th>\n",
       "      <th>O3 Mean</th>\n",
       "      <th>O3 1st Max Value</th>\n",
       "      <th>...</th>\n",
       "      <th>CO 1st Max Hour</th>\n",
       "      <th>CO AQI</th>\n",
       "      <th>SO2 Mean</th>\n",
       "      <th>SO2 1st Max Value</th>\n",
       "      <th>SO2 1st Max Hour</th>\n",
       "      <th>SO2 AQI</th>\n",
       "      <th>NO2 Mean</th>\n",
       "      <th>NO2 1st Max Value</th>\n",
       "      <th>NO2 1st Max Hour</th>\n",
       "      <th>NO2 AQI</th>\n",
       "    </tr>\n",
       "  </thead>\n",
       "  <tbody>\n",
       "    <tr>\n",
       "      <th>76303</th>\n",
       "      <td>2003-08-17</td>\n",
       "      <td>2003</td>\n",
       "      <td>8</td>\n",
       "      <td>17</td>\n",
       "      <td>5888 MISSION BLVD., RUBIDOUX</td>\n",
       "      <td>California</td>\n",
       "      <td>Riverside</td>\n",
       "      <td>Rubidoux</td>\n",
       "      <td>0.078235</td>\n",
       "      <td>0.140</td>\n",
       "      <td>...</td>\n",
       "      <td>6</td>\n",
       "      <td>10.0</td>\n",
       "      <td>0.000000</td>\n",
       "      <td>0.0</td>\n",
       "      <td>0</td>\n",
       "      <td>0.0</td>\n",
       "      <td>21.826087</td>\n",
       "      <td>43.0</td>\n",
       "      <td>0</td>\n",
       "      <td>41</td>\n",
       "    </tr>\n",
       "    <tr>\n",
       "      <th>19269</th>\n",
       "      <td>2000-06-10</td>\n",
       "      <td>2000</td>\n",
       "      <td>6</td>\n",
       "      <td>10</td>\n",
       "      <td>STATE ARMORY - 1046 BELVOIR RD</td>\n",
       "      <td>Pennsylvania</td>\n",
       "      <td>Montgomery</td>\n",
       "      <td>Norristown</td>\n",
       "      <td>0.107353</td>\n",
       "      <td>0.132</td>\n",
       "      <td>...</td>\n",
       "      <td>23</td>\n",
       "      <td>2.0</td>\n",
       "      <td>4.500000</td>\n",
       "      <td>17.0</td>\n",
       "      <td>23</td>\n",
       "      <td>24.0</td>\n",
       "      <td>9.791667</td>\n",
       "      <td>22.0</td>\n",
       "      <td>6</td>\n",
       "      <td>21</td>\n",
       "    </tr>\n",
       "    <tr>\n",
       "      <th>195157</th>\n",
       "      <td>2008-06-27</td>\n",
       "      <td>2008</td>\n",
       "      <td>6</td>\n",
       "      <td>27</td>\n",
       "      <td>3425 N FIRST ST, FRESNO</td>\n",
       "      <td>California</td>\n",
       "      <td>Fresno</td>\n",
       "      <td>Fresno</td>\n",
       "      <td>0.101235</td>\n",
       "      <td>0.132</td>\n",
       "      <td>...</td>\n",
       "      <td>9</td>\n",
       "      <td>11.0</td>\n",
       "      <td>2.347826</td>\n",
       "      <td>4.0</td>\n",
       "      <td>9</td>\n",
       "      <td>6.0</td>\n",
       "      <td>20.000000</td>\n",
       "      <td>43.0</td>\n",
       "      <td>5</td>\n",
       "      <td>41</td>\n",
       "    </tr>\n",
       "    <tr>\n",
       "      <th>18285</th>\n",
       "      <td>2000-06-10</td>\n",
       "      <td>2000</td>\n",
       "      <td>6</td>\n",
       "      <td>10</td>\n",
       "      <td>ROCKVIEW LANE</td>\n",
       "      <td>Pennsylvania</td>\n",
       "      <td>Bucks</td>\n",
       "      <td>Bristol</td>\n",
       "      <td>0.096765</td>\n",
       "      <td>0.131</td>\n",
       "      <td>...</td>\n",
       "      <td>9</td>\n",
       "      <td>9.0</td>\n",
       "      <td>14.083333</td>\n",
       "      <td>29.0</td>\n",
       "      <td>23</td>\n",
       "      <td>41.0</td>\n",
       "      <td>19.625000</td>\n",
       "      <td>44.0</td>\n",
       "      <td>7</td>\n",
       "      <td>42</td>\n",
       "    </tr>\n",
       "    <tr>\n",
       "      <th>91481</th>\n",
       "      <td>2003-05-31</td>\n",
       "      <td>2003</td>\n",
       "      <td>5</td>\n",
       "      <td>31</td>\n",
       "      <td>1415 Hinton Street</td>\n",
       "      <td>Texas</td>\n",
       "      <td>Dallas</td>\n",
       "      <td>Dallas</td>\n",
       "      <td>0.088000</td>\n",
       "      <td>0.130</td>\n",
       "      <td>...</td>\n",
       "      <td>0</td>\n",
       "      <td>6.0</td>\n",
       "      <td>0.260870</td>\n",
       "      <td>3.0</td>\n",
       "      <td>0</td>\n",
       "      <td>4.0</td>\n",
       "      <td>13.916667</td>\n",
       "      <td>35.0</td>\n",
       "      <td>0</td>\n",
       "      <td>33</td>\n",
       "    </tr>\n",
       "  </tbody>\n",
       "</table>\n",
       "<p>5 rows × 24 columns</p>\n",
       "</div>"
      ],
      "text/plain": [
       "              Date  Year  Month  Day                         Address  \\\n",
       "76303   2003-08-17  2003      8   17    5888 MISSION BLVD., RUBIDOUX   \n",
       "19269   2000-06-10  2000      6   10  STATE ARMORY - 1046 BELVOIR RD   \n",
       "195157  2008-06-27  2008      6   27         3425 N FIRST ST, FRESNO   \n",
       "18285   2000-06-10  2000      6   10                   ROCKVIEW LANE   \n",
       "91481   2003-05-31  2003      5   31              1415 Hinton Street   \n",
       "\n",
       "               State      County        City   O3 Mean  O3 1st Max Value  ...  \\\n",
       "76303     California   Riverside    Rubidoux  0.078235             0.140  ...   \n",
       "19269   Pennsylvania  Montgomery  Norristown  0.107353             0.132  ...   \n",
       "195157    California      Fresno      Fresno  0.101235             0.132  ...   \n",
       "18285   Pennsylvania       Bucks     Bristol  0.096765             0.131  ...   \n",
       "91481          Texas      Dallas      Dallas  0.088000             0.130  ...   \n",
       "\n",
       "        CO 1st Max Hour  CO AQI   SO2 Mean  SO2 1st Max Value  \\\n",
       "76303                 6    10.0   0.000000                0.0   \n",
       "19269                23     2.0   4.500000               17.0   \n",
       "195157                9    11.0   2.347826                4.0   \n",
       "18285                 9     9.0  14.083333               29.0   \n",
       "91481                 0     6.0   0.260870                3.0   \n",
       "\n",
       "        SO2 1st Max Hour  SO2 AQI   NO2 Mean  NO2 1st Max Value  \\\n",
       "76303                  0      0.0  21.826087               43.0   \n",
       "19269                 23     24.0   9.791667               22.0   \n",
       "195157                 9      6.0  20.000000               43.0   \n",
       "18285                 23     41.0  19.625000               44.0   \n",
       "91481                  0      4.0  13.916667               35.0   \n",
       "\n",
       "        NO2 1st Max Hour  NO2 AQI  \n",
       "76303                  0       41  \n",
       "19269                  6       21  \n",
       "195157                 5       41  \n",
       "18285                  7       42  \n",
       "91481                  0       33  \n",
       "\n",
       "[5 rows x 24 columns]"
      ]
     },
     "execution_count": 22,
     "metadata": {},
     "output_type": "execute_result"
    }
   ],
   "source": [
    "datatop"
   ]
  },
  {
   "cell_type": "code",
   "execution_count": 3,
   "id": "fd48379e",
   "metadata": {},
   "outputs": [],
   "source": [
    "datatopso2=data.nlargest(n=5,columns=['SO2 AQI'])"
   ]
  },
  {
   "cell_type": "code",
   "execution_count": 6,
   "id": "e8a01b64",
   "metadata": {},
   "outputs": [
    {
     "data": {
      "text/plain": [
       "<BarContainer object of 5 artists>"
      ]
     },
     "execution_count": 6,
     "metadata": {},
     "output_type": "execute_result"
    },
    {
     "data": {
      "image/png": "[encoded data removed]",
      "text/plain": [
       "<Figure size 432x288 with 1 Axes>"
      ]
     },
     "metadata": {
      "needs_background": "light"
     },
     "output_type": "display_data"
    }
   ],
   "source": [
    "plt.bar(datatopso2['County'],datatopso2['SO2 AQI'])"
   ]
  },
  {
   "cell_type": "code",
   "execution_count": 7,
   "id": "28f7b7a1",
   "metadata": {},
   "outputs": [],
   "source": [
    "datatopno2=data.nlargest(n=5,columns=['NO2 AQI'])"
   ]
  },
  {
   "cell_type": "code",
   "execution_count": 8,
   "id": "2a47b865",
   "metadata": {},
   "outputs": [
    {
     "data": {
      "text/plain": [
       "<BarContainer object of 5 artists>"
      ]
     },
     "execution_count": 8,
     "metadata": {},
     "output_type": "execute_result"
    },
    {
     "data": {
      "image/png": "[encoded data removed]",
      "text/plain": [
       "<Figure size 432x288 with 1 Axes>"
      ]
     },
     "metadata": {
      "needs_background": "light"
     },
     "output_type": "display_data"
    }
   ],
   "source": [
    "plt.bar(datatopno2['County'],datatopno2['NO2 AQI'])"
   ]
  },
  {
   "cell_type": "code",
   "execution_count": 9,
   "id": "0933c925",
   "metadata": {},
   "outputs": [],
   "source": [
    "datatopco=data.nlargest(n=5,columns=['CO AQI'])"
   ]
  },
  {
   "cell_type": "code",
   "execution_count": 10,
   "id": "e09ed827",
   "metadata": {},
   "outputs": [
    {
     "data": {
      "text/plain": [
       "<BarContainer object of 5 artists>"
      ]
     },
     "execution_count": 10,
     "metadata": {},
     "output_type": "execute_result"
    },
    {
     "data": {
      "image/png": "[encoded data removed]",
      "text/plain": [
       "<Figure size 432x288 with 1 Axes>"
      ]
     },
     "metadata": {
      "needs_background": "light"
     },
     "output_type": "display_data"
    }
   ],
   "source": [
    "plt.bar(datatopco['County'],datatopco['CO AQI'])"
   ]
  },
  {
   "cell_type": "code",
   "execution_count": 11,
   "id": "9bb27543",
   "metadata": {},
   "outputs": [
    {
     "data": {
      "text/plain": [
       "<BarContainer object of 5 artists>"
      ]
     },
     "execution_count": 11,
     "metadata": {},
     "output_type": "execute_result"
    },
    {
     "data": {
      "image/png": "[encoded data removed]",
      "text/plain": [
       "<Figure size 432x288 with 1 Axes>"
      ]
     },
     "metadata": {
      "needs_background": "light"
     },
     "output_type": "display_data"
    }
   ],
   "source": [
    "datalowco=data.nsmallest(n=5,columns=['CO AQI'])\n",
    "plt.bar(datalowco['County'],datalowco['CO AQI'])"
   ]
  },
  {
   "cell_type": "code",
   "execution_count": 12,
   "id": "44064c5f",
   "metadata": {},
   "outputs": [
    {
     "data": {
      "text/plain": [
       "<BarContainer object of 20 artists>"
      ]
     },
     "execution_count": 12,
     "metadata": {},
     "output_type": "execute_result"
    },
    {
     "data": {
      "image/png": "[encoded data removed]",
      "text/plain": [
       "<Figure size 432x288 with 1 Axes>"
      ]
     },
     "metadata": {
      "needs_background": "light"
     },
     "output_type": "display_data"
    }
   ],
   "source": [
    "datalowo3=data.nsmallest(n=20,columns=['O3 AQI'])\n",
    "plt.bar(datalowo3['Year'],datalowo3['O3 AQI'])"
   ]
  },
  {
   "cell_type": "code",
   "execution_count": 34,
   "id": "617913b9",
   "metadata": {},
   "outputs": [
    {
     "data": {
      "text/plain": [
       "{'whiskers': [<matplotlib.lines.Line2D at 0x1ace2ae76d0>,\n",
       "  <matplotlib.lines.Line2D at 0x1ace2ae7fd0>],\n",
       " 'caps': [<matplotlib.lines.Line2D at 0x1ace2ae77c0>,\n",
       "  <matplotlib.lines.Line2D at 0x1ace2ae7cd0>],\n",
       " 'boxes': [<matplotlib.lines.Line2D at 0x1ace3583f10>],\n",
       " 'medians': [<matplotlib.lines.Line2D at 0x1ace35c91f0>],\n",
       " 'fliers': [<matplotlib.lines.Line2D at 0x1ace35c9580>],\n",
       " 'means': []}"
      ]
     },
     "execution_count": 34,
     "metadata": {},
     "output_type": "execute_result"
    },
    {
     "data": {
      "image/png": "[encoded data removed]",
      "text/plain": [
       "<Figure size 432x288 with 1 Axes>"
      ]
     },
     "metadata": {
      "needs_background": "light"
     },
     "output_type": "display_data"
    }
   ],
   "source": [
    "plt.boxplot(data['O3 Mean'])"
   ]
  },
  {
   "cell_type": "code",
   "execution_count": 35,
   "id": "6586fc0f",
   "metadata": {},
   "outputs": [
    {
     "data": {
      "text/plain": [
       "{'whiskers': [<matplotlib.lines.Line2D at 0x1ace3601ee0>,\n",
       "  <matplotlib.lines.Line2D at 0x1ace360b2b0>],\n",
       " 'caps': [<matplotlib.lines.Line2D at 0x1ace360b640>,\n",
       "  <matplotlib.lines.Line2D at 0x1ace360b9d0>],\n",
       " 'boxes': [<matplotlib.lines.Line2D at 0x1ace3601b50>],\n",
       " 'medians': [<matplotlib.lines.Line2D at 0x1ace360bd60>],\n",
       " 'fliers': [<matplotlib.lines.Line2D at 0x1ace3616130>],\n",
       " 'means': []}"
      ]
     },
     "execution_count": 35,
     "metadata": {},
     "output_type": "execute_result"
    },
    {
     "data": {
      "image/png": "[encoded data removed]",
      "text/plain": [
       "<Figure size 432x288 with 1 Axes>"
      ]
     },
     "metadata": {
      "needs_background": "light"
     },
     "output_type": "display_data"
    }
   ],
   "source": [
    "plt.boxplot(data['SO2 Mean'])"
   ]
  },
  {
   "cell_type": "code",
   "execution_count": 36,
   "id": "69d6b48b",
   "metadata": {},
   "outputs": [
    {
     "data": {
      "text/plain": [
       "{'whiskers': [<matplotlib.lines.Line2D at 0x1ace364afd0>,\n",
       "  <matplotlib.lines.Line2D at 0x1ace36553a0>],\n",
       " 'caps': [<matplotlib.lines.Line2D at 0x1ace3655730>,\n",
       "  <matplotlib.lines.Line2D at 0x1ace3655ac0>],\n",
       " 'boxes': [<matplotlib.lines.Line2D at 0x1ace364ac40>],\n",
       " 'medians': [<matplotlib.lines.Line2D at 0x1ace3655e50>],\n",
       " 'fliers': [<matplotlib.lines.Line2D at 0x1ace3660220>],\n",
       " 'means': []}"
      ]
     },
     "execution_count": 36,
     "metadata": {},
     "output_type": "execute_result"
    },
    {
     "data": {
      "image/png": "[encoded data removed]",
      "text/plain": [
       "<Figure size 432x288 with 1 Axes>"
      ]
     },
     "metadata": {
      "needs_background": "light"
     },
     "output_type": "display_data"
    }
   ],
   "source": [
    "plt.boxplot(data['NO2 Mean'])"
   ]
  },
  {
   "cell_type": "code",
   "execution_count": 37,
   "id": "4cc3ba3d",
   "metadata": {},
   "outputs": [
    {
     "data": {
      "text/plain": [
       "{'whiskers': [<matplotlib.lines.Line2D at 0x1ace36a0520>,\n",
       "  <matplotlib.lines.Line2D at 0x1ace36a08b0>],\n",
       " 'caps': [<matplotlib.lines.Line2D at 0x1ace36a0c40>,\n",
       "  <matplotlib.lines.Line2D at 0x1ace36a0fd0>],\n",
       " 'boxes': [<matplotlib.lines.Line2D at 0x1ace36a0190>],\n",
       " 'medians': [<matplotlib.lines.Line2D at 0x1ace36a93a0>],\n",
       " 'fliers': [<matplotlib.lines.Line2D at 0x1ace36a9730>],\n",
       " 'means': []}"
      ]
     },
     "execution_count": 37,
     "metadata": {},
     "output_type": "execute_result"
    },
    {
     "data": {
      "image/png": "[encoded data removed]",
      "text/plain": [
       "<Figure size 432x288 with 1 Axes>"
      ]
     },
     "metadata": {
      "needs_background": "light"
     },
     "output_type": "display_data"
    }
   ],
   "source": [
    "plt.boxplot(data['O3 Mean'])"
   ]
  },
  {
   "cell_type": "code",
   "execution_count": 8,
   "id": "1d3b850d",
   "metadata": {},
   "outputs": [
    {
     "data": {
      "image/png": "[encoded data removed]",
      "text/plain": [
       "<Figure size 720x720 with 2 Axes>"
      ]
     },
     "metadata": {
      "needs_background": "light"
     },
     "output_type": "display_data"
    }
   ],
   "source": [
    "plt.figure(figsize=(10,10))\n",
    "heat_map = sns.heatmap( newdata.corr(), annot = True)\n",
    "plt.title( \"HeatMap using Seaborn Method\" )\n",
    "plt.show()"
   ]
  },
  {
   "cell_type": "code",
   "execution_count": 39,
   "id": "8f5c165a",
   "metadata": {},
   "outputs": [],
   "source": [
    "newdata=data[['O3 Mean','CO Mean','NO2 Mean','SO2 Mean']]"
   ]
  },
  {
   "cell_type": "code",
   "execution_count": 7,
   "id": "5c55a9ac",
   "metadata": {},
   "outputs": [],
   "source": [
    "newdata=data.drop(['Year','Date','Month','Day','Address','State','County','City'],axis=1)"
   ]
  },
  {
   "cell_type": "code",
   "execution_count": 4,
   "id": "d8dee7c4",
   "metadata": {},
   "outputs": [
    {
     "name": "stderr",
     "output_type": "stream",
     "text": [
      "C:\\Users\\vivek\\anaconda3\\lib\\site-packages\\IPython\\core\\pylabtools.py:151: UserWarning: Tight layout not applied. The left and right margins cannot be made large enough to accommodate all axes decorations. \n",
      "  fig.canvas.print_figure(bytes_io, **kw)\n"
     ]
    },
    {
     "data": {
      "image/png": "[encoded data removed]",
      "text/plain": [
       "<Figure size 720x360 with 1 Axes>"
      ]
     },
     "metadata": {
      "needs_background": "light"
     },
     "output_type": "display_data"
    }
   ],
   "source": [
    "plt.rcParams[\"figure.figsize\"] = [10, 5]\n",
    "plt.rcParams[\"figure.autolayout\"] = True\n",
    "plt.rcParams.update({'font.size': 56})\n",
    "\n",
    "columns = ('AQI Index values', 'Levels of Health Concern','Possible heath effects')\n",
    "\n",
    "cell_text = [[\"0-50\", \"Good\",\"Minimal Impact\"],\n",
    "[\"51-100\", \"Satisfactory\",\"Minor breathing discomfort to sensitive people\" ],\n",
    "[\"101-200\", \"Moderate\",\"Breating discomfort to the people with lungs, asthma, and heart diseases\"],\n",
    "[\"201-300\", \"Poor\",\"Breating discomfort to most people on prolonged exposure\"],\n",
    "[\"301-400\", \"Very Poor\",\"Respiratory illness on prolonged exposure\"],\n",
    "[\"401-500\", \"Severe\",\"Affects healthy people and seriously impacts those with existing diseases\"]]\n",
    "\n",
    "colors = [[\"#66ff33\",  \"#66ff33\", \"#66ff33\" ],\n",
    "[\"#009900\", \"#009900\",  \"#009900\" ],\n",
    "[\"#ffff00\", \"#ffff00\",  \"#ffff00\" ],\n",
    "[\"#ff9900\", \"#ff9900\",  \"#ff9900\" ],\n",
    "[\"#ffad99\", \"#ffad99\",  \"#ffad99\" ],\n",
    "[\"#ff3300\", \"#ff3300\",  \"#ff3300\" ]]\n",
    "\n",
    "\n",
    "fig, ax = plt.subplots()\n",
    "\n",
    "the_table = ax.table(cellText=cell_text, cellColours=colors,\n",
    "                     colLabels=columns, loc='center' )\n",
    "ax.axis('off')\n",
    "\n",
    "the_table.scale(10,10)\n",
    "\n",
    "plt.show()"
   ]
  },
  {
   "cell_type": "markdown",
   "id": "0dfacfa0",
   "metadata": {},
   "source": [
    "# Outlier handling and Filling Outlier with mean"
   ]
  },
  {
   "cell_type": "code",
   "execution_count": 5,
   "id": "6d16dfa9",
   "metadata": {},
   "outputs": [],
   "source": [
    "def outlier_handling(data):\n",
    "    q1 = data.quantile(0.25)\n",
    "    q3 = data.quantile(0.75)\n",
    "    iqr = q3 - q1\n",
    "    q_limit = 1.5 * iqr\n",
    "    upper_limit = q3 + q_limit\n",
    "    lower_limt = q1 - q_limit\n",
    "    outliers = data.loc[(data < lower_limt) ^ (data > upper_limit)].tolist()\n",
    "    idx = data.loc[(data < lower_limt) ^ (data > upper_limit)].index.tolist()\n",
    "    return outliers, idx"
   ]
  },
  {
   "cell_type": "code",
   "execution_count": 6,
   "id": "cd5938e8",
   "metadata": {},
   "outputs": [],
   "source": [
    "co1_outlier_list, co1_outlier_index = outlier_handling(data['CO 1st Max Value'])\n",
    "co1h_outlier_list, co1h_outlier_index = outlier_handling(data['CO 1st Max Hour'])\n",
    "coaqi_oulliers, coaqi_outlier_index = outlier_handling(data['CO AQI'])\n",
    "co_mean,co_mean_index=outlier_handling(data['CO Mean'])"
   ]
  },
  {
   "cell_type": "code",
   "execution_count": 7,
   "id": "6d5f599f",
   "metadata": {},
   "outputs": [],
   "source": [
    "so1_outlier_list, so1_outlier_index = outlier_handling(data['SO2 1st Max Value'])\n",
    "so1h_outlier_list, so1h_outlier_index = outlier_handling(data['SO2 1st Max Hour'])\n",
    "soaqi_oulliers, soaqi_outlier_index = outlier_handling(data['SO2 AQI'])\n",
    "so_mean,so_mean_index=outlier_handling(data['SO2 Mean'])"
   ]
  },
  {
   "cell_type": "code",
   "execution_count": 8,
   "id": "3ff7ac8a",
   "metadata": {},
   "outputs": [],
   "source": [
    "no1_outlier_list, no1_outlier_index = outlier_handling(data['NO2 1st Max Value'])\n",
    "no1h_outlier_list, no1h_outlier_index = outlier_handling(data['NO2 1st Max Hour'])\n",
    "noaqi_oulliers, noaqi_outlier_index = outlier_handling(data['NO2 AQI'])\n",
    "no_mean,no_mean_index=outlier_handling(data['NO2 Mean'])"
   ]
  },
  {
   "cell_type": "code",
   "execution_count": 9,
   "id": "963e08fe",
   "metadata": {},
   "outputs": [],
   "source": [
    "o3_outlier_list, o3_outlier_index = outlier_handling(data['O3 1st Max Value'])\n",
    "o3h_outlier_list, o3h_outlier_index = outlier_handling(data['O3 1st Max Hour'])\n",
    "o3aqi_oulliers, o3aqi_outlier_index = outlier_handling(data['O3 AQI'])\n",
    "o3_mean,o3_mean_index=outlier_handling(data['O3 Mean'])"
   ]
  },
  {
   "cell_type": "code",
   "execution_count": 10,
   "id": "bca41da9",
   "metadata": {},
   "outputs": [],
   "source": [
    "data['O3 Mean'].replace([o3_mean], data['O3 Mean'].mean(), inplace=True)"
   ]
  },
  {
   "cell_type": "code",
   "execution_count": 16,
   "id": "5db9c3af",
   "metadata": {},
   "outputs": [
    {
     "data": {
      "text/plain": [
       "{'whiskers': [<matplotlib.lines.Line2D at 0x29c82d49910>,\n",
       "  <matplotlib.lines.Line2D at 0x29c82d49be0>],\n",
       " 'caps': [<matplotlib.lines.Line2D at 0x29c82d49f70>,\n",
       "  <matplotlib.lines.Line2D at 0x29c83402340>],\n",
       " 'boxes': [<matplotlib.lines.Line2D at 0x29c82d494c0>],\n",
       " 'medians': [<matplotlib.lines.Line2D at 0x29c834026d0>],\n",
       " 'fliers': [<matplotlib.lines.Line2D at 0x29c83402a60>],\n",
       " 'means': []}"
      ]
     },
     "execution_count": 16,
     "metadata": {},
     "output_type": "execute_result"
    },
    {
     "data": {
      "image/png": "[encoded data removed]",
      "text/plain": [
       "<Figure size 432x288 with 1 Axes>"
      ]
     },
     "metadata": {
      "needs_background": "light"
     },
     "output_type": "display_data"
    }
   ],
   "source": [
    "plt.boxplot(data['O3 Mean'])"
   ]
  },
  {
   "cell_type": "code",
   "execution_count": 12,
   "id": "ae1b2200",
   "metadata": {},
   "outputs": [],
   "source": [
    "data['NO2 Mean'].replace([no_mean], data['NO2 Mean'].mean(), inplace=True)"
   ]
  },
  {
   "cell_type": "code",
   "execution_count": 13,
   "id": "e58f16c7",
   "metadata": {},
   "outputs": [],
   "source": [
    "data['NO2 1st Max Value'].replace([no1_outlier_list], data['NO2 1st Max Value'].mean(), inplace=True)\n",
    "data['NO2 1st Max Hour'].replace([no1h_outlier_list], data['NO2 1st Max Hour'].mean(), inplace=True)"
   ]
  },
  {
   "cell_type": "code",
   "execution_count": 17,
   "id": "09e57d16",
   "metadata": {},
   "outputs": [
    {
     "data": {
      "text/plain": [
       "{'whiskers': [<matplotlib.lines.Line2D at 0x29c834efb80>,\n",
       "  <matplotlib.lines.Line2D at 0x29c834eff10>],\n",
       " 'caps': [<matplotlib.lines.Line2D at 0x29c835002e0>,\n",
       "  <matplotlib.lines.Line2D at 0x29c83500670>],\n",
       " 'boxes': [<matplotlib.lines.Line2D at 0x29c834ef7f0>],\n",
       " 'medians': [<matplotlib.lines.Line2D at 0x29c83500a00>],\n",
       " 'fliers': [<matplotlib.lines.Line2D at 0x29c83500d90>],\n",
       " 'means': []}"
      ]
     },
     "execution_count": 17,
     "metadata": {},
     "output_type": "execute_result"
    },
    {
     "data": {
      "image/png": "[encoded data removed]",
      "text/plain": [
       "<Figure size 432x288 with 1 Axes>"
      ]
     },
     "metadata": {
      "needs_background": "light"
     },
     "output_type": "display_data"
    }
   ],
   "source": [
    "plt.boxplot(data['NO2 1st Max Value'])\n"
   ]
  },
  {
   "cell_type": "code",
   "execution_count": 18,
   "id": "8e4ede3b",
   "metadata": {},
   "outputs": [],
   "source": [
    "data['NO2 AQI'].replace([noaqi_oulliers], data['NO2 AQI'].mean(), inplace=True)"
   ]
  },
  {
   "cell_type": "code",
   "execution_count": 19,
   "id": "25d919fa",
   "metadata": {},
   "outputs": [],
   "source": [
    "data['O3 1st Max Value'].replace([o3_outlier_list], data['O3 1st Max Value'].mean(), inplace=True)"
   ]
  },
  {
   "cell_type": "code",
   "execution_count": 20,
   "id": "dad439b3",
   "metadata": {},
   "outputs": [],
   "source": [
    "data['O3 1st Max Hour'].replace([o3h_outlier_list], data['O3 1st Max Hour'].mean(), inplace=True)"
   ]
  },
  {
   "cell_type": "code",
   "execution_count": 21,
   "id": "c027e079",
   "metadata": {},
   "outputs": [],
   "source": [
    "data['O3 AQI'].replace([o3aqi_oulliers], data['O3 AQI'].mean(), inplace=True)"
   ]
  },
  {
   "cell_type": "code",
   "execution_count": 22,
   "id": "63fb67df",
   "metadata": {},
   "outputs": [],
   "source": [
    "data['CO 1st Max Value'].replace([co1_outlier_list], data['CO 1st Max Value'].mean(), inplace=True)\n",
    "data['CO 1st Max Hour'].replace([co1h_outlier_list], data['CO 1st Max Hour'].mean(), inplace=True)\n",
    "data['CO Mean'].replace([co_mean], data['CO Mean'].mean(), inplace=True)\n",
    "data['CO AQI'].replace([coaqi_oulliers], data['CO AQI'].mean(), inplace=True)"
   ]
  },
  {
   "cell_type": "code",
   "execution_count": 23,
   "id": "4a896148",
   "metadata": {},
   "outputs": [],
   "source": [
    "data['SO2 AQI'].replace([soaqi_oulliers], data['SO2 AQI'].mean(), inplace=True)\n",
    "data['SO2 1st Max Value'].replace([so1_outlier_list], data['SO2 1st Max Value'].mean(), inplace=True)\n",
    "data['SO2 1st Max Hour'].replace([so1h_outlier_list], data['SO2 1st Max Hour'].mean(), inplace=True)\n",
    "data['SO2 Mean'].replace([so_mean], data['SO2 Mean'].mean(), inplace=True)\n"
   ]
  },
  {
   "cell_type": "markdown",
   "id": "12b54d70",
   "metadata": {},
   "source": [
    "# Label encoding"
   ]
  },
  {
   "cell_type": "code",
   "execution_count": 22,
   "id": "6fe6ce47",
   "metadata": {},
   "outputs": [
    {
     "data": {
      "text/plain": [
       "Text(0, 0.5, 'Frequency')"
      ]
     },
     "execution_count": 22,
     "metadata": {},
     "output_type": "execute_result"
    },
    {
     "data": {
      "image/png": "[encoded data removed]",
      "text/plain": [
       "<Figure size 432x288 with 1 Axes>"
      ]
     },
     "metadata": {
      "needs_background": "light"
     },
     "output_type": "display_data"
    }
   ],
   "source": [
    "data['State'].value_counts().plot.hist()\n",
    "plt.xlabel(\"State\")\n",
    "plt.ylabel(\"Frequency\")"
   ]
  },
  {
   "cell_type": "code",
   "execution_count": 20,
   "id": "0d3d3ad2",
   "metadata": {},
   "outputs": [
    {
     "data": {
      "text/plain": [
       "California              187403\n",
       "Pennsylvania             52026\n",
       "Texas                    36457\n",
       "Arizona                  23183\n",
       "New York                 21383\n",
       "Virginia                 18356\n",
       "Colorado                 14254\n",
       "Illinois                 13607\n",
       "North Carolina           12992\n",
       "Hawaii                   11703\n",
       "Ohio                     11667\n",
       "Maryland                 11125\n",
       "Oklahoma                 10916\n",
       "Arkansas                 10841\n",
       "New Jersey               10598\n",
       "Iowa                     10063\n",
       "Connecticut               9739\n",
       "Kansas                    9318\n",
       "Maine                     9207\n",
       "District Of Columbia      9128\n",
       "Missouri                  8739\n",
       "Utah                      8701\n",
       "Florida                   8221\n",
       "Louisiana                 7867\n",
       "Massachusetts             7115\n",
       "Nevada                    5738\n",
       "Kentucky                  5321\n",
       "Indiana                   5247\n",
       "Wyoming                   4945\n",
       "Oregon                    4597\n",
       "North Dakota              4590\n",
       "South Dakota              4015\n",
       "New Hampshire             3928\n",
       "Rhode Island              3885\n",
       "Georgia                   3757\n",
       "New Mexico                3725\n",
       "Tennessee                 3431\n",
       "Washington                2603\n",
       "Delaware                  2458\n",
       "Minnesota                 2414\n",
       "Michigan                  2218\n",
       "Alabama                   2001\n",
       "Vermont                   1890\n",
       "South Carolina            1679\n",
       "Alaska                    1516\n",
       "Mississippi               1473\n",
       "Wisconsin                 1414\n",
       "Idaho                     1245\n",
       "Name: State, dtype: int64"
      ]
     },
     "execution_count": 20,
     "metadata": {},
     "output_type": "execute_result"
    }
   ],
   "source": [
    "data['State'].value_counts()"
   ]
  },
  {
   "cell_type": "code",
   "execution_count": 26,
   "id": "9552f464",
   "metadata": {},
   "outputs": [
    {
     "data": {
      "text/plain": [
       "Los Angeles      30891\n",
       "Contra Costa     26874\n",
       "Santa Barbara    25352\n",
       "Maricopa         15377\n",
       "San Diego        14858\n",
       "                 ...  \n",
       "Haywood            226\n",
       "Kern               108\n",
       "Richland            84\n",
       "Shelby              61\n",
       "Duchesne            26\n",
       "Name: County, Length: 136, dtype: int64"
      ]
     },
     "execution_count": 26,
     "metadata": {},
     "output_type": "execute_result"
    }
   ],
   "source": [
    "data['County'].value_counts()"
   ]
  },
  {
   "cell_type": "code",
   "execution_count": 23,
   "id": "420c75c4",
   "metadata": {},
   "outputs": [
    {
     "data": {
      "text/plain": [
       "<AxesSubplot:ylabel='Frequency'>"
      ]
     },
     "execution_count": 23,
     "metadata": {},
     "output_type": "execute_result"
    },
    {
     "data": {
      "image/png": "[encoded data removed]",
      "text/plain": [
       "<Figure size 432x288 with 1 Axes>"
      ]
     },
     "metadata": {
      "needs_background": "light"
     },
     "output_type": "display_data"
    }
   ],
   "source": [
    "data['County'].value_counts().plot.hist()"
   ]
  },
  {
   "cell_type": "code",
   "execution_count": 25,
   "id": "683cf322",
   "metadata": {},
   "outputs": [
    {
     "data": {
      "text/plain": [
       "Not in a city         50716\n",
       "Los Angeles           16677\n",
       "New York              15509\n",
       "Phoenix               13204\n",
       "Rubidoux              12867\n",
       "                      ...  \n",
       "Kenner                  136\n",
       "Bakersfield             108\n",
       "Dentsville (Dents)       84\n",
       "Memphis                  61\n",
       "Roosevelt                26\n",
       "Name: City, Length: 148, dtype: int64"
      ]
     },
     "execution_count": 25,
     "metadata": {},
     "output_type": "execute_result"
    }
   ],
   "source": [
    "data['City'].value_counts()"
   ]
  },
  {
   "cell_type": "code",
   "execution_count": 24,
   "id": "82ac57eb",
   "metadata": {},
   "outputs": [
    {
     "data": {
      "text/plain": [
       "<AxesSubplot:ylabel='Frequency'>"
      ]
     },
     "execution_count": 24,
     "metadata": {},
     "output_type": "execute_result"
    },
    {
     "data": {
      "image/png": "[encoded data removed]",
      "text/plain": [
       "<Figure size 432x288 with 1 Axes>"
      ]
     },
     "metadata": {
      "needs_background": "light"
     },
     "output_type": "display_data"
    }
   ],
   "source": [
    "data['City'].value_counts().plot.hist()"
   ]
  },
  {
   "cell_type": "code",
   "execution_count": 24,
   "id": "088f99af",
   "metadata": {},
   "outputs": [],
   "source": [
    "from sklearn.preprocessing import LabelEncoder\n",
    "lb=LabelEncoder()\n",
    "data['State']=lb.fit_transform(data['State'])"
   ]
  },
  {
   "cell_type": "code",
   "execution_count": 25,
   "id": "d50c10fe",
   "metadata": {},
   "outputs": [],
   "source": [
    "data['County']=lb.fit_transform(data['County'])"
   ]
  },
  {
   "cell_type": "code",
   "execution_count": 26,
   "id": "814288b3",
   "metadata": {},
   "outputs": [],
   "source": [
    "data['City']=lb.fit_transform(data['City'])"
   ]
  },
  {
   "cell_type": "code",
   "execution_count": 6,
   "id": "4656d939",
   "metadata": {},
   "outputs": [
    {
     "data": {
      "text/html": [
       "<div>\n",
       "<style scoped>\n",
       "    .dataframe tbody tr th:only-of-type {\n",
       "        vertical-align: middle;\n",
       "    }\n",
       "\n",
       "    .dataframe tbody tr th {\n",
       "        vertical-align: top;\n",
       "    }\n",
       "\n",
       "    .dataframe thead th {\n",
       "        text-align: right;\n",
       "    }\n",
       "</style>\n",
       "<table border=\"1\" class=\"dataframe\">\n",
       "  <thead>\n",
       "    <tr style=\"text-align: right;\">\n",
       "      <th></th>\n",
       "      <th>Date</th>\n",
       "      <th>Year</th>\n",
       "      <th>Month</th>\n",
       "      <th>Day</th>\n",
       "      <th>Address</th>\n",
       "      <th>State</th>\n",
       "      <th>County</th>\n",
       "      <th>City</th>\n",
       "      <th>O3 Mean</th>\n",
       "      <th>O3 1st Max Value</th>\n",
       "      <th>...</th>\n",
       "      <th>CO 1st Max Hour</th>\n",
       "      <th>CO AQI</th>\n",
       "      <th>SO2 Mean</th>\n",
       "      <th>SO2 1st Max Value</th>\n",
       "      <th>SO2 1st Max Hour</th>\n",
       "      <th>SO2 AQI</th>\n",
       "      <th>NO2 Mean</th>\n",
       "      <th>NO2 1st Max Value</th>\n",
       "      <th>NO2 1st Max Hour</th>\n",
       "      <th>NO2 AQI</th>\n",
       "    </tr>\n",
       "  </thead>\n",
       "  <tbody>\n",
       "    <tr>\n",
       "      <th>0</th>\n",
       "      <td>2000-01-01</td>\n",
       "      <td>2000</td>\n",
       "      <td>1</td>\n",
       "      <td>1</td>\n",
       "      <td>1645 E ROOSEVELT ST-CENTRAL PHOENIX STN</td>\n",
       "      <td>2</td>\n",
       "      <td>75</td>\n",
       "      <td>102</td>\n",
       "      <td>0.019765</td>\n",
       "      <td>0.040</td>\n",
       "      <td>...</td>\n",
       "      <td>23</td>\n",
       "      <td>25.0</td>\n",
       "      <td>3.000000</td>\n",
       "      <td>9.0</td>\n",
       "      <td>21</td>\n",
       "      <td>13.0</td>\n",
       "      <td>19.041667</td>\n",
       "      <td>49.0</td>\n",
       "      <td>19</td>\n",
       "      <td>46</td>\n",
       "    </tr>\n",
       "    <tr>\n",
       "      <th>1</th>\n",
       "      <td>2000-01-02</td>\n",
       "      <td>2000</td>\n",
       "      <td>1</td>\n",
       "      <td>2</td>\n",
       "      <td>1645 E ROOSEVELT ST-CENTRAL PHOENIX STN</td>\n",
       "      <td>2</td>\n",
       "      <td>75</td>\n",
       "      <td>102</td>\n",
       "      <td>0.015882</td>\n",
       "      <td>0.032</td>\n",
       "      <td>...</td>\n",
       "      <td>0</td>\n",
       "      <td>26.0</td>\n",
       "      <td>1.958333</td>\n",
       "      <td>3.0</td>\n",
       "      <td>22</td>\n",
       "      <td>4.0</td>\n",
       "      <td>22.958333</td>\n",
       "      <td>36.0</td>\n",
       "      <td>19</td>\n",
       "      <td>34</td>\n",
       "    </tr>\n",
       "    <tr>\n",
       "      <th>2</th>\n",
       "      <td>2000-01-03</td>\n",
       "      <td>2000</td>\n",
       "      <td>1</td>\n",
       "      <td>3</td>\n",
       "      <td>1645 E ROOSEVELT ST-CENTRAL PHOENIX STN</td>\n",
       "      <td>2</td>\n",
       "      <td>75</td>\n",
       "      <td>102</td>\n",
       "      <td>0.009353</td>\n",
       "      <td>0.016</td>\n",
       "      <td>...</td>\n",
       "      <td>8</td>\n",
       "      <td>28.0</td>\n",
       "      <td>5.250000</td>\n",
       "      <td>11.0</td>\n",
       "      <td>19</td>\n",
       "      <td>16.0</td>\n",
       "      <td>38.125000</td>\n",
       "      <td>51.0</td>\n",
       "      <td>8</td>\n",
       "      <td>48</td>\n",
       "    </tr>\n",
       "    <tr>\n",
       "      <th>3</th>\n",
       "      <td>2000-01-04</td>\n",
       "      <td>2000</td>\n",
       "      <td>1</td>\n",
       "      <td>4</td>\n",
       "      <td>1645 E ROOSEVELT ST-CENTRAL PHOENIX STN</td>\n",
       "      <td>2</td>\n",
       "      <td>75</td>\n",
       "      <td>102</td>\n",
       "      <td>0.015882</td>\n",
       "      <td>0.033</td>\n",
       "      <td>...</td>\n",
       "      <td>23</td>\n",
       "      <td>34.0</td>\n",
       "      <td>7.083333</td>\n",
       "      <td>16.0</td>\n",
       "      <td>8</td>\n",
       "      <td>23.0</td>\n",
       "      <td>40.260870</td>\n",
       "      <td>74.0</td>\n",
       "      <td>8</td>\n",
       "      <td>72</td>\n",
       "    </tr>\n",
       "    <tr>\n",
       "      <th>4</th>\n",
       "      <td>2000-01-05</td>\n",
       "      <td>2000</td>\n",
       "      <td>1</td>\n",
       "      <td>5</td>\n",
       "      <td>1645 E ROOSEVELT ST-CENTRAL PHOENIX STN</td>\n",
       "      <td>2</td>\n",
       "      <td>75</td>\n",
       "      <td>102</td>\n",
       "      <td>0.007353</td>\n",
       "      <td>0.012</td>\n",
       "      <td>...</td>\n",
       "      <td>2</td>\n",
       "      <td>42.0</td>\n",
       "      <td>8.708333</td>\n",
       "      <td>15.0</td>\n",
       "      <td>7</td>\n",
       "      <td>21.0</td>\n",
       "      <td>48.450000</td>\n",
       "      <td>61.0</td>\n",
       "      <td>22</td>\n",
       "      <td>58</td>\n",
       "    </tr>\n",
       "  </tbody>\n",
       "</table>\n",
       "<p>5 rows × 24 columns</p>\n",
       "</div>"
      ],
      "text/plain": [
       "         Date  Year  Month  Day                                  Address  \\\n",
       "0  2000-01-01  2000      1    1  1645 E ROOSEVELT ST-CENTRAL PHOENIX STN   \n",
       "1  2000-01-02  2000      1    2  1645 E ROOSEVELT ST-CENTRAL PHOENIX STN   \n",
       "2  2000-01-03  2000      1    3  1645 E ROOSEVELT ST-CENTRAL PHOENIX STN   \n",
       "3  2000-01-04  2000      1    4  1645 E ROOSEVELT ST-CENTRAL PHOENIX STN   \n",
       "4  2000-01-05  2000      1    5  1645 E ROOSEVELT ST-CENTRAL PHOENIX STN   \n",
       "\n",
       "   State  County  City   O3 Mean  O3 1st Max Value  ...  CO 1st Max Hour  \\\n",
       "0      2      75   102  0.019765             0.040  ...               23   \n",
       "1      2      75   102  0.015882             0.032  ...                0   \n",
       "2      2      75   102  0.009353             0.016  ...                8   \n",
       "3      2      75   102  0.015882             0.033  ...               23   \n",
       "4      2      75   102  0.007353             0.012  ...                2   \n",
       "\n",
       "   CO AQI  SO2 Mean  SO2 1st Max Value  SO2 1st Max Hour  SO2 AQI   NO2 Mean  \\\n",
       "0    25.0  3.000000                9.0                21     13.0  19.041667   \n",
       "1    26.0  1.958333                3.0                22      4.0  22.958333   \n",
       "2    28.0  5.250000               11.0                19     16.0  38.125000   \n",
       "3    34.0  7.083333               16.0                 8     23.0  40.260870   \n",
       "4    42.0  8.708333               15.0                 7     21.0  48.450000   \n",
       "\n",
       "   NO2 1st Max Value  NO2 1st Max Hour  NO2 AQI  \n",
       "0               49.0                19       46  \n",
       "1               36.0                19       34  \n",
       "2               51.0                 8       48  \n",
       "3               74.0                 8       72  \n",
       "4               61.0                22       58  \n",
       "\n",
       "[5 rows x 24 columns]"
      ]
     },
     "execution_count": 6,
     "metadata": {},
     "output_type": "execute_result"
    }
   ],
   "source": [
    "data.head()"
   ]
  },
  {
   "cell_type": "code",
   "execution_count": 10,
   "id": "fb4f8bbe",
   "metadata": {},
   "outputs": [
    {
     "data": {
      "text/plain": [
       "<AxesSubplot:ylabel='Frequency'>"
      ]
     },
     "execution_count": 10,
     "metadata": {},
     "output_type": "execute_result"
    },
    {
     "data": {
      "image/png": "[encoded data removed]",
      "text/plain": [
       "<Figure size 432x288 with 1 Axes>"
      ]
     },
     "metadata": {
      "needs_background": "light"
     },
     "output_type": "display_data"
    }
   ],
   "source": [
    "data['Address'].value_counts().plot.hist()"
   ]
  },
  {
   "cell_type": "code",
   "execution_count": 12,
   "id": "4f711ed1",
   "metadata": {},
   "outputs": [
    {
     "data": {
      "text/plain": [
       "5888 MISSION BLVD., RUBIDOUX                                             12867\n",
       "2052 LAUWILIWILI ST                                                      11703\n",
       "PIKE AVE AT RIVER ROAD                                                   10841\n",
       "1630 N MAIN ST, LOS ANGELES                                              10530\n",
       "1130 EASTWAY DRIVE                                                        9815\n",
       "                                                                         ...  \n",
       "4801 N Career Ave                                                           90\n",
       "8311 PARKLANE ROAD [Parklane]                                               84\n",
       "6388 Haley Rd. (Shelby Farms NCORE site)                                    61\n",
       "290 S. 1000 W.                                                              26\n",
       "Portland - Brooklyn Yard - (PBY) SE 24th and SE Harold (PSU operated)       11\n",
       "Name: Address, Length: 216, dtype: int64"
      ]
     },
     "execution_count": 12,
     "metadata": {},
     "output_type": "execute_result"
    }
   ],
   "source": [
    "data['Address'].value_counts()"
   ]
  },
  {
   "cell_type": "code",
   "execution_count": 27,
   "id": "85fa0547",
   "metadata": {},
   "outputs": [],
   "source": [
    "data['Address']=lb.fit_transform(data['Address'])"
   ]
  },
  {
   "cell_type": "code",
   "execution_count": 31,
   "id": "ab65ec35",
   "metadata": {},
   "outputs": [
    {
     "data": {
      "text/html": [
       "<div>\n",
       "<style scoped>\n",
       "    .dataframe tbody tr th:only-of-type {\n",
       "        vertical-align: middle;\n",
       "    }\n",
       "\n",
       "    .dataframe tbody tr th {\n",
       "        vertical-align: top;\n",
       "    }\n",
       "\n",
       "    .dataframe thead th {\n",
       "        text-align: right;\n",
       "    }\n",
       "</style>\n",
       "<table border=\"1\" class=\"dataframe\">\n",
       "  <thead>\n",
       "    <tr style=\"text-align: right;\">\n",
       "      <th></th>\n",
       "      <th>Date</th>\n",
       "      <th>Year</th>\n",
       "      <th>Month</th>\n",
       "      <th>Day</th>\n",
       "      <th>Address</th>\n",
       "      <th>State</th>\n",
       "      <th>County</th>\n",
       "      <th>City</th>\n",
       "      <th>O3 Mean</th>\n",
       "      <th>O3 1st Max Value</th>\n",
       "      <th>...</th>\n",
       "      <th>CO 1st Max Hour</th>\n",
       "      <th>CO AQI</th>\n",
       "      <th>SO2 Mean</th>\n",
       "      <th>SO2 1st Max Value</th>\n",
       "      <th>SO2 1st Max Hour</th>\n",
       "      <th>SO2 AQI</th>\n",
       "      <th>NO2 Mean</th>\n",
       "      <th>NO2 1st Max Value</th>\n",
       "      <th>NO2 1st Max Hour</th>\n",
       "      <th>NO2 AQI</th>\n",
       "    </tr>\n",
       "  </thead>\n",
       "  <tbody>\n",
       "    <tr>\n",
       "      <th>0</th>\n",
       "      <td>2000-01-01</td>\n",
       "      <td>2000</td>\n",
       "      <td>1</td>\n",
       "      <td>1</td>\n",
       "      <td>38</td>\n",
       "      <td>2</td>\n",
       "      <td>75</td>\n",
       "      <td>102</td>\n",
       "      <td>0.019765</td>\n",
       "      <td>0.040</td>\n",
       "      <td>...</td>\n",
       "      <td>23</td>\n",
       "      <td>25.0</td>\n",
       "      <td>3.000000</td>\n",
       "      <td>9.0</td>\n",
       "      <td>21</td>\n",
       "      <td>13.0</td>\n",
       "      <td>19.041667</td>\n",
       "      <td>49.0</td>\n",
       "      <td>19</td>\n",
       "      <td>46</td>\n",
       "    </tr>\n",
       "    <tr>\n",
       "      <th>1</th>\n",
       "      <td>2000-01-02</td>\n",
       "      <td>2000</td>\n",
       "      <td>1</td>\n",
       "      <td>2</td>\n",
       "      <td>38</td>\n",
       "      <td>2</td>\n",
       "      <td>75</td>\n",
       "      <td>102</td>\n",
       "      <td>0.015882</td>\n",
       "      <td>0.032</td>\n",
       "      <td>...</td>\n",
       "      <td>0</td>\n",
       "      <td>26.0</td>\n",
       "      <td>1.958333</td>\n",
       "      <td>3.0</td>\n",
       "      <td>22</td>\n",
       "      <td>4.0</td>\n",
       "      <td>22.958333</td>\n",
       "      <td>36.0</td>\n",
       "      <td>19</td>\n",
       "      <td>34</td>\n",
       "    </tr>\n",
       "    <tr>\n",
       "      <th>2</th>\n",
       "      <td>2000-01-03</td>\n",
       "      <td>2000</td>\n",
       "      <td>1</td>\n",
       "      <td>3</td>\n",
       "      <td>38</td>\n",
       "      <td>2</td>\n",
       "      <td>75</td>\n",
       "      <td>102</td>\n",
       "      <td>0.009353</td>\n",
       "      <td>0.016</td>\n",
       "      <td>...</td>\n",
       "      <td>8</td>\n",
       "      <td>28.0</td>\n",
       "      <td>5.250000</td>\n",
       "      <td>11.0</td>\n",
       "      <td>19</td>\n",
       "      <td>16.0</td>\n",
       "      <td>38.125000</td>\n",
       "      <td>51.0</td>\n",
       "      <td>8</td>\n",
       "      <td>48</td>\n",
       "    </tr>\n",
       "    <tr>\n",
       "      <th>3</th>\n",
       "      <td>2000-01-04</td>\n",
       "      <td>2000</td>\n",
       "      <td>1</td>\n",
       "      <td>4</td>\n",
       "      <td>38</td>\n",
       "      <td>2</td>\n",
       "      <td>75</td>\n",
       "      <td>102</td>\n",
       "      <td>0.015882</td>\n",
       "      <td>0.033</td>\n",
       "      <td>...</td>\n",
       "      <td>23</td>\n",
       "      <td>34.0</td>\n",
       "      <td>7.083333</td>\n",
       "      <td>16.0</td>\n",
       "      <td>8</td>\n",
       "      <td>23.0</td>\n",
       "      <td>40.260870</td>\n",
       "      <td>74.0</td>\n",
       "      <td>8</td>\n",
       "      <td>72</td>\n",
       "    </tr>\n",
       "    <tr>\n",
       "      <th>4</th>\n",
       "      <td>2000-01-05</td>\n",
       "      <td>2000</td>\n",
       "      <td>1</td>\n",
       "      <td>5</td>\n",
       "      <td>38</td>\n",
       "      <td>2</td>\n",
       "      <td>75</td>\n",
       "      <td>102</td>\n",
       "      <td>0.007353</td>\n",
       "      <td>0.012</td>\n",
       "      <td>...</td>\n",
       "      <td>2</td>\n",
       "      <td>42.0</td>\n",
       "      <td>8.708333</td>\n",
       "      <td>15.0</td>\n",
       "      <td>7</td>\n",
       "      <td>21.0</td>\n",
       "      <td>48.450000</td>\n",
       "      <td>61.0</td>\n",
       "      <td>22</td>\n",
       "      <td>58</td>\n",
       "    </tr>\n",
       "  </tbody>\n",
       "</table>\n",
       "<p>5 rows × 24 columns</p>\n",
       "</div>"
      ],
      "text/plain": [
       "         Date  Year  Month  Day  Address  State  County  City   O3 Mean  \\\n",
       "0  2000-01-01  2000      1    1       38      2      75   102  0.019765   \n",
       "1  2000-01-02  2000      1    2       38      2      75   102  0.015882   \n",
       "2  2000-01-03  2000      1    3       38      2      75   102  0.009353   \n",
       "3  2000-01-04  2000      1    4       38      2      75   102  0.015882   \n",
       "4  2000-01-05  2000      1    5       38      2      75   102  0.007353   \n",
       "\n",
       "   O3 1st Max Value  ...  CO 1st Max Hour  CO AQI  SO2 Mean  \\\n",
       "0             0.040  ...               23    25.0  3.000000   \n",
       "1             0.032  ...                0    26.0  1.958333   \n",
       "2             0.016  ...                8    28.0  5.250000   \n",
       "3             0.033  ...               23    34.0  7.083333   \n",
       "4             0.012  ...                2    42.0  8.708333   \n",
       "\n",
       "   SO2 1st Max Value  SO2 1st Max Hour  SO2 AQI   NO2 Mean  NO2 1st Max Value  \\\n",
       "0                9.0                21     13.0  19.041667               49.0   \n",
       "1                3.0                22      4.0  22.958333               36.0   \n",
       "2               11.0                19     16.0  38.125000               51.0   \n",
       "3               16.0                 8     23.0  40.260870               74.0   \n",
       "4               15.0                 7     21.0  48.450000               61.0   \n",
       "\n",
       "   NO2 1st Max Hour  NO2 AQI  \n",
       "0                19       46  \n",
       "1                19       34  \n",
       "2                 8       48  \n",
       "3                 8       72  \n",
       "4                22       58  \n",
       "\n",
       "[5 rows x 24 columns]"
      ]
     },
     "execution_count": 31,
     "metadata": {},
     "output_type": "execute_result"
    }
   ],
   "source": [
    "data.head()"
   ]
  },
  {
   "cell_type": "markdown",
   "id": "86b85a29",
   "metadata": {},
   "source": [
    "# Feature Reduction"
   ]
  },
  {
   "cell_type": "code",
   "execution_count": 4,
   "id": "e2878675",
   "metadata": {},
   "outputs": [],
   "source": [
    "data=data.drop(['Date'],axis=1)"
   ]
  },
  {
   "cell_type": "code",
   "execution_count": 34,
   "id": "fec248f5",
   "metadata": {},
   "outputs": [],
   "source": [
    "crr=data.corr()"
   ]
  },
  {
   "cell_type": "code",
   "execution_count": 80,
   "id": "ba60a3ee",
   "metadata": {},
   "outputs": [
    {
     "data": {
      "text/plain": [
       "Year                 False\n",
       "Month                False\n",
       "Day                  False\n",
       "Address              False\n",
       "State                False\n",
       "County               False\n",
       "City                 False\n",
       "O3 Mean              False\n",
       "O3 1st Max Value     False\n",
       "O3 1st Max Hour      False\n",
       "O3 AQI               False\n",
       "CO Mean              False\n",
       "CO 1st Max Value      True\n",
       "CO 1st Max Hour      False\n",
       "CO AQI                True\n",
       "SO2 Mean             False\n",
       "SO2 1st Max Value    False\n",
       "SO2 1st Max Hour     False\n",
       "SO2 AQI              False\n",
       "NO2 Mean             False\n",
       "NO2 1st Max Value    False\n",
       "NO2 1st Max Hour     False\n",
       "NO2 AQI              False\n",
       "Name: CO 1st Max Value, dtype: bool"
      ]
     },
     "execution_count": 80,
     "metadata": {},
     "output_type": "execute_result"
    }
   ],
   "source": [
    "abs(crr['CO 1st Max Value'])>0.9"
   ]
  },
  {
   "cell_type": "markdown",
   "id": "201ad31d",
   "metadata": {},
   "source": [
    "# There is correlation between CO 1st Max Value and CO AQI"
   ]
  },
  {
   "cell_type": "code",
   "execution_count": 82,
   "id": "08c4787d",
   "metadata": {},
   "outputs": [
    {
     "data": {
      "text/plain": [
       "Year                 False\n",
       "Month                False\n",
       "Day                  False\n",
       "Address              False\n",
       "State                False\n",
       "County               False\n",
       "City                 False\n",
       "O3 Mean              False\n",
       "O3 1st Max Value     False\n",
       "O3 1st Max Hour      False\n",
       "O3 AQI               False\n",
       "CO Mean              False\n",
       "CO 1st Max Value      True\n",
       "CO 1st Max Hour      False\n",
       "CO AQI                True\n",
       "SO2 Mean             False\n",
       "SO2 1st Max Value    False\n",
       "SO2 1st Max Hour     False\n",
       "SO2 AQI              False\n",
       "NO2 Mean             False\n",
       "NO2 1st Max Value    False\n",
       "NO2 1st Max Hour     False\n",
       "NO2 AQI              False\n",
       "Name: CO AQI, dtype: bool"
      ]
     },
     "execution_count": 82,
     "metadata": {},
     "output_type": "execute_result"
    }
   ],
   "source": [
    "abs(crr['CO AQI'])>0.9"
   ]
  },
  {
   "cell_type": "code",
   "execution_count": 84,
   "id": "7ec827db",
   "metadata": {},
   "outputs": [
    {
     "data": {
      "text/plain": [
       "Year                 False\n",
       "Month                False\n",
       "Day                  False\n",
       "Address              False\n",
       "State                False\n",
       "County               False\n",
       "City                 False\n",
       "O3 Mean              False\n",
       "O3 1st Max Value     False\n",
       "O3 1st Max Hour      False\n",
       "O3 AQI               False\n",
       "CO Mean              False\n",
       "CO 1st Max Value     False\n",
       "CO 1st Max Hour      False\n",
       "CO AQI               False\n",
       "SO2 Mean             False\n",
       "SO2 1st Max Value     True\n",
       "SO2 1st Max Hour     False\n",
       "SO2 AQI               True\n",
       "NO2 Mean             False\n",
       "NO2 1st Max Value    False\n",
       "NO2 1st Max Hour     False\n",
       "NO2 AQI              False\n",
       "Name: SO2 1st Max Value, dtype: bool"
      ]
     },
     "execution_count": 84,
     "metadata": {},
     "output_type": "execute_result"
    }
   ],
   "source": [
    "abs(crr['SO2 1st Max Value'])>0.9"
   ]
  },
  {
   "cell_type": "markdown",
   "id": "7cd828c4",
   "metadata": {},
   "source": [
    "# There is correlation between SO2 1st Max Value and SO2 AQI"
   ]
  },
  {
   "cell_type": "code",
   "execution_count": 85,
   "id": "7263fdce",
   "metadata": {},
   "outputs": [
    {
     "data": {
      "text/plain": [
       "Year                 False\n",
       "Month                False\n",
       "Day                  False\n",
       "Address              False\n",
       "State                False\n",
       "County               False\n",
       "City                 False\n",
       "O3 Mean              False\n",
       "O3 1st Max Value     False\n",
       "O3 1st Max Hour      False\n",
       "O3 AQI               False\n",
       "CO Mean              False\n",
       "CO 1st Max Value     False\n",
       "CO 1st Max Hour      False\n",
       "CO AQI               False\n",
       "SO2 Mean             False\n",
       "SO2 1st Max Value     True\n",
       "SO2 1st Max Hour     False\n",
       "SO2 AQI               True\n",
       "NO2 Mean             False\n",
       "NO2 1st Max Value    False\n",
       "NO2 1st Max Hour     False\n",
       "NO2 AQI              False\n",
       "Name: SO2 AQI, dtype: bool"
      ]
     },
     "execution_count": 85,
     "metadata": {},
     "output_type": "execute_result"
    }
   ],
   "source": [
    "abs(crr['SO2 AQI'])>0.9"
   ]
  },
  {
   "cell_type": "code",
   "execution_count": 86,
   "id": "1988858e",
   "metadata": {},
   "outputs": [
    {
     "data": {
      "text/plain": [
       "Year                 False\n",
       "Month                False\n",
       "Day                  False\n",
       "Address              False\n",
       "State                False\n",
       "County               False\n",
       "City                 False\n",
       "O3 Mean              False\n",
       "O3 1st Max Value     False\n",
       "O3 1st Max Hour      False\n",
       "O3 AQI               False\n",
       "CO Mean              False\n",
       "CO 1st Max Value     False\n",
       "CO 1st Max Hour      False\n",
       "CO AQI               False\n",
       "SO2 Mean             False\n",
       "SO2 1st Max Value    False\n",
       "SO2 1st Max Hour     False\n",
       "SO2 AQI              False\n",
       "NO2 Mean             False\n",
       "NO2 1st Max Value     True\n",
       "NO2 1st Max Hour     False\n",
       "NO2 AQI               True\n",
       "Name: NO2 1st Max Value, dtype: bool"
      ]
     },
     "execution_count": 86,
     "metadata": {},
     "output_type": "execute_result"
    }
   ],
   "source": [
    "abs(crr['NO2 1st Max Value'])>0.9"
   ]
  },
  {
   "cell_type": "markdown",
   "id": "128aa6c9",
   "metadata": {},
   "source": [
    "# There is correlation between NO2 1st Max Value and NO2 AQI"
   ]
  },
  {
   "cell_type": "code",
   "execution_count": 88,
   "id": "e5faca26",
   "metadata": {},
   "outputs": [
    {
     "data": {
      "text/plain": [
       "Year                 False\n",
       "Month                False\n",
       "Day                  False\n",
       "Address              False\n",
       "State                False\n",
       "County               False\n",
       "City                 False\n",
       "O3 Mean              False\n",
       "O3 1st Max Value     False\n",
       "O3 1st Max Hour      False\n",
       "O3 AQI               False\n",
       "CO Mean              False\n",
       "CO 1st Max Value     False\n",
       "CO 1st Max Hour      False\n",
       "CO AQI               False\n",
       "SO2 Mean             False\n",
       "SO2 1st Max Value    False\n",
       "SO2 1st Max Hour     False\n",
       "SO2 AQI              False\n",
       "NO2 Mean             False\n",
       "NO2 1st Max Value    False\n",
       "NO2 1st Max Hour      True\n",
       "NO2 AQI              False\n",
       "Name: NO2 1st Max Hour, dtype: bool"
      ]
     },
     "execution_count": 88,
     "metadata": {},
     "output_type": "execute_result"
    }
   ],
   "source": [
    "abs(crr['NO2 1st Max Hour'])>0.9"
   ]
  },
  {
   "cell_type": "code",
   "execution_count": 94,
   "id": "730d184c",
   "metadata": {},
   "outputs": [
    {
     "data": {
      "text/plain": [
       "Year                 False\n",
       "Month                False\n",
       "Day                  False\n",
       "Address              False\n",
       "State                False\n",
       "County               False\n",
       "City                 False\n",
       "O3 Mean              False\n",
       "O3 1st Max Value     False\n",
       "O3 1st Max Hour      False\n",
       "O3 AQI               False\n",
       "CO Mean              False\n",
       "CO 1st Max Value     False\n",
       "CO 1st Max Hour      False\n",
       "CO AQI               False\n",
       "SO2 Mean             False\n",
       "SO2 1st Max Value    False\n",
       "SO2 1st Max Hour     False\n",
       "SO2 AQI              False\n",
       "NO2 Mean             False\n",
       "NO2 1st Max Value     True\n",
       "NO2 1st Max Hour     False\n",
       "NO2 AQI               True\n",
       "Name: NO2 AQI, dtype: bool"
      ]
     },
     "execution_count": 94,
     "metadata": {},
     "output_type": "execute_result"
    }
   ],
   "source": [
    "abs(crr['NO2 AQI'])>0.9"
   ]
  },
  {
   "cell_type": "code",
   "execution_count": 95,
   "id": "c37fb712",
   "metadata": {},
   "outputs": [],
   "source": [
    "data=data.drop(['NO2 1st Max Value'],axis=1)"
   ]
  },
  {
   "cell_type": "code",
   "execution_count": 96,
   "id": "93569ce9",
   "metadata": {},
   "outputs": [],
   "source": [
    "data=data.drop(['SO2 1st Max Value'],axis=1)"
   ]
  },
  {
   "cell_type": "code",
   "execution_count": 97,
   "id": "bd67c3b5",
   "metadata": {},
   "outputs": [],
   "source": [
    "data=data.drop(['CO 1st Max Value'],axis=1)"
   ]
  },
  {
   "cell_type": "code",
   "execution_count": 99,
   "id": "5b25c20d",
   "metadata": {},
   "outputs": [
    {
     "data": {
      "text/html": [
       "<div>\n",
       "<style scoped>\n",
       "    .dataframe tbody tr th:only-of-type {\n",
       "        vertical-align: middle;\n",
       "    }\n",
       "\n",
       "    .dataframe tbody tr th {\n",
       "        vertical-align: top;\n",
       "    }\n",
       "\n",
       "    .dataframe thead th {\n",
       "        text-align: right;\n",
       "    }\n",
       "</style>\n",
       "<table border=\"1\" class=\"dataframe\">\n",
       "  <thead>\n",
       "    <tr style=\"text-align: right;\">\n",
       "      <th></th>\n",
       "      <th>Year</th>\n",
       "      <th>Month</th>\n",
       "      <th>Day</th>\n",
       "      <th>Address</th>\n",
       "      <th>State</th>\n",
       "      <th>County</th>\n",
       "      <th>City</th>\n",
       "      <th>O3 Mean</th>\n",
       "      <th>O3 1st Max Value</th>\n",
       "      <th>O3 1st Max Hour</th>\n",
       "      <th>O3 AQI</th>\n",
       "      <th>CO Mean</th>\n",
       "      <th>CO 1st Max Hour</th>\n",
       "      <th>CO AQI</th>\n",
       "      <th>SO2 Mean</th>\n",
       "      <th>SO2 1st Max Hour</th>\n",
       "      <th>SO2 AQI</th>\n",
       "      <th>NO2 Mean</th>\n",
       "      <th>NO2 1st Max Hour</th>\n",
       "      <th>NO2 AQI</th>\n",
       "    </tr>\n",
       "  </thead>\n",
       "  <tbody>\n",
       "    <tr>\n",
       "      <th>count</th>\n",
       "      <td>608699.000000</td>\n",
       "      <td>608699.000000</td>\n",
       "      <td>608699.000000</td>\n",
       "      <td>608699.000000</td>\n",
       "      <td>608699.000000</td>\n",
       "      <td>608699.000000</td>\n",
       "      <td>608699.000000</td>\n",
       "      <td>608699.000000</td>\n",
       "      <td>608699.000000</td>\n",
       "      <td>608699.000000</td>\n",
       "      <td>608699.000000</td>\n",
       "      <td>608699.000000</td>\n",
       "      <td>608699.000000</td>\n",
       "      <td>608699.000000</td>\n",
       "      <td>608699.000000</td>\n",
       "      <td>608699.000000</td>\n",
       "      <td>608699.000000</td>\n",
       "      <td>608699.000000</td>\n",
       "      <td>608699.000000</td>\n",
       "      <td>608699.000000</td>\n",
       "    </tr>\n",
       "    <tr>\n",
       "      <th>mean</th>\n",
       "      <td>2011.040529</td>\n",
       "      <td>6.508670</td>\n",
       "      <td>15.737176</td>\n",
       "      <td>99.116417</td>\n",
       "      <td>18.562247</td>\n",
       "      <td>69.801899</td>\n",
       "      <td>77.343920</td>\n",
       "      <td>0.028294</td>\n",
       "      <td>0.038253</td>\n",
       "      <td>9.936750</td>\n",
       "      <td>34.334212</td>\n",
       "      <td>0.286796</td>\n",
       "      <td>4.903757</td>\n",
       "      <td>4.550459</td>\n",
       "      <td>0.949824</td>\n",
       "      <td>8.851891</td>\n",
       "      <td>3.028360</td>\n",
       "      <td>10.894464</td>\n",
       "      <td>11.606845</td>\n",
       "      <td>21.529239</td>\n",
       "    </tr>\n",
       "    <tr>\n",
       "      <th>std</th>\n",
       "      <td>6.122558</td>\n",
       "      <td>3.310633</td>\n",
       "      <td>8.806949</td>\n",
       "      <td>60.785821</td>\n",
       "      <td>14.965617</td>\n",
       "      <td>37.972017</td>\n",
       "      <td>40.060728</td>\n",
       "      <td>0.011914</td>\n",
       "      <td>0.013898</td>\n",
       "      <td>1.430017</td>\n",
       "      <td>11.562508</td>\n",
       "      <td>0.166173</td>\n",
       "      <td>6.370568</td>\n",
       "      <td>3.034913</td>\n",
       "      <td>0.944311</td>\n",
       "      <td>6.774720</td>\n",
       "      <td>3.453229</td>\n",
       "      <td>7.492933</td>\n",
       "      <td>7.881014</td>\n",
       "      <td>13.414608</td>\n",
       "    </tr>\n",
       "    <tr>\n",
       "      <th>min</th>\n",
       "      <td>2000.000000</td>\n",
       "      <td>1.000000</td>\n",
       "      <td>1.000000</td>\n",
       "      <td>0.000000</td>\n",
       "      <td>0.000000</td>\n",
       "      <td>0.000000</td>\n",
       "      <td>0.000000</td>\n",
       "      <td>-0.000706</td>\n",
       "      <td>0.001000</td>\n",
       "      <td>7.000000</td>\n",
       "      <td>2.000000</td>\n",
       "      <td>-0.179167</td>\n",
       "      <td>0.000000</td>\n",
       "      <td>0.000000</td>\n",
       "      <td>-2.000000</td>\n",
       "      <td>0.000000</td>\n",
       "      <td>0.000000</td>\n",
       "      <td>-4.629167</td>\n",
       "      <td>0.000000</td>\n",
       "      <td>0.000000</td>\n",
       "    </tr>\n",
       "    <tr>\n",
       "      <th>25%</th>\n",
       "      <td>2006.000000</td>\n",
       "      <td>4.000000</td>\n",
       "      <td>8.000000</td>\n",
       "      <td>45.000000</td>\n",
       "      <td>4.000000</td>\n",
       "      <td>35.000000</td>\n",
       "      <td>42.000000</td>\n",
       "      <td>0.019647</td>\n",
       "      <td>0.029000</td>\n",
       "      <td>9.000000</td>\n",
       "      <td>27.000000</td>\n",
       "      <td>0.179167</td>\n",
       "      <td>0.000000</td>\n",
       "      <td>2.000000</td>\n",
       "      <td>0.187500</td>\n",
       "      <td>3.000000</td>\n",
       "      <td>0.000000</td>\n",
       "      <td>4.978261</td>\n",
       "      <td>5.000000</td>\n",
       "      <td>10.000000</td>\n",
       "    </tr>\n",
       "    <tr>\n",
       "      <th>50%</th>\n",
       "      <td>2012.000000</td>\n",
       "      <td>7.000000</td>\n",
       "      <td>16.000000</td>\n",
       "      <td>93.000000</td>\n",
       "      <td>15.000000</td>\n",
       "      <td>73.000000</td>\n",
       "      <td>81.000000</td>\n",
       "      <td>0.028235</td>\n",
       "      <td>0.038000</td>\n",
       "      <td>10.000000</td>\n",
       "      <td>35.000000</td>\n",
       "      <td>0.262500</td>\n",
       "      <td>2.000000</td>\n",
       "      <td>5.000000</td>\n",
       "      <td>0.666667</td>\n",
       "      <td>8.000000</td>\n",
       "      <td>1.000000</td>\n",
       "      <td>9.541667</td>\n",
       "      <td>9.000000</td>\n",
       "      <td>20.000000</td>\n",
       "    </tr>\n",
       "    <tr>\n",
       "      <th>75%</th>\n",
       "      <td>2016.000000</td>\n",
       "      <td>9.000000</td>\n",
       "      <td>23.000000</td>\n",
       "      <td>155.000000</td>\n",
       "      <td>34.000000</td>\n",
       "      <td>105.000000</td>\n",
       "      <td>106.000000</td>\n",
       "      <td>0.036588</td>\n",
       "      <td>0.047000</td>\n",
       "      <td>11.000000</td>\n",
       "      <td>41.000000</td>\n",
       "      <td>0.366667</td>\n",
       "      <td>8.000000</td>\n",
       "      <td>6.000000</td>\n",
       "      <td>1.523358</td>\n",
       "      <td>13.000000</td>\n",
       "      <td>5.568708</td>\n",
       "      <td>15.272727</td>\n",
       "      <td>20.000000</td>\n",
       "      <td>31.000000</td>\n",
       "    </tr>\n",
       "    <tr>\n",
       "      <th>max</th>\n",
       "      <td>2021.000000</td>\n",
       "      <td>12.000000</td>\n",
       "      <td>31.000000</td>\n",
       "      <td>215.000000</td>\n",
       "      <td>47.000000</td>\n",
       "      <td>135.000000</td>\n",
       "      <td>147.000000</td>\n",
       "      <td>0.062429</td>\n",
       "      <td>0.076000</td>\n",
       "      <td>14.000000</td>\n",
       "      <td>67.000000</td>\n",
       "      <td>0.782609</td>\n",
       "      <td>22.000000</td>\n",
       "      <td>14.000000</td>\n",
       "      <td>4.150000</td>\n",
       "      <td>23.000000</td>\n",
       "      <td>14.000000</td>\n",
       "      <td>33.291667</td>\n",
       "      <td>23.000000</td>\n",
       "      <td>62.000000</td>\n",
       "    </tr>\n",
       "  </tbody>\n",
       "</table>\n",
       "</div>"
      ],
      "text/plain": [
       "                Year          Month            Day        Address  \\\n",
       "count  608699.000000  608699.000000  608699.000000  608699.000000   \n",
       "mean     2011.040529       6.508670      15.737176      99.116417   \n",
       "std         6.122558       3.310633       8.806949      60.785821   \n",
       "min      2000.000000       1.000000       1.000000       0.000000   \n",
       "25%      2006.000000       4.000000       8.000000      45.000000   \n",
       "50%      2012.000000       7.000000      16.000000      93.000000   \n",
       "75%      2016.000000       9.000000      23.000000     155.000000   \n",
       "max      2021.000000      12.000000      31.000000     215.000000   \n",
       "\n",
       "               State         County           City        O3 Mean  \\\n",
       "count  608699.000000  608699.000000  608699.000000  608699.000000   \n",
       "mean       18.562247      69.801899      77.343920       0.028294   \n",
       "std        14.965617      37.972017      40.060728       0.011914   \n",
       "min         0.000000       0.000000       0.000000      -0.000706   \n",
       "25%         4.000000      35.000000      42.000000       0.019647   \n",
       "50%        15.000000      73.000000      81.000000       0.028235   \n",
       "75%        34.000000     105.000000     106.000000       0.036588   \n",
       "max        47.000000     135.000000     147.000000       0.062429   \n",
       "\n",
       "       O3 1st Max Value  O3 1st Max Hour         O3 AQI        CO Mean  \\\n",
       "count     608699.000000    608699.000000  608699.000000  608699.000000   \n",
       "mean           0.038253         9.936750      34.334212       0.286796   \n",
       "std            0.013898         1.430017      11.562508       0.166173   \n",
       "min            0.001000         7.000000       2.000000      -0.179167   \n",
       "25%            0.029000         9.000000      27.000000       0.179167   \n",
       "50%            0.038000        10.000000      35.000000       0.262500   \n",
       "75%            0.047000        11.000000      41.000000       0.366667   \n",
       "max            0.076000        14.000000      67.000000       0.782609   \n",
       "\n",
       "       CO 1st Max Hour         CO AQI       SO2 Mean  SO2 1st Max Hour  \\\n",
       "count    608699.000000  608699.000000  608699.000000     608699.000000   \n",
       "mean          4.903757       4.550459       0.949824          8.851891   \n",
       "std           6.370568       3.034913       0.944311          6.774720   \n",
       "min           0.000000       0.000000      -2.000000          0.000000   \n",
       "25%           0.000000       2.000000       0.187500          3.000000   \n",
       "50%           2.000000       5.000000       0.666667          8.000000   \n",
       "75%           8.000000       6.000000       1.523358         13.000000   \n",
       "max          22.000000      14.000000       4.150000         23.000000   \n",
       "\n",
       "             SO2 AQI       NO2 Mean  NO2 1st Max Hour        NO2 AQI  \n",
       "count  608699.000000  608699.000000     608699.000000  608699.000000  \n",
       "mean        3.028360      10.894464         11.606845      21.529239  \n",
       "std         3.453229       7.492933          7.881014      13.414608  \n",
       "min         0.000000      -4.629167          0.000000       0.000000  \n",
       "25%         0.000000       4.978261          5.000000      10.000000  \n",
       "50%         1.000000       9.541667          9.000000      20.000000  \n",
       "75%         5.568708      15.272727         20.000000      31.000000  \n",
       "max        14.000000      33.291667         23.000000      62.000000  "
      ]
     },
     "execution_count": 99,
     "metadata": {},
     "output_type": "execute_result"
    }
   ],
   "source": [
    "data.describe()"
   ]
  },
  {
   "cell_type": "markdown",
   "id": "6cc40865",
   "metadata": {},
   "source": [
    "# Scaling"
   ]
  },
  {
   "cell_type": "code",
   "execution_count": 100,
   "id": "02795cfb",
   "metadata": {},
   "outputs": [],
   "source": [
    "from sklearn.preprocessing import StandardScaler"
   ]
  },
  {
   "cell_type": "code",
   "execution_count": 101,
   "id": "34474adb",
   "metadata": {},
   "outputs": [],
   "source": [
    "std= StandardScaler()"
   ]
  },
  {
   "cell_type": "code",
   "execution_count": 102,
   "id": "e0848bf8",
   "metadata": {},
   "outputs": [],
   "source": [
    "mat=data['NO2 1st Max Hour'].values.reshape(-1,1)"
   ]
  },
  {
   "cell_type": "code",
   "execution_count": 103,
   "id": "57e0c97b",
   "metadata": {},
   "outputs": [],
   "source": [
    "scale = std.fit_transform(mat) "
   ]
  },
  {
   "cell_type": "code",
   "execution_count": 105,
   "id": "9802159c",
   "metadata": {},
   "outputs": [],
   "source": [
    "data['NO2 1st Max Hour']=scale"
   ]
  },
  {
   "cell_type": "code",
   "execution_count": 106,
   "id": "314ee8b2",
   "metadata": {},
   "outputs": [],
   "source": [
    "mat1=data['SO2 1st Max Hour'].values.reshape(-1,1)\n",
    "scale1 = std.fit_transform(mat1) "
   ]
  },
  {
   "cell_type": "code",
   "execution_count": 107,
   "id": "2842f9be",
   "metadata": {},
   "outputs": [],
   "source": [
    "data['SO2 1st Max Hour']=scale1"
   ]
  },
  {
   "cell_type": "code",
   "execution_count": 108,
   "id": "b90b9b65",
   "metadata": {},
   "outputs": [],
   "source": [
    "mat2=data['CO 1st Max Hour'].values.reshape(-1,1)\n",
    "scale1 = std.fit_transform(mat2) "
   ]
  },
  {
   "cell_type": "code",
   "execution_count": 109,
   "id": "0971b730",
   "metadata": {},
   "outputs": [],
   "source": [
    "data['CO 1st Max Hour']=scale1"
   ]
  },
  {
   "cell_type": "code",
   "execution_count": 110,
   "id": "9c8a8a07",
   "metadata": {},
   "outputs": [],
   "source": [
    "mat2=data['O3 1st Max Hour'].values.reshape(-1,1)\n",
    "scale1 = std.fit_transform(mat2) "
   ]
  },
  {
   "cell_type": "code",
   "execution_count": 111,
   "id": "646eb2d3",
   "metadata": {},
   "outputs": [],
   "source": [
    "data['O3 1st Max Hour']=scale1"
   ]
  },
  {
   "cell_type": "code",
   "execution_count": 112,
   "id": "f6df92bf",
   "metadata": {},
   "outputs": [
    {
     "data": {
      "text/html": [
       "<div>\n",
       "<style scoped>\n",
       "    .dataframe tbody tr th:only-of-type {\n",
       "        vertical-align: middle;\n",
       "    }\n",
       "\n",
       "    .dataframe tbody tr th {\n",
       "        vertical-align: top;\n",
       "    }\n",
       "\n",
       "    .dataframe thead th {\n",
       "        text-align: right;\n",
       "    }\n",
       "</style>\n",
       "<table border=\"1\" class=\"dataframe\">\n",
       "  <thead>\n",
       "    <tr style=\"text-align: right;\">\n",
       "      <th></th>\n",
       "      <th>Year</th>\n",
       "      <th>Month</th>\n",
       "      <th>Day</th>\n",
       "      <th>Address</th>\n",
       "      <th>State</th>\n",
       "      <th>County</th>\n",
       "      <th>City</th>\n",
       "      <th>O3 Mean</th>\n",
       "      <th>O3 1st Max Value</th>\n",
       "      <th>O3 1st Max Hour</th>\n",
       "      <th>O3 AQI</th>\n",
       "      <th>CO Mean</th>\n",
       "      <th>CO 1st Max Hour</th>\n",
       "      <th>CO AQI</th>\n",
       "      <th>SO2 Mean</th>\n",
       "      <th>SO2 1st Max Hour</th>\n",
       "      <th>SO2 AQI</th>\n",
       "      <th>NO2 Mean</th>\n",
       "      <th>NO2 1st Max Hour</th>\n",
       "      <th>NO2 AQI</th>\n",
       "    </tr>\n",
       "  </thead>\n",
       "  <tbody>\n",
       "    <tr>\n",
       "      <th>count</th>\n",
       "      <td>608699.000000</td>\n",
       "      <td>608699.000000</td>\n",
       "      <td>608699.000000</td>\n",
       "      <td>608699.000000</td>\n",
       "      <td>608699.000000</td>\n",
       "      <td>608699.000000</td>\n",
       "      <td>608699.000000</td>\n",
       "      <td>608699.000000</td>\n",
       "      <td>608699.000000</td>\n",
       "      <td>6.086990e+05</td>\n",
       "      <td>608699.000000</td>\n",
       "      <td>608699.000000</td>\n",
       "      <td>6.086990e+05</td>\n",
       "      <td>608699.000000</td>\n",
       "      <td>608699.000000</td>\n",
       "      <td>6.086990e+05</td>\n",
       "      <td>608699.000000</td>\n",
       "      <td>608699.000000</td>\n",
       "      <td>6.086990e+05</td>\n",
       "      <td>608699.000000</td>\n",
       "    </tr>\n",
       "    <tr>\n",
       "      <th>mean</th>\n",
       "      <td>2011.040529</td>\n",
       "      <td>6.508670</td>\n",
       "      <td>15.737176</td>\n",
       "      <td>99.116417</td>\n",
       "      <td>18.562247</td>\n",
       "      <td>69.801899</td>\n",
       "      <td>77.343920</td>\n",
       "      <td>0.028294</td>\n",
       "      <td>0.038253</td>\n",
       "      <td>3.904850e-15</td>\n",
       "      <td>34.334212</td>\n",
       "      <td>0.286796</td>\n",
       "      <td>2.521614e-13</td>\n",
       "      <td>4.550459</td>\n",
       "      <td>0.949824</td>\n",
       "      <td>3.427044e-14</td>\n",
       "      <td>3.028360</td>\n",
       "      <td>10.894464</td>\n",
       "      <td>1.079621e-13</td>\n",
       "      <td>21.529239</td>\n",
       "    </tr>\n",
       "    <tr>\n",
       "      <th>std</th>\n",
       "      <td>6.122558</td>\n",
       "      <td>3.310633</td>\n",
       "      <td>8.806949</td>\n",
       "      <td>60.785821</td>\n",
       "      <td>14.965617</td>\n",
       "      <td>37.972017</td>\n",
       "      <td>40.060728</td>\n",
       "      <td>0.011914</td>\n",
       "      <td>0.013898</td>\n",
       "      <td>1.000001e+00</td>\n",
       "      <td>11.562508</td>\n",
       "      <td>0.166173</td>\n",
       "      <td>1.000001e+00</td>\n",
       "      <td>3.034913</td>\n",
       "      <td>0.944311</td>\n",
       "      <td>1.000001e+00</td>\n",
       "      <td>3.453229</td>\n",
       "      <td>7.492933</td>\n",
       "      <td>1.000001e+00</td>\n",
       "      <td>13.414608</td>\n",
       "    </tr>\n",
       "    <tr>\n",
       "      <th>min</th>\n",
       "      <td>2000.000000</td>\n",
       "      <td>1.000000</td>\n",
       "      <td>1.000000</td>\n",
       "      <td>0.000000</td>\n",
       "      <td>0.000000</td>\n",
       "      <td>0.000000</td>\n",
       "      <td>0.000000</td>\n",
       "      <td>-0.000706</td>\n",
       "      <td>0.001000</td>\n",
       "      <td>-2.053648e+00</td>\n",
       "      <td>2.000000</td>\n",
       "      <td>-0.179167</td>\n",
       "      <td>-7.697527e-01</td>\n",
       "      <td>0.000000</td>\n",
       "      <td>-2.000000</td>\n",
       "      <td>-1.306607e+00</td>\n",
       "      <td>0.000000</td>\n",
       "      <td>-4.629167</td>\n",
       "      <td>-1.472762e+00</td>\n",
       "      <td>0.000000</td>\n",
       "    </tr>\n",
       "    <tr>\n",
       "      <th>25%</th>\n",
       "      <td>2006.000000</td>\n",
       "      <td>4.000000</td>\n",
       "      <td>8.000000</td>\n",
       "      <td>45.000000</td>\n",
       "      <td>4.000000</td>\n",
       "      <td>35.000000</td>\n",
       "      <td>42.000000</td>\n",
       "      <td>0.019647</td>\n",
       "      <td>0.029000</td>\n",
       "      <td>-6.550625e-01</td>\n",
       "      <td>27.000000</td>\n",
       "      <td>0.179167</td>\n",
       "      <td>-7.697527e-01</td>\n",
       "      <td>2.000000</td>\n",
       "      <td>0.187500</td>\n",
       "      <td>-8.637841e-01</td>\n",
       "      <td>0.000000</td>\n",
       "      <td>4.978261</td>\n",
       "      <td>-8.383249e-01</td>\n",
       "      <td>10.000000</td>\n",
       "    </tr>\n",
       "    <tr>\n",
       "      <th>50%</th>\n",
       "      <td>2012.000000</td>\n",
       "      <td>7.000000</td>\n",
       "      <td>16.000000</td>\n",
       "      <td>93.000000</td>\n",
       "      <td>15.000000</td>\n",
       "      <td>73.000000</td>\n",
       "      <td>81.000000</td>\n",
       "      <td>0.028235</td>\n",
       "      <td>0.038000</td>\n",
       "      <td>4.423031e-02</td>\n",
       "      <td>35.000000</td>\n",
       "      <td>0.262500</td>\n",
       "      <td>-4.558086e-01</td>\n",
       "      <td>5.000000</td>\n",
       "      <td>0.666667</td>\n",
       "      <td>-1.257456e-01</td>\n",
       "      <td>1.000000</td>\n",
       "      <td>9.541667</td>\n",
       "      <td>-3.307756e-01</td>\n",
       "      <td>20.000000</td>\n",
       "    </tr>\n",
       "    <tr>\n",
       "      <th>75%</th>\n",
       "      <td>2016.000000</td>\n",
       "      <td>9.000000</td>\n",
       "      <td>23.000000</td>\n",
       "      <td>155.000000</td>\n",
       "      <td>34.000000</td>\n",
       "      <td>105.000000</td>\n",
       "      <td>106.000000</td>\n",
       "      <td>0.036588</td>\n",
       "      <td>0.047000</td>\n",
       "      <td>7.435232e-01</td>\n",
       "      <td>41.000000</td>\n",
       "      <td>0.366667</td>\n",
       "      <td>4.860234e-01</td>\n",
       "      <td>6.000000</td>\n",
       "      <td>1.523358</td>\n",
       "      <td>6.122929e-01</td>\n",
       "      <td>5.568708</td>\n",
       "      <td>15.272727</td>\n",
       "      <td>1.064985e+00</td>\n",
       "      <td>31.000000</td>\n",
       "    </tr>\n",
       "    <tr>\n",
       "      <th>max</th>\n",
       "      <td>2021.000000</td>\n",
       "      <td>12.000000</td>\n",
       "      <td>31.000000</td>\n",
       "      <td>215.000000</td>\n",
       "      <td>47.000000</td>\n",
       "      <td>135.000000</td>\n",
       "      <td>147.000000</td>\n",
       "      <td>0.062429</td>\n",
       "      <td>0.076000</td>\n",
       "      <td>2.841402e+00</td>\n",
       "      <td>67.000000</td>\n",
       "      <td>0.782609</td>\n",
       "      <td>2.683632e+00</td>\n",
       "      <td>14.000000</td>\n",
       "      <td>4.150000</td>\n",
       "      <td>2.088370e+00</td>\n",
       "      <td>14.000000</td>\n",
       "      <td>33.291667</td>\n",
       "      <td>1.445647e+00</td>\n",
       "      <td>62.000000</td>\n",
       "    </tr>\n",
       "  </tbody>\n",
       "</table>\n",
       "</div>"
      ],
      "text/plain": [
       "                Year          Month            Day        Address  \\\n",
       "count  608699.000000  608699.000000  608699.000000  608699.000000   \n",
       "mean     2011.040529       6.508670      15.737176      99.116417   \n",
       "std         6.122558       3.310633       8.806949      60.785821   \n",
       "min      2000.000000       1.000000       1.000000       0.000000   \n",
       "25%      2006.000000       4.000000       8.000000      45.000000   \n",
       "50%      2012.000000       7.000000      16.000000      93.000000   \n",
       "75%      2016.000000       9.000000      23.000000     155.000000   \n",
       "max      2021.000000      12.000000      31.000000     215.000000   \n",
       "\n",
       "               State         County           City        O3 Mean  \\\n",
       "count  608699.000000  608699.000000  608699.000000  608699.000000   \n",
       "mean       18.562247      69.801899      77.343920       0.028294   \n",
       "std        14.965617      37.972017      40.060728       0.011914   \n",
       "min         0.000000       0.000000       0.000000      -0.000706   \n",
       "25%         4.000000      35.000000      42.000000       0.019647   \n",
       "50%        15.000000      73.000000      81.000000       0.028235   \n",
       "75%        34.000000     105.000000     106.000000       0.036588   \n",
       "max        47.000000     135.000000     147.000000       0.062429   \n",
       "\n",
       "       O3 1st Max Value  O3 1st Max Hour         O3 AQI        CO Mean  \\\n",
       "count     608699.000000     6.086990e+05  608699.000000  608699.000000   \n",
       "mean           0.038253     3.904850e-15      34.334212       0.286796   \n",
       "std            0.013898     1.000001e+00      11.562508       0.166173   \n",
       "min            0.001000    -2.053648e+00       2.000000      -0.179167   \n",
       "25%            0.029000    -6.550625e-01      27.000000       0.179167   \n",
       "50%            0.038000     4.423031e-02      35.000000       0.262500   \n",
       "75%            0.047000     7.435232e-01      41.000000       0.366667   \n",
       "max            0.076000     2.841402e+00      67.000000       0.782609   \n",
       "\n",
       "       CO 1st Max Hour         CO AQI       SO2 Mean  SO2 1st Max Hour  \\\n",
       "count     6.086990e+05  608699.000000  608699.000000      6.086990e+05   \n",
       "mean      2.521614e-13       4.550459       0.949824      3.427044e-14   \n",
       "std       1.000001e+00       3.034913       0.944311      1.000001e+00   \n",
       "min      -7.697527e-01       0.000000      -2.000000     -1.306607e+00   \n",
       "25%      -7.697527e-01       2.000000       0.187500     -8.637841e-01   \n",
       "50%      -4.558086e-01       5.000000       0.666667     -1.257456e-01   \n",
       "75%       4.860234e-01       6.000000       1.523358      6.122929e-01   \n",
       "max       2.683632e+00      14.000000       4.150000      2.088370e+00   \n",
       "\n",
       "             SO2 AQI       NO2 Mean  NO2 1st Max Hour        NO2 AQI  \n",
       "count  608699.000000  608699.000000      6.086990e+05  608699.000000  \n",
       "mean        3.028360      10.894464      1.079621e-13      21.529239  \n",
       "std         3.453229       7.492933      1.000001e+00      13.414608  \n",
       "min         0.000000      -4.629167     -1.472762e+00       0.000000  \n",
       "25%         0.000000       4.978261     -8.383249e-01      10.000000  \n",
       "50%         1.000000       9.541667     -3.307756e-01      20.000000  \n",
       "75%         5.568708      15.272727      1.064985e+00      31.000000  \n",
       "max        14.000000      33.291667      1.445647e+00      62.000000  "
      ]
     },
     "execution_count": 112,
     "metadata": {},
     "output_type": "execute_result"
    }
   ],
   "source": [
    "data.describe()"
   ]
  },
  {
   "cell_type": "markdown",
   "id": "06c136cb",
   "metadata": {},
   "source": [
    "# Feature engineering"
   ]
  },
  {
   "cell_type": "code",
   "execution_count": 113,
   "id": "7e2a54a9",
   "metadata": {},
   "outputs": [],
   "source": [
    "data['AQI']=data['O3 AQI']+data['CO AQI']+data['SO2 AQI']+data['NO2 AQI']"
   ]
  },
  {
   "cell_type": "code",
   "execution_count": 114,
   "id": "8f451fc6",
   "metadata": {},
   "outputs": [
    {
     "data": {
      "text/html": [
       "<div>\n",
       "<style scoped>\n",
       "    .dataframe tbody tr th:only-of-type {\n",
       "        vertical-align: middle;\n",
       "    }\n",
       "\n",
       "    .dataframe tbody tr th {\n",
       "        vertical-align: top;\n",
       "    }\n",
       "\n",
       "    .dataframe thead th {\n",
       "        text-align: right;\n",
       "    }\n",
       "</style>\n",
       "<table border=\"1\" class=\"dataframe\">\n",
       "  <thead>\n",
       "    <tr style=\"text-align: right;\">\n",
       "      <th></th>\n",
       "      <th>Year</th>\n",
       "      <th>Month</th>\n",
       "      <th>Day</th>\n",
       "      <th>Address</th>\n",
       "      <th>State</th>\n",
       "      <th>County</th>\n",
       "      <th>City</th>\n",
       "      <th>O3 Mean</th>\n",
       "      <th>O3 1st Max Value</th>\n",
       "      <th>O3 1st Max Hour</th>\n",
       "      <th>...</th>\n",
       "      <th>CO Mean</th>\n",
       "      <th>CO 1st Max Hour</th>\n",
       "      <th>CO AQI</th>\n",
       "      <th>SO2 Mean</th>\n",
       "      <th>SO2 1st Max Hour</th>\n",
       "      <th>SO2 AQI</th>\n",
       "      <th>NO2 Mean</th>\n",
       "      <th>NO2 1st Max Hour</th>\n",
       "      <th>NO2 AQI</th>\n",
       "      <th>AQI</th>\n",
       "    </tr>\n",
       "  </thead>\n",
       "  <tbody>\n",
       "    <tr>\n",
       "      <th>0</th>\n",
       "      <td>2000</td>\n",
       "      <td>1</td>\n",
       "      <td>1</td>\n",
       "      <td>38</td>\n",
       "      <td>2</td>\n",
       "      <td>75</td>\n",
       "      <td>102</td>\n",
       "      <td>0.019765</td>\n",
       "      <td>0.040</td>\n",
       "      <td>0.044230</td>\n",
       "      <td>...</td>\n",
       "      <td>0.337258</td>\n",
       "      <td>0.167534</td>\n",
       "      <td>5.377387</td>\n",
       "      <td>3.000000</td>\n",
       "      <td>1.793155</td>\n",
       "      <td>13.000000</td>\n",
       "      <td>19.041667</td>\n",
       "      <td>0.938098</td>\n",
       "      <td>46.00000</td>\n",
       "      <td>101.377387</td>\n",
       "    </tr>\n",
       "    <tr>\n",
       "      <th>1</th>\n",
       "      <td>2000</td>\n",
       "      <td>1</td>\n",
       "      <td>2</td>\n",
       "      <td>38</td>\n",
       "      <td>2</td>\n",
       "      <td>75</td>\n",
       "      <td>102</td>\n",
       "      <td>0.015882</td>\n",
       "      <td>0.032</td>\n",
       "      <td>0.044230</td>\n",
       "      <td>...</td>\n",
       "      <td>0.337258</td>\n",
       "      <td>-0.769753</td>\n",
       "      <td>5.377387</td>\n",
       "      <td>1.958333</td>\n",
       "      <td>1.940762</td>\n",
       "      <td>4.000000</td>\n",
       "      <td>22.958333</td>\n",
       "      <td>0.938098</td>\n",
       "      <td>34.00000</td>\n",
       "      <td>73.377387</td>\n",
       "    </tr>\n",
       "    <tr>\n",
       "      <th>2</th>\n",
       "      <td>2000</td>\n",
       "      <td>1</td>\n",
       "      <td>3</td>\n",
       "      <td>38</td>\n",
       "      <td>2</td>\n",
       "      <td>75</td>\n",
       "      <td>102</td>\n",
       "      <td>0.009353</td>\n",
       "      <td>0.016</td>\n",
       "      <td>-0.655063</td>\n",
       "      <td>...</td>\n",
       "      <td>0.337258</td>\n",
       "      <td>0.486023</td>\n",
       "      <td>5.377387</td>\n",
       "      <td>1.523358</td>\n",
       "      <td>1.497939</td>\n",
       "      <td>5.568708</td>\n",
       "      <td>11.738067</td>\n",
       "      <td>-0.457663</td>\n",
       "      <td>48.00000</td>\n",
       "      <td>73.946095</td>\n",
       "    </tr>\n",
       "    <tr>\n",
       "      <th>3</th>\n",
       "      <td>2000</td>\n",
       "      <td>1</td>\n",
       "      <td>4</td>\n",
       "      <td>38</td>\n",
       "      <td>2</td>\n",
       "      <td>75</td>\n",
       "      <td>102</td>\n",
       "      <td>0.015882</td>\n",
       "      <td>0.033</td>\n",
       "      <td>-0.655063</td>\n",
       "      <td>...</td>\n",
       "      <td>0.337258</td>\n",
       "      <td>0.167534</td>\n",
       "      <td>5.377387</td>\n",
       "      <td>1.523358</td>\n",
       "      <td>-0.125746</td>\n",
       "      <td>5.568708</td>\n",
       "      <td>11.738067</td>\n",
       "      <td>-0.457663</td>\n",
       "      <td>22.12424</td>\n",
       "      <td>64.070335</td>\n",
       "    </tr>\n",
       "    <tr>\n",
       "      <th>4</th>\n",
       "      <td>2000</td>\n",
       "      <td>1</td>\n",
       "      <td>5</td>\n",
       "      <td>38</td>\n",
       "      <td>2</td>\n",
       "      <td>75</td>\n",
       "      <td>102</td>\n",
       "      <td>0.007353</td>\n",
       "      <td>0.012</td>\n",
       "      <td>-0.655063</td>\n",
       "      <td>...</td>\n",
       "      <td>0.337258</td>\n",
       "      <td>-0.455809</td>\n",
       "      <td>5.377387</td>\n",
       "      <td>1.523358</td>\n",
       "      <td>-0.273353</td>\n",
       "      <td>5.568708</td>\n",
       "      <td>11.738067</td>\n",
       "      <td>1.318760</td>\n",
       "      <td>58.00000</td>\n",
       "      <td>79.946095</td>\n",
       "    </tr>\n",
       "    <tr>\n",
       "      <th>...</th>\n",
       "      <td>...</td>\n",
       "      <td>...</td>\n",
       "      <td>...</td>\n",
       "      <td>...</td>\n",
       "      <td>...</td>\n",
       "      <td>...</td>\n",
       "      <td>...</td>\n",
       "      <td>...</td>\n",
       "      <td>...</td>\n",
       "      <td>...</td>\n",
       "      <td>...</td>\n",
       "      <td>...</td>\n",
       "      <td>...</td>\n",
       "      <td>...</td>\n",
       "      <td>...</td>\n",
       "      <td>...</td>\n",
       "      <td>...</td>\n",
       "      <td>...</td>\n",
       "      <td>...</td>\n",
       "      <td>...</td>\n",
       "      <td>...</td>\n",
       "    </tr>\n",
       "    <tr>\n",
       "      <th>608694</th>\n",
       "      <td>2021</td>\n",
       "      <td>6</td>\n",
       "      <td>26</td>\n",
       "      <td>190</td>\n",
       "      <td>47</td>\n",
       "      <td>69</td>\n",
       "      <td>96</td>\n",
       "      <td>0.040588</td>\n",
       "      <td>0.049</td>\n",
       "      <td>0.044230</td>\n",
       "      <td>...</td>\n",
       "      <td>0.100000</td>\n",
       "      <td>-0.769753</td>\n",
       "      <td>1.000000</td>\n",
       "      <td>0.409091</td>\n",
       "      <td>-1.011392</td>\n",
       "      <td>0.000000</td>\n",
       "      <td>1.281818</td>\n",
       "      <td>-1.472762</td>\n",
       "      <td>2.00000</td>\n",
       "      <td>48.000000</td>\n",
       "    </tr>\n",
       "    <tr>\n",
       "      <th>608695</th>\n",
       "      <td>2021</td>\n",
       "      <td>6</td>\n",
       "      <td>27</td>\n",
       "      <td>190</td>\n",
       "      <td>47</td>\n",
       "      <td>69</td>\n",
       "      <td>96</td>\n",
       "      <td>0.037882</td>\n",
       "      <td>0.042</td>\n",
       "      <td>0.044230</td>\n",
       "      <td>...</td>\n",
       "      <td>0.100000</td>\n",
       "      <td>-0.769753</td>\n",
       "      <td>1.000000</td>\n",
       "      <td>0.325000</td>\n",
       "      <td>-0.716176</td>\n",
       "      <td>0.000000</td>\n",
       "      <td>1.104167</td>\n",
       "      <td>1.064985</td>\n",
       "      <td>2.00000</td>\n",
       "      <td>42.000000</td>\n",
       "    </tr>\n",
       "    <tr>\n",
       "      <th>608696</th>\n",
       "      <td>2021</td>\n",
       "      <td>6</td>\n",
       "      <td>28</td>\n",
       "      <td>190</td>\n",
       "      <td>47</td>\n",
       "      <td>69</td>\n",
       "      <td>96</td>\n",
       "      <td>0.039765</td>\n",
       "      <td>0.050</td>\n",
       "      <td>-0.655063</td>\n",
       "      <td>...</td>\n",
       "      <td>0.100000</td>\n",
       "      <td>-0.769753</td>\n",
       "      <td>1.000000</td>\n",
       "      <td>0.326087</td>\n",
       "      <td>-1.011392</td>\n",
       "      <td>0.000000</td>\n",
       "      <td>1.678261</td>\n",
       "      <td>1.445647</td>\n",
       "      <td>5.00000</td>\n",
       "      <td>52.000000</td>\n",
       "    </tr>\n",
       "    <tr>\n",
       "      <th>608697</th>\n",
       "      <td>2021</td>\n",
       "      <td>6</td>\n",
       "      <td>29</td>\n",
       "      <td>190</td>\n",
       "      <td>47</td>\n",
       "      <td>69</td>\n",
       "      <td>96</td>\n",
       "      <td>0.049176</td>\n",
       "      <td>0.058</td>\n",
       "      <td>0.044230</td>\n",
       "      <td>...</td>\n",
       "      <td>0.066667</td>\n",
       "      <td>-0.769753</td>\n",
       "      <td>1.000000</td>\n",
       "      <td>0.317391</td>\n",
       "      <td>1.645547</td>\n",
       "      <td>0.000000</td>\n",
       "      <td>2.934783</td>\n",
       "      <td>-1.472762</td>\n",
       "      <td>7.00000</td>\n",
       "      <td>69.000000</td>\n",
       "    </tr>\n",
       "    <tr>\n",
       "      <th>608698</th>\n",
       "      <td>2021</td>\n",
       "      <td>6</td>\n",
       "      <td>30</td>\n",
       "      <td>190</td>\n",
       "      <td>47</td>\n",
       "      <td>69</td>\n",
       "      <td>96</td>\n",
       "      <td>0.052333</td>\n",
       "      <td>0.054</td>\n",
       "      <td>1.442816</td>\n",
       "      <td>...</td>\n",
       "      <td>0.054167</td>\n",
       "      <td>-0.769753</td>\n",
       "      <td>1.000000</td>\n",
       "      <td>0.366667</td>\n",
       "      <td>-0.863784</td>\n",
       "      <td>0.000000</td>\n",
       "      <td>2.762500</td>\n",
       "      <td>-0.838325</td>\n",
       "      <td>7.00000</td>\n",
       "      <td>58.000000</td>\n",
       "    </tr>\n",
       "  </tbody>\n",
       "</table>\n",
       "<p>608699 rows × 21 columns</p>\n",
       "</div>"
      ],
      "text/plain": [
       "        Year  Month  Day  Address  State  County  City   O3 Mean  \\\n",
       "0       2000      1    1       38      2      75   102  0.019765   \n",
       "1       2000      1    2       38      2      75   102  0.015882   \n",
       "2       2000      1    3       38      2      75   102  0.009353   \n",
       "3       2000      1    4       38      2      75   102  0.015882   \n",
       "4       2000      1    5       38      2      75   102  0.007353   \n",
       "...      ...    ...  ...      ...    ...     ...   ...       ...   \n",
       "608694  2021      6   26      190     47      69    96  0.040588   \n",
       "608695  2021      6   27      190     47      69    96  0.037882   \n",
       "608696  2021      6   28      190     47      69    96  0.039765   \n",
       "608697  2021      6   29      190     47      69    96  0.049176   \n",
       "608698  2021      6   30      190     47      69    96  0.052333   \n",
       "\n",
       "        O3 1st Max Value  O3 1st Max Hour  ...   CO Mean  CO 1st Max Hour  \\\n",
       "0                  0.040         0.044230  ...  0.337258         0.167534   \n",
       "1                  0.032         0.044230  ...  0.337258        -0.769753   \n",
       "2                  0.016        -0.655063  ...  0.337258         0.486023   \n",
       "3                  0.033        -0.655063  ...  0.337258         0.167534   \n",
       "4                  0.012        -0.655063  ...  0.337258        -0.455809   \n",
       "...                  ...              ...  ...       ...              ...   \n",
       "608694             0.049         0.044230  ...  0.100000        -0.769753   \n",
       "608695             0.042         0.044230  ...  0.100000        -0.769753   \n",
       "608696             0.050        -0.655063  ...  0.100000        -0.769753   \n",
       "608697             0.058         0.044230  ...  0.066667        -0.769753   \n",
       "608698             0.054         1.442816  ...  0.054167        -0.769753   \n",
       "\n",
       "          CO AQI  SO2 Mean  SO2 1st Max Hour    SO2 AQI   NO2 Mean  \\\n",
       "0       5.377387  3.000000          1.793155  13.000000  19.041667   \n",
       "1       5.377387  1.958333          1.940762   4.000000  22.958333   \n",
       "2       5.377387  1.523358          1.497939   5.568708  11.738067   \n",
       "3       5.377387  1.523358         -0.125746   5.568708  11.738067   \n",
       "4       5.377387  1.523358         -0.273353   5.568708  11.738067   \n",
       "...          ...       ...               ...        ...        ...   \n",
       "608694  1.000000  0.409091         -1.011392   0.000000   1.281818   \n",
       "608695  1.000000  0.325000         -0.716176   0.000000   1.104167   \n",
       "608696  1.000000  0.326087         -1.011392   0.000000   1.678261   \n",
       "608697  1.000000  0.317391          1.645547   0.000000   2.934783   \n",
       "608698  1.000000  0.366667         -0.863784   0.000000   2.762500   \n",
       "\n",
       "        NO2 1st Max Hour   NO2 AQI         AQI  \n",
       "0               0.938098  46.00000  101.377387  \n",
       "1               0.938098  34.00000   73.377387  \n",
       "2              -0.457663  48.00000   73.946095  \n",
       "3              -0.457663  22.12424   64.070335  \n",
       "4               1.318760  58.00000   79.946095  \n",
       "...                  ...       ...         ...  \n",
       "608694         -1.472762   2.00000   48.000000  \n",
       "608695          1.064985   2.00000   42.000000  \n",
       "608696          1.445647   5.00000   52.000000  \n",
       "608697         -1.472762   7.00000   69.000000  \n",
       "608698         -0.838325   7.00000   58.000000  \n",
       "\n",
       "[608699 rows x 21 columns]"
      ]
     },
     "execution_count": 114,
     "metadata": {},
     "output_type": "execute_result"
    }
   ],
   "source": [
    "data"
   ]
  },
  {
   "cell_type": "code",
   "execution_count": null,
   "id": "63a74293",
   "metadata": {},
   "outputs": [],
   "source": []
  }
 ],
 "metadata": {
  "kernelspec": {
   "display_name": "Python 3 (ipykernel)",
   "language": "python",
   "name": "python3"
  },
  "language_info": {
   "codemirror_mode": {
    "name": "ipython",
    "version": 3
   },
   "file_extension": ".py",
   "mimetype": "text/x-python",
   "name": "python",
   "nbconvert_exporter": "python",
   "pygments_lexer": "ipython3",
   "version": "3.9.7"
  }
 },
 "nbformat": 4,
 "nbformat_minor": 5
}
