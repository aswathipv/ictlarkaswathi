{
 "cells": [
  {
   "cell_type": "markdown",
   "id": "35ecc8c8",
   "metadata": {},
   "source": [
    "# Read dataset"
   ]
  },
  {
   "cell_type": "code",
   "execution_count": 2,
   "id": "0dff5bc6",
   "metadata": {},
   "outputs": [],
   "source": [
    "import pandas as pd"
   ]
  },
  {
   "cell_type": "code",
   "execution_count": 3,
   "id": "1826c71a",
   "metadata": {},
   "outputs": [],
   "source": [
    "data=pd.read_csv('pollution_2000_2021.csv')"
   ]
  },
  {
   "cell_type": "markdown",
   "id": "50232f2a",
   "metadata": {},
   "source": [
    "# Display columns"
   ]
  },
  {
   "cell_type": "markdown",
   "id": "0dfacfa0",
   "metadata": {},
   "source": [
    "# Outlier handling and Filling Outlier with mean"
   ]
  },
  {
   "cell_type": "code",
   "execution_count": 4,
   "id": "2ef962e5",
   "metadata": {},
   "outputs": [],
   "source": [
    "data=data.fillna(0)"
   ]
  },
  {
   "cell_type": "code",
   "execution_count": 5,
   "id": "6d16dfa9",
   "metadata": {},
   "outputs": [],
   "source": [
    "def outlier_handling(data):\n",
    "    q1 = data.quantile(0.25)\n",
    "    q3 = data.quantile(0.75)\n",
    "    iqr = q3 - q1\n",
    "    q_limit = 1.5 * iqr\n",
    "    upper_limit = q3 + q_limit\n",
    "    lower_limt = q1 - q_limit\n",
    "    outliers = data.loc[(data < lower_limt) ^ (data > upper_limit)].tolist()\n",
    "    idx = data.loc[(data < lower_limt) ^ (data > upper_limit)].index.tolist()\n",
    "    return outliers, idx"
   ]
  },
  {
   "cell_type": "code",
   "execution_count": 6,
   "id": "cd5938e8",
   "metadata": {},
   "outputs": [],
   "source": [
    "co1_outlier_list, co1_outlier_index = outlier_handling(data['CO 1st Max Value'])\n",
    "co1h_outlier_list, co1h_outlier_index = outlier_handling(data['CO 1st Max Hour'])\n",
    "coaqi_oulliers, coaqi_outlier_index = outlier_handling(data['CO AQI'])\n",
    "co_mean,co_mean_index=outlier_handling(data['CO Mean'])"
   ]
  },
  {
   "cell_type": "code",
   "execution_count": 7,
   "id": "6d5f599f",
   "metadata": {},
   "outputs": [],
   "source": [
    "so1_outlier_list, so1_outlier_index = outlier_handling(data['SO2 1st Max Value'])\n",
    "so1h_outlier_list, so1h_outlier_index = outlier_handling(data['SO2 1st Max Hour'])\n",
    "soaqi_oulliers, soaqi_outlier_index = outlier_handling(data['SO2 AQI'])\n",
    "so_mean,so_mean_index=outlier_handling(data['SO2 Mean'])"
   ]
  },
  {
   "cell_type": "code",
   "execution_count": 8,
   "id": "3ff7ac8a",
   "metadata": {},
   "outputs": [],
   "source": [
    "no1_outlier_list, no1_outlier_index = outlier_handling(data['NO2 1st Max Value'])\n",
    "no1h_outlier_list, no1h_outlier_index = outlier_handling(data['NO2 1st Max Hour'])\n",
    "noaqi_oulliers, noaqi_outlier_index = outlier_handling(data['NO2 AQI'])\n",
    "no_mean,no_mean_index=outlier_handling(data['NO2 Mean'])"
   ]
  },
  {
   "cell_type": "code",
   "execution_count": 9,
   "id": "963e08fe",
   "metadata": {},
   "outputs": [],
   "source": [
    "o3_outlier_list, o3_outlier_index = outlier_handling(data['O3 1st Max Value'])\n",
    "o3h_outlier_list, o3h_outlier_index = outlier_handling(data['O3 1st Max Hour'])\n",
    "o3aqi_oulliers, o3aqi_outlier_index = outlier_handling(data['O3 AQI'])\n",
    "o3_mean,o3_mean_index=outlier_handling(data['O3 Mean'])"
   ]
  },
  {
   "cell_type": "code",
   "execution_count": 10,
   "id": "bca41da9",
   "metadata": {},
   "outputs": [],
   "source": [
    "data['O3 Mean'].replace([o3_mean], data['O3 Mean'].mean(), inplace=True)"
   ]
  },
  {
   "cell_type": "code",
   "execution_count": 11,
   "id": "ae1b2200",
   "metadata": {},
   "outputs": [],
   "source": [
    "data['NO2 Mean'].replace([no_mean], data['NO2 Mean'].mean(), inplace=True)"
   ]
  },
  {
   "cell_type": "code",
   "execution_count": 12,
   "id": "e58f16c7",
   "metadata": {},
   "outputs": [],
   "source": [
    "data['NO2 1st Max Value'].replace([no1_outlier_list], data['NO2 1st Max Value'].mean(), inplace=True)\n",
    "data['NO2 1st Max Hour'].replace([no1h_outlier_list], data['NO2 1st Max Hour'].mean(), inplace=True)"
   ]
  },
  {
   "cell_type": "code",
   "execution_count": 13,
   "id": "8e4ede3b",
   "metadata": {},
   "outputs": [],
   "source": [
    "data['NO2 AQI'].replace([noaqi_oulliers], data['NO2 AQI'].mean(), inplace=True)"
   ]
  },
  {
   "cell_type": "code",
   "execution_count": 14,
   "id": "25d919fa",
   "metadata": {},
   "outputs": [],
   "source": [
    "data['O3 1st Max Value'].replace([o3_outlier_list], data['O3 1st Max Value'].mean(), inplace=True)"
   ]
  },
  {
   "cell_type": "code",
   "execution_count": 15,
   "id": "dad439b3",
   "metadata": {},
   "outputs": [],
   "source": [
    "data['O3 1st Max Hour'].replace([o3h_outlier_list], data['O3 1st Max Hour'].mean(), inplace=True)"
   ]
  },
  {
   "cell_type": "code",
   "execution_count": 16,
   "id": "c027e079",
   "metadata": {},
   "outputs": [],
   "source": [
    "data['O3 AQI'].replace([o3aqi_oulliers], data['O3 AQI'].mean(), inplace=True)"
   ]
  },
  {
   "cell_type": "code",
   "execution_count": 17,
   "id": "63fb67df",
   "metadata": {},
   "outputs": [],
   "source": [
    "data['CO 1st Max Value'].replace([co1_outlier_list], data['CO 1st Max Value'].mean(), inplace=True)\n",
    "data['CO 1st Max Hour'].replace([co1h_outlier_list], data['CO 1st Max Hour'].mean(), inplace=True)\n",
    "data['CO Mean'].replace([co_mean], data['CO Mean'].mean(), inplace=True)\n",
    "data['CO AQI'].replace([coaqi_oulliers], data['CO AQI'].mean(), inplace=True)"
   ]
  },
  {
   "cell_type": "code",
   "execution_count": 18,
   "id": "4a896148",
   "metadata": {},
   "outputs": [],
   "source": [
    "data['SO2 AQI'].replace([soaqi_oulliers], data['SO2 AQI'].mean(), inplace=True)\n",
    "data['SO2 1st Max Value'].replace([so1_outlier_list], data['SO2 1st Max Value'].mean(), inplace=True)\n",
    "data['SO2 1st Max Hour'].replace([so1h_outlier_list], data['SO2 1st Max Hour'].mean(), inplace=True)\n",
    "data['SO2 Mean'].replace([so_mean], data['SO2 Mean'].mean(), inplace=True)\n"
   ]
  },
  {
   "cell_type": "markdown",
   "id": "12b54d70",
   "metadata": {},
   "source": [
    "# Label encoding"
   ]
  },
  {
   "cell_type": "code",
   "execution_count": 19,
   "id": "088f99af",
   "metadata": {},
   "outputs": [],
   "source": [
    "from sklearn.preprocessing import LabelEncoder\n",
    "lb=LabelEncoder()\n",
    "data['State']=lb.fit_transform(data['State'])"
   ]
  },
  {
   "cell_type": "code",
   "execution_count": 20,
   "id": "d50c10fe",
   "metadata": {},
   "outputs": [],
   "source": [
    "data['County']=lb.fit_transform(data['County'])"
   ]
  },
  {
   "cell_type": "code",
   "execution_count": 21,
   "id": "814288b3",
   "metadata": {},
   "outputs": [],
   "source": [
    "data['City']=lb.fit_transform(data['City'])"
   ]
  },
  {
   "cell_type": "code",
   "execution_count": 22,
   "id": "85fa0547",
   "metadata": {},
   "outputs": [],
   "source": [
    "data['Address']=lb.fit_transform(data['Address'])"
   ]
  },
  {
   "cell_type": "markdown",
   "id": "86b85a29",
   "metadata": {},
   "source": [
    "# Feature Reduction"
   ]
  },
  {
   "cell_type": "code",
   "execution_count": 23,
   "id": "e2878675",
   "metadata": {},
   "outputs": [],
   "source": [
    "data=data.drop(['Date'],axis=1)"
   ]
  },
  {
   "cell_type": "code",
   "execution_count": 24,
   "id": "c37fb712",
   "metadata": {},
   "outputs": [],
   "source": [
    "data=data.drop(['NO2 1st Max Value'],axis=1)"
   ]
  },
  {
   "cell_type": "code",
   "execution_count": 25,
   "id": "93569ce9",
   "metadata": {},
   "outputs": [],
   "source": [
    "data=data.drop(['SO2 1st Max Value'],axis=1)"
   ]
  },
  {
   "cell_type": "code",
   "execution_count": 26,
   "id": "bd67c3b5",
   "metadata": {},
   "outputs": [],
   "source": [
    "data=data.drop(['CO 1st Max Value'],axis=1)"
   ]
  },
  {
   "cell_type": "markdown",
   "id": "06c136cb",
   "metadata": {},
   "source": [
    "# Feature engineering"
   ]
  },
  {
   "cell_type": "code",
   "execution_count": 27,
   "id": "7e2a54a9",
   "metadata": {},
   "outputs": [],
   "source": [
    "data['AQI']=data['O3 AQI']+data['CO AQI']+data['SO2 AQI']+data['NO2 AQI']"
   ]
  },
  {
   "cell_type": "code",
   "execution_count": 28,
   "id": "100d9ea8",
   "metadata": {},
   "outputs": [
    {
     "data": {
      "text/html": [
       "<div>\n",
       "<style scoped>\n",
       "    .dataframe tbody tr th:only-of-type {\n",
       "        vertical-align: middle;\n",
       "    }\n",
       "\n",
       "    .dataframe tbody tr th {\n",
       "        vertical-align: top;\n",
       "    }\n",
       "\n",
       "    .dataframe thead th {\n",
       "        text-align: right;\n",
       "    }\n",
       "</style>\n",
       "<table border=\"1\" class=\"dataframe\">\n",
       "  <thead>\n",
       "    <tr style=\"text-align: right;\">\n",
       "      <th></th>\n",
       "      <th>Year</th>\n",
       "      <th>Month</th>\n",
       "      <th>Day</th>\n",
       "      <th>Address</th>\n",
       "      <th>State</th>\n",
       "      <th>County</th>\n",
       "      <th>City</th>\n",
       "      <th>O3 Mean</th>\n",
       "      <th>O3 1st Max Value</th>\n",
       "      <th>O3 1st Max Hour</th>\n",
       "      <th>...</th>\n",
       "      <th>CO Mean</th>\n",
       "      <th>CO 1st Max Hour</th>\n",
       "      <th>CO AQI</th>\n",
       "      <th>SO2 Mean</th>\n",
       "      <th>SO2 1st Max Hour</th>\n",
       "      <th>SO2 AQI</th>\n",
       "      <th>NO2 Mean</th>\n",
       "      <th>NO2 1st Max Hour</th>\n",
       "      <th>NO2 AQI</th>\n",
       "      <th>AQI</th>\n",
       "    </tr>\n",
       "  </thead>\n",
       "  <tbody>\n",
       "    <tr>\n",
       "      <th>0</th>\n",
       "      <td>2000</td>\n",
       "      <td>1</td>\n",
       "      <td>1</td>\n",
       "      <td>38</td>\n",
       "      <td>2</td>\n",
       "      <td>75</td>\n",
       "      <td>102</td>\n",
       "      <td>0.019765</td>\n",
       "      <td>0.040000</td>\n",
       "      <td>10.0</td>\n",
       "      <td>...</td>\n",
       "      <td>0.337258</td>\n",
       "      <td>5.971042</td>\n",
       "      <td>5.377387</td>\n",
       "      <td>3.000000</td>\n",
       "      <td>21</td>\n",
       "      <td>13.000000</td>\n",
       "      <td>19.041667</td>\n",
       "      <td>19</td>\n",
       "      <td>46.00000</td>\n",
       "      <td>101.377387</td>\n",
       "    </tr>\n",
       "    <tr>\n",
       "      <th>1</th>\n",
       "      <td>2000</td>\n",
       "      <td>1</td>\n",
       "      <td>2</td>\n",
       "      <td>38</td>\n",
       "      <td>2</td>\n",
       "      <td>75</td>\n",
       "      <td>102</td>\n",
       "      <td>0.015882</td>\n",
       "      <td>0.032000</td>\n",
       "      <td>10.0</td>\n",
       "      <td>...</td>\n",
       "      <td>0.337258</td>\n",
       "      <td>0.000000</td>\n",
       "      <td>5.377387</td>\n",
       "      <td>1.958333</td>\n",
       "      <td>22</td>\n",
       "      <td>4.000000</td>\n",
       "      <td>22.958333</td>\n",
       "      <td>19</td>\n",
       "      <td>34.00000</td>\n",
       "      <td>73.377387</td>\n",
       "    </tr>\n",
       "    <tr>\n",
       "      <th>2</th>\n",
       "      <td>2000</td>\n",
       "      <td>1</td>\n",
       "      <td>3</td>\n",
       "      <td>38</td>\n",
       "      <td>2</td>\n",
       "      <td>75</td>\n",
       "      <td>102</td>\n",
       "      <td>0.009353</td>\n",
       "      <td>0.016000</td>\n",
       "      <td>9.0</td>\n",
       "      <td>...</td>\n",
       "      <td>0.337258</td>\n",
       "      <td>8.000000</td>\n",
       "      <td>5.377387</td>\n",
       "      <td>1.523358</td>\n",
       "      <td>19</td>\n",
       "      <td>5.568708</td>\n",
       "      <td>11.738067</td>\n",
       "      <td>8</td>\n",
       "      <td>48.00000</td>\n",
       "      <td>73.946095</td>\n",
       "    </tr>\n",
       "    <tr>\n",
       "      <th>3</th>\n",
       "      <td>2000</td>\n",
       "      <td>1</td>\n",
       "      <td>4</td>\n",
       "      <td>38</td>\n",
       "      <td>2</td>\n",
       "      <td>75</td>\n",
       "      <td>102</td>\n",
       "      <td>0.015882</td>\n",
       "      <td>0.038903</td>\n",
       "      <td>9.0</td>\n",
       "      <td>...</td>\n",
       "      <td>0.337258</td>\n",
       "      <td>5.971042</td>\n",
       "      <td>5.377387</td>\n",
       "      <td>1.523358</td>\n",
       "      <td>8</td>\n",
       "      <td>5.568708</td>\n",
       "      <td>11.738067</td>\n",
       "      <td>8</td>\n",
       "      <td>22.12424</td>\n",
       "      <td>64.070335</td>\n",
       "    </tr>\n",
       "    <tr>\n",
       "      <th>4</th>\n",
       "      <td>2000</td>\n",
       "      <td>1</td>\n",
       "      <td>5</td>\n",
       "      <td>38</td>\n",
       "      <td>2</td>\n",
       "      <td>75</td>\n",
       "      <td>102</td>\n",
       "      <td>0.007353</td>\n",
       "      <td>0.012000</td>\n",
       "      <td>9.0</td>\n",
       "      <td>...</td>\n",
       "      <td>0.337258</td>\n",
       "      <td>2.000000</td>\n",
       "      <td>5.377387</td>\n",
       "      <td>1.523358</td>\n",
       "      <td>7</td>\n",
       "      <td>5.568708</td>\n",
       "      <td>11.738067</td>\n",
       "      <td>22</td>\n",
       "      <td>58.00000</td>\n",
       "      <td>79.946095</td>\n",
       "    </tr>\n",
       "    <tr>\n",
       "      <th>...</th>\n",
       "      <td>...</td>\n",
       "      <td>...</td>\n",
       "      <td>...</td>\n",
       "      <td>...</td>\n",
       "      <td>...</td>\n",
       "      <td>...</td>\n",
       "      <td>...</td>\n",
       "      <td>...</td>\n",
       "      <td>...</td>\n",
       "      <td>...</td>\n",
       "      <td>...</td>\n",
       "      <td>...</td>\n",
       "      <td>...</td>\n",
       "      <td>...</td>\n",
       "      <td>...</td>\n",
       "      <td>...</td>\n",
       "      <td>...</td>\n",
       "      <td>...</td>\n",
       "      <td>...</td>\n",
       "      <td>...</td>\n",
       "      <td>...</td>\n",
       "    </tr>\n",
       "    <tr>\n",
       "      <th>608694</th>\n",
       "      <td>2021</td>\n",
       "      <td>6</td>\n",
       "      <td>26</td>\n",
       "      <td>190</td>\n",
       "      <td>47</td>\n",
       "      <td>69</td>\n",
       "      <td>96</td>\n",
       "      <td>0.040588</td>\n",
       "      <td>0.049000</td>\n",
       "      <td>10.0</td>\n",
       "      <td>...</td>\n",
       "      <td>0.100000</td>\n",
       "      <td>0.000000</td>\n",
       "      <td>1.000000</td>\n",
       "      <td>0.409091</td>\n",
       "      <td>2</td>\n",
       "      <td>0.000000</td>\n",
       "      <td>1.281818</td>\n",
       "      <td>0</td>\n",
       "      <td>2.00000</td>\n",
       "      <td>48.000000</td>\n",
       "    </tr>\n",
       "    <tr>\n",
       "      <th>608695</th>\n",
       "      <td>2021</td>\n",
       "      <td>6</td>\n",
       "      <td>27</td>\n",
       "      <td>190</td>\n",
       "      <td>47</td>\n",
       "      <td>69</td>\n",
       "      <td>96</td>\n",
       "      <td>0.037882</td>\n",
       "      <td>0.042000</td>\n",
       "      <td>10.0</td>\n",
       "      <td>...</td>\n",
       "      <td>0.100000</td>\n",
       "      <td>0.000000</td>\n",
       "      <td>1.000000</td>\n",
       "      <td>0.325000</td>\n",
       "      <td>4</td>\n",
       "      <td>0.000000</td>\n",
       "      <td>1.104167</td>\n",
       "      <td>20</td>\n",
       "      <td>2.00000</td>\n",
       "      <td>42.000000</td>\n",
       "    </tr>\n",
       "    <tr>\n",
       "      <th>608696</th>\n",
       "      <td>2021</td>\n",
       "      <td>6</td>\n",
       "      <td>28</td>\n",
       "      <td>190</td>\n",
       "      <td>47</td>\n",
       "      <td>69</td>\n",
       "      <td>96</td>\n",
       "      <td>0.039765</td>\n",
       "      <td>0.050000</td>\n",
       "      <td>9.0</td>\n",
       "      <td>...</td>\n",
       "      <td>0.100000</td>\n",
       "      <td>0.000000</td>\n",
       "      <td>1.000000</td>\n",
       "      <td>0.326087</td>\n",
       "      <td>2</td>\n",
       "      <td>0.000000</td>\n",
       "      <td>1.678261</td>\n",
       "      <td>23</td>\n",
       "      <td>5.00000</td>\n",
       "      <td>52.000000</td>\n",
       "    </tr>\n",
       "    <tr>\n",
       "      <th>608697</th>\n",
       "      <td>2021</td>\n",
       "      <td>6</td>\n",
       "      <td>29</td>\n",
       "      <td>190</td>\n",
       "      <td>47</td>\n",
       "      <td>69</td>\n",
       "      <td>96</td>\n",
       "      <td>0.049176</td>\n",
       "      <td>0.058000</td>\n",
       "      <td>10.0</td>\n",
       "      <td>...</td>\n",
       "      <td>0.066667</td>\n",
       "      <td>0.000000</td>\n",
       "      <td>1.000000</td>\n",
       "      <td>0.317391</td>\n",
       "      <td>20</td>\n",
       "      <td>0.000000</td>\n",
       "      <td>2.934783</td>\n",
       "      <td>0</td>\n",
       "      <td>7.00000</td>\n",
       "      <td>69.000000</td>\n",
       "    </tr>\n",
       "    <tr>\n",
       "      <th>608698</th>\n",
       "      <td>2021</td>\n",
       "      <td>6</td>\n",
       "      <td>30</td>\n",
       "      <td>190</td>\n",
       "      <td>47</td>\n",
       "      <td>69</td>\n",
       "      <td>96</td>\n",
       "      <td>0.052333</td>\n",
       "      <td>0.054000</td>\n",
       "      <td>12.0</td>\n",
       "      <td>...</td>\n",
       "      <td>0.054167</td>\n",
       "      <td>0.000000</td>\n",
       "      <td>1.000000</td>\n",
       "      <td>0.366667</td>\n",
       "      <td>3</td>\n",
       "      <td>0.000000</td>\n",
       "      <td>2.762500</td>\n",
       "      <td>5</td>\n",
       "      <td>7.00000</td>\n",
       "      <td>58.000000</td>\n",
       "    </tr>\n",
       "  </tbody>\n",
       "</table>\n",
       "<p>608699 rows × 21 columns</p>\n",
       "</div>"
      ],
      "text/plain": [
       "        Year  Month  Day  Address  State  County  City   O3 Mean  \\\n",
       "0       2000      1    1       38      2      75   102  0.019765   \n",
       "1       2000      1    2       38      2      75   102  0.015882   \n",
       "2       2000      1    3       38      2      75   102  0.009353   \n",
       "3       2000      1    4       38      2      75   102  0.015882   \n",
       "4       2000      1    5       38      2      75   102  0.007353   \n",
       "...      ...    ...  ...      ...    ...     ...   ...       ...   \n",
       "608694  2021      6   26      190     47      69    96  0.040588   \n",
       "608695  2021      6   27      190     47      69    96  0.037882   \n",
       "608696  2021      6   28      190     47      69    96  0.039765   \n",
       "608697  2021      6   29      190     47      69    96  0.049176   \n",
       "608698  2021      6   30      190     47      69    96  0.052333   \n",
       "\n",
       "        O3 1st Max Value  O3 1st Max Hour  ...   CO Mean  CO 1st Max Hour  \\\n",
       "0               0.040000             10.0  ...  0.337258         5.971042   \n",
       "1               0.032000             10.0  ...  0.337258         0.000000   \n",
       "2               0.016000              9.0  ...  0.337258         8.000000   \n",
       "3               0.038903              9.0  ...  0.337258         5.971042   \n",
       "4               0.012000              9.0  ...  0.337258         2.000000   \n",
       "...                  ...              ...  ...       ...              ...   \n",
       "608694          0.049000             10.0  ...  0.100000         0.000000   \n",
       "608695          0.042000             10.0  ...  0.100000         0.000000   \n",
       "608696          0.050000              9.0  ...  0.100000         0.000000   \n",
       "608697          0.058000             10.0  ...  0.066667         0.000000   \n",
       "608698          0.054000             12.0  ...  0.054167         0.000000   \n",
       "\n",
       "          CO AQI  SO2 Mean  SO2 1st Max Hour    SO2 AQI   NO2 Mean  \\\n",
       "0       5.377387  3.000000                21  13.000000  19.041667   \n",
       "1       5.377387  1.958333                22   4.000000  22.958333   \n",
       "2       5.377387  1.523358                19   5.568708  11.738067   \n",
       "3       5.377387  1.523358                 8   5.568708  11.738067   \n",
       "4       5.377387  1.523358                 7   5.568708  11.738067   \n",
       "...          ...       ...               ...        ...        ...   \n",
       "608694  1.000000  0.409091                 2   0.000000   1.281818   \n",
       "608695  1.000000  0.325000                 4   0.000000   1.104167   \n",
       "608696  1.000000  0.326087                 2   0.000000   1.678261   \n",
       "608697  1.000000  0.317391                20   0.000000   2.934783   \n",
       "608698  1.000000  0.366667                 3   0.000000   2.762500   \n",
       "\n",
       "        NO2 1st Max Hour   NO2 AQI         AQI  \n",
       "0                     19  46.00000  101.377387  \n",
       "1                     19  34.00000   73.377387  \n",
       "2                      8  48.00000   73.946095  \n",
       "3                      8  22.12424   64.070335  \n",
       "4                     22  58.00000   79.946095  \n",
       "...                  ...       ...         ...  \n",
       "608694                 0   2.00000   48.000000  \n",
       "608695                20   2.00000   42.000000  \n",
       "608696                23   5.00000   52.000000  \n",
       "608697                 0   7.00000   69.000000  \n",
       "608698                 5   7.00000   58.000000  \n",
       "\n",
       "[608699 rows x 21 columns]"
      ]
     },
     "execution_count": 28,
     "metadata": {},
     "output_type": "execute_result"
    }
   ],
   "source": [
    "data"
   ]
  },
  {
   "cell_type": "code",
   "execution_count": 29,
   "id": "8f451fc6",
   "metadata": {},
   "outputs": [],
   "source": [
    "data=data.drop(['Address'],axis=1)"
   ]
  },
  {
   "cell_type": "code",
   "execution_count": 30,
   "id": "dc0be4b6",
   "metadata": {},
   "outputs": [],
   "source": [
    "data=data.drop(['O3 AQI'],axis=1)"
   ]
  },
  {
   "cell_type": "code",
   "execution_count": 31,
   "id": "00bea7c8",
   "metadata": {},
   "outputs": [],
   "source": [
    "data=data.drop(['CO AQI'],axis=1)"
   ]
  },
  {
   "cell_type": "code",
   "execution_count": 32,
   "id": "6fa2c454",
   "metadata": {},
   "outputs": [],
   "source": [
    "data=data.drop(['SO2 AQI'],axis=1)"
   ]
  },
  {
   "cell_type": "code",
   "execution_count": 33,
   "id": "82c64e1f",
   "metadata": {},
   "outputs": [],
   "source": [
    "data=data.drop(['NO2 AQI'],axis=1)"
   ]
  },
  {
   "cell_type": "code",
   "execution_count": 34,
   "id": "c0f2d6fd",
   "metadata": {},
   "outputs": [
    {
     "data": {
      "text/plain": [
       "0         101.377387\n",
       "1          73.377387\n",
       "2          73.946095\n",
       "3          64.070335\n",
       "4          79.946095\n",
       "             ...    \n",
       "608694     48.000000\n",
       "608695     42.000000\n",
       "608696     52.000000\n",
       "608697     69.000000\n",
       "608698     58.000000\n",
       "Name: AQI, Length: 608699, dtype: float64"
      ]
     },
     "execution_count": 34,
     "metadata": {},
     "output_type": "execute_result"
    }
   ],
   "source": [
    "data['AQI']"
   ]
  },
  {
   "cell_type": "markdown",
   "id": "edb36aaf",
   "metadata": {},
   "source": [
    "# CLASSIFICATION"
   ]
  },
  {
   "cell_type": "code",
   "execution_count": 38,
   "id": "d0da3772",
   "metadata": {},
   "outputs": [],
   "source": [
    "y=data['quality']\n",
    "x=data[['County','State','City','Year']]"
   ]
  },
  {
   "cell_type": "code",
   "execution_count": 39,
   "id": "49e5fa59",
   "metadata": {},
   "outputs": [],
   "source": [
    "from sklearn.model_selection import train_test_split\n",
    "import pickle\n",
    "X_train,X_test,Y_train,Y_test =train_test_split(x,y,random_state=42,test_size=0.2)\n",
    "from sklearn.ensemble import RandomForestClassifier\n",
    "rf_model=RandomForestClassifier()\n",
    "rf_model.fit(X_train,Y_train)\n",
    "pickle.dump(rf_model,open('model.pkl','wb') )\n",
    "y_pred=rf_model.predict(X_test)\n",
    "from sklearn.metrics import f1_score,confusion_matrix,accuracy_score"
   ]
  },
  {
   "cell_type": "code",
   "execution_count": null,
   "id": "d2c2f425",
   "metadata": {},
   "outputs": [
    {
     "data": {
      "text/plain": [
       "0.734647609659931"
      ]
     },
     "execution_count": 52,
     "metadata": {},
     "output_type": "execute_result"
    }
   ],
   "source": [
    "acc=accuracy_score(Y_test,y_pred)\n",
    "acc"
   ]
  },
  {
   "cell_type": "code",
   "execution_count": 41,
   "id": "51459a9f",
   "metadata": {},
   "outputs": [],
   "source": [
    "from sklearn.preprocessing import StandardScaler\n",
    "std= StandardScaler()\n",
    "mat=data['NO2 1st Max Hour'].values.reshape(-1,1)\n",
    "scale = std.fit_transform(mat) \n",
    "data['NO2 1st Max Hour']=scale\n",
    "mat=data['SO2 1st Max Hour'].values.reshape(-1,1)\n",
    "scale = std.fit_transform(mat) \n",
    "data['SO2 1st Max Hour']=scale\n",
    "mat=data['O3 1st Max Hour'].values.reshape(-1,1)\n",
    "scale = std.fit_transform(mat) \n",
    "data['O3 1st Max Hour']=scale\n",
    "mat=data['CO 1st Max Hour'].values.reshape(-1,1)\n",
    "scale = std.fit_transform(mat) \n",
    "data['CO 1st Max Hour']=scale"
   ]
  },
  {
   "cell_type": "code",
   "execution_count": 42,
   "id": "e54bcc7f",
   "metadata": {},
   "outputs": [
    {
     "data": {
      "text/plain": [
       "0.7407672088056514"
      ]
     },
     "execution_count": 42,
     "metadata": {},
     "output_type": "execute_result"
    }
   ],
   "source": [
    "rf_model.fit(X_train,Y_train)\n",
    "y_pred=rf_model.predict(X_test)\n",
    "from sklearn.metrics import f1_score,confusion_matrix,accuracy_score\n",
    "acc=accuracy_score(Y_test,y_pred)\n",
    "acc"
   ]
  },
  {
   "cell_type": "code",
   "execution_count": 43,
   "id": "ffa7a55b",
   "metadata": {},
   "outputs": [
    {
     "data": {
      "text/plain": [
       "array([3, 2, 2, ..., 2, 2, 2], dtype=int64)"
      ]
     },
     "execution_count": 43,
     "metadata": {},
     "output_type": "execute_result"
    }
   ],
   "source": [
    "y_pred"
   ]
  },
  {
   "cell_type": "code",
   "execution_count": 45,
   "id": "02793d0d",
   "metadata": {},
   "outputs": [
    {
     "name": "stdout",
     "output_type": "stream",
     "text": [
      "Parameters currently in use:\n",
      "\n",
      "{'bootstrap': True,\n",
      " 'ccp_alpha': 0.0,\n",
      " 'class_weight': None,\n",
      " 'criterion': 'gini',\n",
      " 'max_depth': None,\n",
      " 'max_features': 'sqrt',\n",
      " 'max_leaf_nodes': None,\n",
      " 'max_samples': None,\n",
      " 'min_impurity_decrease': 0.0,\n",
      " 'min_samples_leaf': 1,\n",
      " 'min_samples_split': 2,\n",
      " 'min_weight_fraction_leaf': 0.0,\n",
      " 'n_estimators': 100,\n",
      " 'n_jobs': None,\n",
      " 'oob_score': False,\n",
      " 'random_state': 42,\n",
      " 'verbose': 0,\n",
      " 'warm_start': False}\n"
     ]
    },
    {
     "name": "stderr",
     "output_type": "stream",
     "text": [
      "c:\\Users\\vivek\\lib\\site-packages\\sklearn\\model_selection\\_search.py:306: UserWarning: The total space of parameters 2 is smaller than n_iter=50. Running 2 iterations. For exhaustive searches, use GridSearchCV.\n",
      "  warnings.warn(\n",
      "c:\\Users\\vivek\\lib\\site-packages\\sklearn\\model_selection\\_validation.py:776: UserWarning: Scoring failed. The score on this train-test partition for these parameters will be set to nan. Details: \n",
      "Traceback (most recent call last):\n",
      "  File \"c:\\Users\\vivek\\lib\\site-packages\\sklearn\\model_selection\\_validation.py\", line 767, in _score\n",
      "    scores = scorer(estimator, X_test, y_test)\n",
      "  File \"c:\\Users\\vivek\\lib\\site-packages\\sklearn\\metrics\\_scorer.py\", line 219, in __call__\n",
      "    return self._score(\n",
      "  File \"c:\\Users\\vivek\\lib\\site-packages\\sklearn\\metrics\\_scorer.py\", line 267, in _score\n",
      "    return self._sign * self._score_func(y_true, y_pred, **self._kwargs)\n",
      "  File \"c:\\Users\\vivek\\lib\\site-packages\\sklearn\\metrics\\_classification.py\", line 1132, in f1_score\n",
      "    return fbeta_score(\n",
      "  File \"c:\\Users\\vivek\\lib\\site-packages\\sklearn\\metrics\\_classification.py\", line 1270, in fbeta_score\n",
      "    _, _, f, _ = precision_recall_fscore_support(\n",
      "  File \"c:\\Users\\vivek\\lib\\site-packages\\sklearn\\metrics\\_classification.py\", line 1556, in precision_recall_fscore_support\n",
      "    labels = _check_set_wise_labels(y_true, y_pred, average, labels, pos_label)\n",
      "  File \"c:\\Users\\vivek\\lib\\site-packages\\sklearn\\metrics\\_classification.py\", line 1374, in _check_set_wise_labels\n",
      "    raise ValueError(\n",
      "ValueError: Target is multiclass but average='binary'. Please choose another average setting, one of [None, 'micro', 'macro', 'weighted'].\n",
      "\n",
      "  warnings.warn(\n",
      "c:\\Users\\vivek\\lib\\site-packages\\sklearn\\model_selection\\_validation.py:776: UserWarning: Scoring failed. The score on this train-test partition for these parameters will be set to nan. Details: \n",
      "Traceback (most recent call last):\n",
      "  File \"c:\\Users\\vivek\\lib\\site-packages\\sklearn\\model_selection\\_validation.py\", line 767, in _score\n",
      "    scores = scorer(estimator, X_test, y_test)\n",
      "  File \"c:\\Users\\vivek\\lib\\site-packages\\sklearn\\metrics\\_scorer.py\", line 219, in __call__\n",
      "    return self._score(\n",
      "  File \"c:\\Users\\vivek\\lib\\site-packages\\sklearn\\metrics\\_scorer.py\", line 267, in _score\n",
      "    return self._sign * self._score_func(y_true, y_pred, **self._kwargs)\n",
      "  File \"c:\\Users\\vivek\\lib\\site-packages\\sklearn\\metrics\\_classification.py\", line 1132, in f1_score\n",
      "    return fbeta_score(\n",
      "  File \"c:\\Users\\vivek\\lib\\site-packages\\sklearn\\metrics\\_classification.py\", line 1270, in fbeta_score\n",
      "    _, _, f, _ = precision_recall_fscore_support(\n",
      "  File \"c:\\Users\\vivek\\lib\\site-packages\\sklearn\\metrics\\_classification.py\", line 1556, in precision_recall_fscore_support\n",
      "    labels = _check_set_wise_labels(y_true, y_pred, average, labels, pos_label)\n",
      "  File \"c:\\Users\\vivek\\lib\\site-packages\\sklearn\\metrics\\_classification.py\", line 1374, in _check_set_wise_labels\n",
      "    raise ValueError(\n",
      "ValueError: Target is multiclass but average='binary'. Please choose another average setting, one of [None, 'micro', 'macro', 'weighted'].\n",
      "\n",
      "  warnings.warn(\n",
      "c:\\Users\\vivek\\lib\\site-packages\\sklearn\\model_selection\\_validation.py:776: UserWarning: Scoring failed. The score on this train-test partition for these parameters will be set to nan. Details: \n",
      "Traceback (most recent call last):\n",
      "  File \"c:\\Users\\vivek\\lib\\site-packages\\sklearn\\model_selection\\_validation.py\", line 767, in _score\n",
      "    scores = scorer(estimator, X_test, y_test)\n",
      "  File \"c:\\Users\\vivek\\lib\\site-packages\\sklearn\\metrics\\_scorer.py\", line 219, in __call__\n",
      "    return self._score(\n",
      "  File \"c:\\Users\\vivek\\lib\\site-packages\\sklearn\\metrics\\_scorer.py\", line 267, in _score\n",
      "    return self._sign * self._score_func(y_true, y_pred, **self._kwargs)\n",
      "  File \"c:\\Users\\vivek\\lib\\site-packages\\sklearn\\metrics\\_classification.py\", line 1132, in f1_score\n",
      "    return fbeta_score(\n",
      "  File \"c:\\Users\\vivek\\lib\\site-packages\\sklearn\\metrics\\_classification.py\", line 1270, in fbeta_score\n",
      "    _, _, f, _ = precision_recall_fscore_support(\n",
      "  File \"c:\\Users\\vivek\\lib\\site-packages\\sklearn\\metrics\\_classification.py\", line 1556, in precision_recall_fscore_support\n",
      "    labels = _check_set_wise_labels(y_true, y_pred, average, labels, pos_label)\n",
      "  File \"c:\\Users\\vivek\\lib\\site-packages\\sklearn\\metrics\\_classification.py\", line 1374, in _check_set_wise_labels\n",
      "    raise ValueError(\n",
      "ValueError: Target is multiclass but average='binary'. Please choose another average setting, one of [None, 'micro', 'macro', 'weighted'].\n",
      "\n",
      "  warnings.warn(\n",
      "c:\\Users\\vivek\\lib\\site-packages\\sklearn\\model_selection\\_validation.py:776: UserWarning: Scoring failed. The score on this train-test partition for these parameters will be set to nan. Details: \n",
      "Traceback (most recent call last):\n",
      "  File \"c:\\Users\\vivek\\lib\\site-packages\\sklearn\\model_selection\\_validation.py\", line 767, in _score\n",
      "    scores = scorer(estimator, X_test, y_test)\n",
      "  File \"c:\\Users\\vivek\\lib\\site-packages\\sklearn\\metrics\\_scorer.py\", line 219, in __call__\n",
      "    return self._score(\n",
      "  File \"c:\\Users\\vivek\\lib\\site-packages\\sklearn\\metrics\\_scorer.py\", line 267, in _score\n",
      "    return self._sign * self._score_func(y_true, y_pred, **self._kwargs)\n",
      "  File \"c:\\Users\\vivek\\lib\\site-packages\\sklearn\\metrics\\_classification.py\", line 1132, in f1_score\n",
      "    return fbeta_score(\n",
      "  File \"c:\\Users\\vivek\\lib\\site-packages\\sklearn\\metrics\\_classification.py\", line 1270, in fbeta_score\n",
      "    _, _, f, _ = precision_recall_fscore_support(\n",
      "  File \"c:\\Users\\vivek\\lib\\site-packages\\sklearn\\metrics\\_classification.py\", line 1556, in precision_recall_fscore_support\n",
      "    labels = _check_set_wise_labels(y_true, y_pred, average, labels, pos_label)\n",
      "  File \"c:\\Users\\vivek\\lib\\site-packages\\sklearn\\metrics\\_classification.py\", line 1374, in _check_set_wise_labels\n",
      "    raise ValueError(\n",
      "ValueError: Target is multiclass but average='binary'. Please choose another average setting, one of [None, 'micro', 'macro', 'weighted'].\n",
      "\n",
      "  warnings.warn(\n",
      "c:\\Users\\vivek\\lib\\site-packages\\sklearn\\model_selection\\_validation.py:776: UserWarning: Scoring failed. The score on this train-test partition for these parameters will be set to nan. Details: \n",
      "Traceback (most recent call last):\n",
      "  File \"c:\\Users\\vivek\\lib\\site-packages\\sklearn\\model_selection\\_validation.py\", line 767, in _score\n",
      "    scores = scorer(estimator, X_test, y_test)\n",
      "  File \"c:\\Users\\vivek\\lib\\site-packages\\sklearn\\metrics\\_scorer.py\", line 219, in __call__\n",
      "    return self._score(\n",
      "  File \"c:\\Users\\vivek\\lib\\site-packages\\sklearn\\metrics\\_scorer.py\", line 267, in _score\n",
      "    return self._sign * self._score_func(y_true, y_pred, **self._kwargs)\n",
      "  File \"c:\\Users\\vivek\\lib\\site-packages\\sklearn\\metrics\\_classification.py\", line 1132, in f1_score\n",
      "    return fbeta_score(\n",
      "  File \"c:\\Users\\vivek\\lib\\site-packages\\sklearn\\metrics\\_classification.py\", line 1270, in fbeta_score\n",
      "    _, _, f, _ = precision_recall_fscore_support(\n",
      "  File \"c:\\Users\\vivek\\lib\\site-packages\\sklearn\\metrics\\_classification.py\", line 1556, in precision_recall_fscore_support\n",
      "    labels = _check_set_wise_labels(y_true, y_pred, average, labels, pos_label)\n",
      "  File \"c:\\Users\\vivek\\lib\\site-packages\\sklearn\\metrics\\_classification.py\", line 1374, in _check_set_wise_labels\n",
      "    raise ValueError(\n",
      "ValueError: Target is multiclass but average='binary'. Please choose another average setting, one of [None, 'micro', 'macro', 'weighted'].\n",
      "\n",
      "  warnings.warn(\n",
      "c:\\Users\\vivek\\lib\\site-packages\\sklearn\\model_selection\\_validation.py:776: UserWarning: Scoring failed. The score on this train-test partition for these parameters will be set to nan. Details: \n",
      "Traceback (most recent call last):\n",
      "  File \"c:\\Users\\vivek\\lib\\site-packages\\sklearn\\model_selection\\_validation.py\", line 767, in _score\n",
      "    scores = scorer(estimator, X_test, y_test)\n",
      "  File \"c:\\Users\\vivek\\lib\\site-packages\\sklearn\\metrics\\_scorer.py\", line 219, in __call__\n",
      "    return self._score(\n",
      "  File \"c:\\Users\\vivek\\lib\\site-packages\\sklearn\\metrics\\_scorer.py\", line 267, in _score\n",
      "    return self._sign * self._score_func(y_true, y_pred, **self._kwargs)\n",
      "  File \"c:\\Users\\vivek\\lib\\site-packages\\sklearn\\metrics\\_classification.py\", line 1132, in f1_score\n",
      "    return fbeta_score(\n",
      "  File \"c:\\Users\\vivek\\lib\\site-packages\\sklearn\\metrics\\_classification.py\", line 1270, in fbeta_score\n",
      "    _, _, f, _ = precision_recall_fscore_support(\n",
      "  File \"c:\\Users\\vivek\\lib\\site-packages\\sklearn\\metrics\\_classification.py\", line 1556, in precision_recall_fscore_support\n",
      "    labels = _check_set_wise_labels(y_true, y_pred, average, labels, pos_label)\n",
      "  File \"c:\\Users\\vivek\\lib\\site-packages\\sklearn\\metrics\\_classification.py\", line 1374, in _check_set_wise_labels\n",
      "    raise ValueError(\n",
      "ValueError: Target is multiclass but average='binary'. Please choose another average setting, one of [None, 'micro', 'macro', 'weighted'].\n",
      "\n",
      "  warnings.warn(\n",
      "c:\\Users\\vivek\\lib\\site-packages\\sklearn\\model_selection\\_validation.py:776: UserWarning: Scoring failed. The score on this train-test partition for these parameters will be set to nan. Details: \n",
      "Traceback (most recent call last):\n",
      "  File \"c:\\Users\\vivek\\lib\\site-packages\\sklearn\\model_selection\\_validation.py\", line 767, in _score\n",
      "    scores = scorer(estimator, X_test, y_test)\n",
      "  File \"c:\\Users\\vivek\\lib\\site-packages\\sklearn\\metrics\\_scorer.py\", line 219, in __call__\n",
      "    return self._score(\n",
      "  File \"c:\\Users\\vivek\\lib\\site-packages\\sklearn\\metrics\\_scorer.py\", line 267, in _score\n",
      "    return self._sign * self._score_func(y_true, y_pred, **self._kwargs)\n",
      "  File \"c:\\Users\\vivek\\lib\\site-packages\\sklearn\\metrics\\_classification.py\", line 1132, in f1_score\n",
      "    return fbeta_score(\n",
      "  File \"c:\\Users\\vivek\\lib\\site-packages\\sklearn\\metrics\\_classification.py\", line 1270, in fbeta_score\n",
      "    _, _, f, _ = precision_recall_fscore_support(\n",
      "  File \"c:\\Users\\vivek\\lib\\site-packages\\sklearn\\metrics\\_classification.py\", line 1556, in precision_recall_fscore_support\n",
      "    labels = _check_set_wise_labels(y_true, y_pred, average, labels, pos_label)\n",
      "  File \"c:\\Users\\vivek\\lib\\site-packages\\sklearn\\metrics\\_classification.py\", line 1374, in _check_set_wise_labels\n",
      "    raise ValueError(\n",
      "ValueError: Target is multiclass but average='binary'. Please choose another average setting, one of [None, 'micro', 'macro', 'weighted'].\n",
      "\n",
      "  warnings.warn(\n",
      "c:\\Users\\vivek\\lib\\site-packages\\sklearn\\model_selection\\_validation.py:776: UserWarning: Scoring failed. The score on this train-test partition for these parameters will be set to nan. Details: \n",
      "Traceback (most recent call last):\n",
      "  File \"c:\\Users\\vivek\\lib\\site-packages\\sklearn\\model_selection\\_validation.py\", line 767, in _score\n",
      "    scores = scorer(estimator, X_test, y_test)\n",
      "  File \"c:\\Users\\vivek\\lib\\site-packages\\sklearn\\metrics\\_scorer.py\", line 219, in __call__\n",
      "    return self._score(\n",
      "  File \"c:\\Users\\vivek\\lib\\site-packages\\sklearn\\metrics\\_scorer.py\", line 267, in _score\n",
      "    return self._sign * self._score_func(y_true, y_pred, **self._kwargs)\n",
      "  File \"c:\\Users\\vivek\\lib\\site-packages\\sklearn\\metrics\\_classification.py\", line 1132, in f1_score\n",
      "    return fbeta_score(\n",
      "  File \"c:\\Users\\vivek\\lib\\site-packages\\sklearn\\metrics\\_classification.py\", line 1270, in fbeta_score\n",
      "    _, _, f, _ = precision_recall_fscore_support(\n",
      "  File \"c:\\Users\\vivek\\lib\\site-packages\\sklearn\\metrics\\_classification.py\", line 1556, in precision_recall_fscore_support\n",
      "    labels = _check_set_wise_labels(y_true, y_pred, average, labels, pos_label)\n",
      "  File \"c:\\Users\\vivek\\lib\\site-packages\\sklearn\\metrics\\_classification.py\", line 1374, in _check_set_wise_labels\n",
      "    raise ValueError(\n",
      "ValueError: Target is multiclass but average='binary'. Please choose another average setting, one of [None, 'micro', 'macro', 'weighted'].\n",
      "\n",
      "  warnings.warn(\n",
      "c:\\Users\\vivek\\lib\\site-packages\\sklearn\\model_selection\\_search.py:953: UserWarning: One or more of the test scores are non-finite: [nan nan]\n",
      "  warnings.warn(\n"
     ]
    },
    {
     "name": "stdout",
     "output_type": "stream",
     "text": [
      "Results from Hyper tuned Random Forest are as below\n"
     ]
    },
    {
     "name": "stderr",
     "output_type": "stream",
     "text": [
      "c:\\Users\\vivek\\lib\\site-packages\\sklearn\\metrics\\_classification.py:1327: UndefinedMetricWarning: Recall and F-score are ill-defined and being set to 0.0 in labels with no true samples. Use `zero_division` parameter to control this behavior.\n",
      "  _warn_prf(average, modifier, msg_start, len(result))\n",
      "c:\\Users\\vivek\\lib\\site-packages\\sklearn\\metrics\\_classification.py:1327: UndefinedMetricWarning: Recall and F-score are ill-defined and being set to 0.0 in labels with no true samples. Use `zero_division` parameter to control this behavior.\n",
      "  _warn_prf(average, modifier, msg_start, len(result))\n",
      "c:\\Users\\vivek\\lib\\site-packages\\sklearn\\metrics\\_classification.py:1327: UndefinedMetricWarning: Recall and F-score are ill-defined and being set to 0.0 in labels with no true samples. Use `zero_division` parameter to control this behavior.\n",
      "  _warn_prf(average, modifier, msg_start, len(result))\n"
     ]
    },
    {
     "name": "stdout",
     "output_type": "stream",
     "text": [
      "Confusion Matrix \n",
      " [[    0     0     0]\n",
      " [ 6763 75518 18140]\n",
      " [  557  6105 14657]]\n",
      "Time taken for the hyper tuned RF model to run is  53.05682158470154 seconds\n"
     ]
    }
   ],
   "source": [
    "from sklearn.model_selection import RandomizedSearchCV\n",
    "from pprint import pprint\n",
    "from sklearn.metrics import classification_report\n",
    "import warnings\n",
    "warnings.filterwarnings(\"ignore\")\n",
    "rf = RandomForestClassifier(random_state = 42)\n",
    "print('Parameters currently in use:\\n')\n",
    "pprint(rf.get_params())\n",
    "params_rf={\n",
    " \"n_estimators\"    : [100 ] ,\n",
    " \"max_depth\"        : [ 50,60],\n",
    "    \n",
    "}\n",
    "rf = RandomForestClassifier(random_state=42,min_samples_split=2,max_features='sqrt',bootstrap=True)\n",
    "rf_random = RandomizedSearchCV(estimator = rf, param_distributions = params_rf, n_iter = 50, cv = 4,scoring='f1',verbose=0, random_state=42)\n",
    "rf_random.fit(X_train, Y_train)\n",
    "rf_random.best_params_\n",
    "rf_random.best_estimator_\n",
    "import time \n",
    "start = time.time()\n",
    "Hyper_rf=RandomForestClassifier(bootstrap=False, max_depth=50, min_samples_split=2,\n",
    "                       n_estimators=100, random_state=42)\n",
    "Hyper_rfmodel=Hyper_rf.fit(X_train,Y_train)\n",
    "end =time.time()\n",
    "y_pred_rf=Hyper_rfmodel.predict(X_test)\n",
    "RF_time=end-start\n",
    "print(\"Results from Hyper tuned Random Forest are as below\")\n",
    "RFhyper_result = classification_report(y_pred_rf,Y_test,output_dict=True)\n",
    "RFhyper_result = pd.DataFrame(RFhyper_result).transpose()\n",
    "RFhyper_result.style.background_gradient(cmap=\"OrRd\")\n",
    "\n",
    "print(\"Confusion Matrix \\n\" ,accuracy_score(y_pred_rf,Y_test))\n",
    "print(\"Time taken for the hyper tuned RF model to run is \", RF_time,\"seconds\")"
   ]
  },
  {
   "cell_type": "code",
   "execution_count": 37,
   "id": "3ed603a0",
   "metadata": {},
   "outputs": [],
   "source": [
    "data.loc[data[\"AQI\"] > 100, \"quality\"] = 1\n",
    "data.loc[data[\"AQI\"] <50, \"quality\"] = 3\n",
    "data.loc[(data[\"AQI\"] <= 100) & (data[\"AQI\"] > 50), \"quality\"] = 2"
   ]
  }
 ],
 "metadata": {
  "interpreter": {
   "hash": "b25ee6316dc8a5a6d17f1b767660698976f59cdabb8531fe460b54dd2820393f"
  },
  "kernelspec": {
   "display_name": "Python 3.10.4 64-bit",
   "language": "python",
   "name": "python3"
  },
  "language_info": {
   "codemirror_mode": {
    "name": "ipython",
    "version": 3
   },
   "file_extension": ".py",
   "mimetype": "text/x-python",
   "name": "python",
   "nbconvert_exporter": "python",
   "pygments_lexer": "ipython3",
   "version": "3.10.4"
  }
 },
 "nbformat": 4,
 "nbformat_minor": 5
}
