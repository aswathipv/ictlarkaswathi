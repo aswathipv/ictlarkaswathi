{
 "cells": [
  {
   "cell_type": "markdown",
   "id": "f32adf6d",
   "metadata": {},
   "source": [
    "# Read dataset"
   ]
  },
  {
   "cell_type": "code",
   "execution_count": 73,
   "id": "a1894e87",
   "metadata": {},
   "outputs": [],
   "source": [
    "import pandas as pd\n",
    "data=pd.read_csv('StudentsPerformance.csv')"
   ]
  },
  {
   "cell_type": "markdown",
   "id": "c7b26e46",
   "metadata": {},
   "source": [
    "# Male and female participants count"
   ]
  },
  {
   "cell_type": "code",
   "execution_count": 15,
   "id": "c1a0b111",
   "metadata": {},
   "outputs": [],
   "source": [
    "group=data.groupby(['gender'])"
   ]
  },
  {
   "cell_type": "code",
   "execution_count": 16,
   "id": "841530c4",
   "metadata": {},
   "outputs": [
    {
     "data": {
      "text/plain": [
       "gender\n",
       "female    518\n",
       "male      482\n",
       "Name: gender, dtype: int64"
      ]
     },
     "execution_count": 16,
     "metadata": {},
     "output_type": "execute_result"
    }
   ],
   "source": [
    "group['gender'].count()"
   ]
  },
  {
   "cell_type": "markdown",
   "id": "f3ab7502",
   "metadata": {},
   "source": [
    "# Parental level Education"
   ]
  },
  {
   "cell_type": "code",
   "execution_count": 18,
   "id": "7675d874",
   "metadata": {},
   "outputs": [],
   "source": [
    "import matplotlib.pyplot as plt"
   ]
  },
  {
   "cell_type": "code",
   "execution_count": 19,
   "id": "97ba2101",
   "metadata": {},
   "outputs": [
    {
     "data": {
      "text/plain": [
       "Text(0, 0.5, 'Count')"
      ]
     },
     "execution_count": 19,
     "metadata": {},
     "output_type": "execute_result"
    },
    {
     "data": {
      "image/png": "[encoded data removed]",
      "text/plain": [
       "<Figure size 432x288 with 1 Axes>"
      ]
     },
     "metadata": {
      "needs_background": "light"
     },
     "output_type": "display_data"
    }
   ],
   "source": [
    "plt.hist(data['parental level of education'])\n",
    "plt.xlabel('Education level')\n",
    "plt.ylabel('Count')"
   ]
  },
  {
   "cell_type": "markdown",
   "id": "868b8cb8",
   "metadata": {},
   "source": [
    "# Average for math reading and writing"
   ]
  },
  {
   "cell_type": "code",
   "execution_count": 20,
   "id": "8813ccdb",
   "metadata": {},
   "outputs": [],
   "source": [
    "maxi=data.loc[max((data['math score']+data['reading score']+data['writing score'])/3)]"
   ]
  },
  {
   "cell_type": "code",
   "execution_count": 21,
   "id": "e5f41f51",
   "metadata": {},
   "outputs": [
    {
     "data": {
      "text/plain": [
       "gender                                   female\n",
       "race/ethnicity                          group D\n",
       "parental level of education    some high school\n",
       "lunch                                  standard\n",
       "test preparation course                    none\n",
       "math score                                   51\n",
       "reading score                                63\n",
       "writing score                                61\n",
       "Name: 100, dtype: object"
      ]
     },
     "execution_count": 21,
     "metadata": {},
     "output_type": "execute_result"
    }
   ],
   "source": [
    "maxi"
   ]
  },
  {
   "cell_type": "markdown",
   "id": "ba011428",
   "metadata": {},
   "source": [
    "# Based on gender"
   ]
  },
  {
   "cell_type": "code",
   "execution_count": 108,
   "id": "19d8e362",
   "metadata": {},
   "outputs": [],
   "source": [
    "import pandas as pd\n",
    "datan=pd.DataFrame(data,columns=['math score','reading score','writing score','Average score','gender','test preparation course','Bonus'])"
   ]
  },
  {
   "cell_type": "code",
   "execution_count": 72,
   "id": "7d653b69",
   "metadata": {},
   "outputs": [],
   "source": []
  },
  {
   "cell_type": "code",
   "execution_count": 90,
   "id": "f1b3cea2",
   "metadata": {},
   "outputs": [],
   "source": [
    "datan['Average score']=(datan['math score']+datan['reading score']+datan['writing score'])/3"
   ]
  },
  {
   "cell_type": "code",
   "execution_count": 85,
   "id": "9397d37c",
   "metadata": {},
   "outputs": [],
   "source": [
    "groupn=datan.groupby(['gender'])"
   ]
  },
  {
   "cell_type": "code",
   "execution_count": 86,
   "id": "35994bde",
   "metadata": {},
   "outputs": [
    {
     "data": {
      "text/html": [
       "<div>\n",
       "<style scoped>\n",
       "    .dataframe tbody tr th:only-of-type {\n",
       "        vertical-align: middle;\n",
       "    }\n",
       "\n",
       "    .dataframe tbody tr th {\n",
       "        vertical-align: top;\n",
       "    }\n",
       "\n",
       "    .dataframe thead th {\n",
       "        text-align: right;\n",
       "    }\n",
       "</style>\n",
       "<table border=\"1\" class=\"dataframe\">\n",
       "  <thead>\n",
       "    <tr style=\"text-align: right;\">\n",
       "      <th></th>\n",
       "      <th>math score</th>\n",
       "      <th>reading score</th>\n",
       "      <th>writing score</th>\n",
       "      <th>Average score</th>\n",
       "    </tr>\n",
       "    <tr>\n",
       "      <th>gender</th>\n",
       "      <th></th>\n",
       "      <th></th>\n",
       "      <th></th>\n",
       "      <th></th>\n",
       "    </tr>\n",
       "  </thead>\n",
       "  <tbody>\n",
       "    <tr>\n",
       "      <th>female</th>\n",
       "      <td>100</td>\n",
       "      <td>100</td>\n",
       "      <td>100</td>\n",
       "      <td>100.0</td>\n",
       "    </tr>\n",
       "    <tr>\n",
       "      <th>male</th>\n",
       "      <td>100</td>\n",
       "      <td>100</td>\n",
       "      <td>100</td>\n",
       "      <td>100.0</td>\n",
       "    </tr>\n",
       "  </tbody>\n",
       "</table>\n",
       "</div>"
      ],
      "text/plain": [
       "        math score  reading score  writing score  Average score\n",
       "gender                                                         \n",
       "female         100            100            100          100.0\n",
       "male           100            100            100          100.0"
      ]
     },
     "execution_count": 86,
     "metadata": {},
     "output_type": "execute_result"
    }
   ],
   "source": [
    "groupn.max(groupn['Average score'])"
   ]
  },
  {
   "cell_type": "markdown",
   "id": "c1594534",
   "metadata": {},
   "source": [
    "# test preparation course"
   ]
  },
  {
   "cell_type": "code",
   "execution_count": 88,
   "id": "1088efbc",
   "metadata": {},
   "outputs": [],
   "source": [
    "groupt=datan.groupby(['test preparation course'])"
   ]
  },
  {
   "cell_type": "code",
   "execution_count": 89,
   "id": "fa80077c",
   "metadata": {},
   "outputs": [
    {
     "data": {
      "text/html": [
       "<div>\n",
       "<style scoped>\n",
       "    .dataframe tbody tr th:only-of-type {\n",
       "        vertical-align: middle;\n",
       "    }\n",
       "\n",
       "    .dataframe tbody tr th {\n",
       "        vertical-align: top;\n",
       "    }\n",
       "\n",
       "    .dataframe thead th {\n",
       "        text-align: right;\n",
       "    }\n",
       "</style>\n",
       "<table border=\"1\" class=\"dataframe\">\n",
       "  <thead>\n",
       "    <tr style=\"text-align: right;\">\n",
       "      <th></th>\n",
       "      <th>math score</th>\n",
       "      <th>reading score</th>\n",
       "      <th>writing score</th>\n",
       "      <th>Average score</th>\n",
       "    </tr>\n",
       "    <tr>\n",
       "      <th>test preparation course</th>\n",
       "      <th></th>\n",
       "      <th></th>\n",
       "      <th></th>\n",
       "      <th></th>\n",
       "    </tr>\n",
       "  </thead>\n",
       "  <tbody>\n",
       "    <tr>\n",
       "      <th>completed</th>\n",
       "      <td>100</td>\n",
       "      <td>100</td>\n",
       "      <td>100</td>\n",
       "      <td>100.0</td>\n",
       "    </tr>\n",
       "    <tr>\n",
       "      <th>none</th>\n",
       "      <td>100</td>\n",
       "      <td>100</td>\n",
       "      <td>100</td>\n",
       "      <td>100.0</td>\n",
       "    </tr>\n",
       "  </tbody>\n",
       "</table>\n",
       "</div>"
      ],
      "text/plain": [
       "                         math score  reading score  writing score  \\\n",
       "test preparation course                                             \n",
       "completed                       100            100            100   \n",
       "none                            100            100            100   \n",
       "\n",
       "                         Average score  \n",
       "test preparation course                 \n",
       "completed                        100.0  \n",
       "none                             100.0  "
      ]
     },
     "execution_count": 89,
     "metadata": {},
     "output_type": "execute_result"
    }
   ],
   "source": [
    "groupt.max(groupt['Average score'])"
   ]
  },
  {
   "cell_type": "markdown",
   "id": "2b0f5244",
   "metadata": {},
   "source": [
    "# Bonus points"
   ]
  },
  {
   "cell_type": "code",
   "execution_count": 112,
   "id": "fed8325a",
   "metadata": {},
   "outputs": [],
   "source": [
    "datan['Bonus']=0"
   ]
  },
  {
   "cell_type": "code",
   "execution_count": 105,
   "id": "a7efa3e1",
   "metadata": {},
   "outputs": [],
   "source": [
    "tp=int(len(datan)/4)"
   ]
  },
  {
   "cell_type": "code",
   "execution_count": 106,
   "id": "29cca751",
   "metadata": {},
   "outputs": [
    {
     "data": {
      "text/plain": [
       "250"
      ]
     },
     "execution_count": 106,
     "metadata": {},
     "output_type": "execute_result"
    }
   ],
   "source": [
    "tp"
   ]
  },
  {
   "cell_type": "code",
   "execution_count": 123,
   "id": "b9a786f9",
   "metadata": {},
   "outputs": [],
   "source": [
    "ids=datan.nlargest(tp,'math score').index"
   ]
  },
  {
   "cell_type": "code",
   "execution_count": 125,
   "id": "f1e2b9fe",
   "metadata": {},
   "outputs": [
    {
     "data": {
      "text/plain": [
       "Int64Index([515, 516, 517, 996, 997, 998, 999, 513, 514, 995,\n",
       "            ...\n",
       "            423, 424, 425, 426, 427, 428, 429, 849, 850, 851],\n",
       "           dtype='int64', length=250)"
      ]
     },
     "execution_count": 125,
     "metadata": {},
     "output_type": "execute_result"
    }
   ],
   "source": [
    "ids"
   ]
  },
  {
   "cell_type": "code",
   "execution_count": 128,
   "id": "696576de",
   "metadata": {},
   "outputs": [],
   "source": [
    "datan.loc[ids,'Bonus']=100"
   ]
  },
  {
   "cell_type": "code",
   "execution_count": 129,
   "id": "0c827140",
   "metadata": {},
   "outputs": [
    {
     "data": {
      "text/html": [
       "<div>\n",
       "<style scoped>\n",
       "    .dataframe tbody tr th:only-of-type {\n",
       "        vertical-align: middle;\n",
       "    }\n",
       "\n",
       "    .dataframe tbody tr th {\n",
       "        vertical-align: top;\n",
       "    }\n",
       "\n",
       "    .dataframe thead th {\n",
       "        text-align: right;\n",
       "    }\n",
       "</style>\n",
       "<table border=\"1\" class=\"dataframe\">\n",
       "  <thead>\n",
       "    <tr style=\"text-align: right;\">\n",
       "      <th></th>\n",
       "      <th>math score</th>\n",
       "      <th>reading score</th>\n",
       "      <th>writing score</th>\n",
       "      <th>Average score</th>\n",
       "      <th>gender</th>\n",
       "      <th>test preparation course</th>\n",
       "      <th>Bonus</th>\n",
       "    </tr>\n",
       "  </thead>\n",
       "  <tbody>\n",
       "    <tr>\n",
       "      <th>0</th>\n",
       "      <td>0</td>\n",
       "      <td>17</td>\n",
       "      <td>10</td>\n",
       "      <td>NaN</td>\n",
       "      <td>female</td>\n",
       "      <td>none</td>\n",
       "      <td>0</td>\n",
       "    </tr>\n",
       "    <tr>\n",
       "      <th>1</th>\n",
       "      <td>8</td>\n",
       "      <td>24</td>\n",
       "      <td>23</td>\n",
       "      <td>NaN</td>\n",
       "      <td>female</td>\n",
       "      <td>none</td>\n",
       "      <td>0</td>\n",
       "    </tr>\n",
       "    <tr>\n",
       "      <th>2</th>\n",
       "      <td>18</td>\n",
       "      <td>32</td>\n",
       "      <td>28</td>\n",
       "      <td>NaN</td>\n",
       "      <td>female</td>\n",
       "      <td>none</td>\n",
       "      <td>0</td>\n",
       "    </tr>\n",
       "    <tr>\n",
       "      <th>3</th>\n",
       "      <td>11</td>\n",
       "      <td>38</td>\n",
       "      <td>32</td>\n",
       "      <td>NaN</td>\n",
       "      <td>female</td>\n",
       "      <td>none</td>\n",
       "      <td>0</td>\n",
       "    </tr>\n",
       "    <tr>\n",
       "      <th>4</th>\n",
       "      <td>22</td>\n",
       "      <td>39</td>\n",
       "      <td>33</td>\n",
       "      <td>NaN</td>\n",
       "      <td>female</td>\n",
       "      <td>none</td>\n",
       "      <td>0</td>\n",
       "    </tr>\n",
       "    <tr>\n",
       "      <th>...</th>\n",
       "      <td>...</td>\n",
       "      <td>...</td>\n",
       "      <td>...</td>\n",
       "      <td>...</td>\n",
       "      <td>...</td>\n",
       "      <td>...</td>\n",
       "      <td>...</td>\n",
       "    </tr>\n",
       "    <tr>\n",
       "      <th>995</th>\n",
       "      <td>99</td>\n",
       "      <td>87</td>\n",
       "      <td>81</td>\n",
       "      <td>NaN</td>\n",
       "      <td>male</td>\n",
       "      <td>completed</td>\n",
       "      <td>100</td>\n",
       "    </tr>\n",
       "    <tr>\n",
       "      <th>996</th>\n",
       "      <td>100</td>\n",
       "      <td>96</td>\n",
       "      <td>86</td>\n",
       "      <td>NaN</td>\n",
       "      <td>male</td>\n",
       "      <td>completed</td>\n",
       "      <td>100</td>\n",
       "    </tr>\n",
       "    <tr>\n",
       "      <th>997</th>\n",
       "      <td>100</td>\n",
       "      <td>97</td>\n",
       "      <td>99</td>\n",
       "      <td>NaN</td>\n",
       "      <td>male</td>\n",
       "      <td>completed</td>\n",
       "      <td>100</td>\n",
       "    </tr>\n",
       "    <tr>\n",
       "      <th>998</th>\n",
       "      <td>100</td>\n",
       "      <td>100</td>\n",
       "      <td>93</td>\n",
       "      <td>NaN</td>\n",
       "      <td>male</td>\n",
       "      <td>completed</td>\n",
       "      <td>100</td>\n",
       "    </tr>\n",
       "    <tr>\n",
       "      <th>999</th>\n",
       "      <td>100</td>\n",
       "      <td>100</td>\n",
       "      <td>100</td>\n",
       "      <td>NaN</td>\n",
       "      <td>male</td>\n",
       "      <td>completed</td>\n",
       "      <td>100</td>\n",
       "    </tr>\n",
       "  </tbody>\n",
       "</table>\n",
       "<p>1000 rows × 7 columns</p>\n",
       "</div>"
      ],
      "text/plain": [
       "     math score  reading score  writing score  Average score  gender  \\\n",
       "0             0             17             10            NaN  female   \n",
       "1             8             24             23            NaN  female   \n",
       "2            18             32             28            NaN  female   \n",
       "3            11             38             32            NaN  female   \n",
       "4            22             39             33            NaN  female   \n",
       "..          ...            ...            ...            ...     ...   \n",
       "995          99             87             81            NaN    male   \n",
       "996         100             96             86            NaN    male   \n",
       "997         100             97             99            NaN    male   \n",
       "998         100            100             93            NaN    male   \n",
       "999         100            100            100            NaN    male   \n",
       "\n",
       "    test preparation course  Bonus  \n",
       "0                      none      0  \n",
       "1                      none      0  \n",
       "2                      none      0  \n",
       "3                      none      0  \n",
       "4                      none      0  \n",
       "..                      ...    ...  \n",
       "995               completed    100  \n",
       "996               completed    100  \n",
       "997               completed    100  \n",
       "998               completed    100  \n",
       "999               completed    100  \n",
       "\n",
       "[1000 rows x 7 columns]"
      ]
     },
     "execution_count": 129,
     "metadata": {},
     "output_type": "execute_result"
    }
   ],
   "source": [
    "datan"
   ]
  },
  {
   "cell_type": "code",
   "execution_count": null,
   "id": "7cbc5f53",
   "metadata": {},
   "outputs": [],
   "source": []
  }
 ],
 "metadata": {
  "kernelspec": {
   "display_name": "Python 3 (ipykernel)",
   "language": "python",
   "name": "python3"
  },
  "language_info": {
   "codemirror_mode": {
    "name": "ipython",
    "version": 3
   },
   "file_extension": ".py",
   "mimetype": "text/x-python",
   "name": "python",
   "nbconvert_exporter": "python",
   "pygments_lexer": "ipython3",
   "version": "3.9.7"
  }
 },
 "nbformat": 4,
 "nbformat_minor": 5
}
