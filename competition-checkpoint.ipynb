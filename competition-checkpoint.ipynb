{
 "cells": [
  {
   "cell_type": "code",
   "execution_count": 103,
   "id": "6032323a",
   "metadata": {},
   "outputs": [],
   "source": [
    "import numpy as np\n",
    "import pandas as pd\n",
    "import seaborn as sns\n",
    "import matplotlib.pyplot as plt"
   ]
  },
  {
   "cell_type": "code",
   "execution_count": 104,
   "id": "ec4ff48f",
   "metadata": {},
   "outputs": [],
   "source": [
    "data=pd.read_csv(\"iot_telemetry_data - manuplated data.csv\")"
   ]
  },
  {
   "cell_type": "code",
   "execution_count": 105,
   "id": "3ef452c1",
   "metadata": {},
   "outputs": [
    {
     "data": {
      "text/html": [
       "<div>\n",
       "<style scoped>\n",
       "    .dataframe tbody tr th:only-of-type {\n",
       "        vertical-align: middle;\n",
       "    }\n",
       "\n",
       "    .dataframe tbody tr th {\n",
       "        vertical-align: top;\n",
       "    }\n",
       "\n",
       "    .dataframe thead th {\n",
       "        text-align: right;\n",
       "    }\n",
       "</style>\n",
       "<table border=\"1\" class=\"dataframe\">\n",
       "  <thead>\n",
       "    <tr style=\"text-align: right;\">\n",
       "      <th></th>\n",
       "      <th>ts</th>\n",
       "      <th>device</th>\n",
       "      <th>co</th>\n",
       "      <th>humidity</th>\n",
       "      <th>light</th>\n",
       "      <th>lpg</th>\n",
       "      <th>motion</th>\n",
       "      <th>smoke</th>\n",
       "      <th>temp</th>\n",
       "    </tr>\n",
       "  </thead>\n",
       "  <tbody>\n",
       "    <tr>\n",
       "      <th>0</th>\n",
       "      <td>1.590000e+09</td>\n",
       "      <td>b8:27:eb:bf:9d:51</td>\n",
       "      <td>0.004956</td>\n",
       "      <td>51.000000</td>\n",
       "      <td>False</td>\n",
       "      <td>0.007651</td>\n",
       "      <td>False</td>\n",
       "      <td>NaN</td>\n",
       "      <td>22.700000</td>\n",
       "    </tr>\n",
       "    <tr>\n",
       "      <th>1</th>\n",
       "      <td>1.590000e+09</td>\n",
       "      <td>00:0f:00:70:91:0a</td>\n",
       "      <td>0.002840</td>\n",
       "      <td>76.000000</td>\n",
       "      <td>False</td>\n",
       "      <td>0.005114</td>\n",
       "      <td>False</td>\n",
       "      <td>0.013275</td>\n",
       "      <td>19.700001</td>\n",
       "    </tr>\n",
       "    <tr>\n",
       "      <th>2</th>\n",
       "      <td>1.590000e+09</td>\n",
       "      <td>b8:27:eb:bf:9d:51</td>\n",
       "      <td>0.004976</td>\n",
       "      <td>50.900000</td>\n",
       "      <td>False</td>\n",
       "      <td>0.007673</td>\n",
       "      <td>False</td>\n",
       "      <td>0.020475</td>\n",
       "      <td>22.600000</td>\n",
       "    </tr>\n",
       "    <tr>\n",
       "      <th>3</th>\n",
       "      <td>1.590000e+09</td>\n",
       "      <td>1c:bf:ce:15:ec:4d</td>\n",
       "      <td>0.004403</td>\n",
       "      <td>76.800003</td>\n",
       "      <td>True</td>\n",
       "      <td>0.007023</td>\n",
       "      <td>False</td>\n",
       "      <td>0.018628</td>\n",
       "      <td>27.000000</td>\n",
       "    </tr>\n",
       "    <tr>\n",
       "      <th>4</th>\n",
       "      <td>1.590000e+09</td>\n",
       "      <td>b8:27:eb:bf:9d:51</td>\n",
       "      <td>0.004967</td>\n",
       "      <td>50.900000</td>\n",
       "      <td>False</td>\n",
       "      <td>0.007664</td>\n",
       "      <td>False</td>\n",
       "      <td>0.020448</td>\n",
       "      <td>22.600000</td>\n",
       "    </tr>\n",
       "  </tbody>\n",
       "</table>\n",
       "</div>"
      ],
      "text/plain": [
       "             ts             device        co   humidity  light       lpg  \\\n",
       "0  1.590000e+09  b8:27:eb:bf:9d:51  0.004956  51.000000  False  0.007651   \n",
       "1  1.590000e+09  00:0f:00:70:91:0a  0.002840  76.000000  False  0.005114   \n",
       "2  1.590000e+09  b8:27:eb:bf:9d:51  0.004976  50.900000  False  0.007673   \n",
       "3  1.590000e+09  1c:bf:ce:15:ec:4d  0.004403  76.800003   True  0.007023   \n",
       "4  1.590000e+09  b8:27:eb:bf:9d:51  0.004967  50.900000  False  0.007664   \n",
       "\n",
       "   motion     smoke       temp  \n",
       "0   False       NaN  22.700000  \n",
       "1   False  0.013275  19.700001  \n",
       "2   False  0.020475  22.600000  \n",
       "3   False  0.018628  27.000000  \n",
       "4   False  0.020448  22.600000  "
      ]
     },
     "execution_count": 105,
     "metadata": {},
     "output_type": "execute_result"
    }
   ],
   "source": [
    "data.head()"
   ]
  },
  {
   "cell_type": "code",
   "execution_count": 106,
   "id": "cde095b3",
   "metadata": {},
   "outputs": [
    {
     "name": "stdout",
     "output_type": "stream",
     "text": [
      "<class 'pandas.core.frame.DataFrame'>\n",
      "RangeIndex: 405184 entries, 0 to 405183\n",
      "Data columns (total 9 columns):\n",
      " #   Column    Non-Null Count   Dtype  \n",
      "---  ------    --------------   -----  \n",
      " 0   ts        405184 non-null  float64\n",
      " 1   device    405184 non-null  object \n",
      " 2   co        405184 non-null  float64\n",
      " 3   humidity  405184 non-null  float64\n",
      " 4   light     405184 non-null  bool   \n",
      " 5   lpg       405184 non-null  float64\n",
      " 6   motion    405184 non-null  bool   \n",
      " 7   smoke     405179 non-null  float64\n",
      " 8   temp      405184 non-null  float64\n",
      "dtypes: bool(2), float64(6), object(1)\n",
      "memory usage: 22.4+ MB\n"
     ]
    }
   ],
   "source": [
    "data.info()"
   ]
  },
  {
   "cell_type": "code",
   "execution_count": 107,
   "id": "457eee4e",
   "metadata": {},
   "outputs": [
    {
     "data": {
      "text/html": [
       "<div>\n",
       "<style scoped>\n",
       "    .dataframe tbody tr th:only-of-type {\n",
       "        vertical-align: middle;\n",
       "    }\n",
       "\n",
       "    .dataframe tbody tr th {\n",
       "        vertical-align: top;\n",
       "    }\n",
       "\n",
       "    .dataframe thead th {\n",
       "        text-align: right;\n",
       "    }\n",
       "</style>\n",
       "<table border=\"1\" class=\"dataframe\">\n",
       "  <thead>\n",
       "    <tr style=\"text-align: right;\">\n",
       "      <th></th>\n",
       "      <th>ts</th>\n",
       "      <th>co</th>\n",
       "      <th>humidity</th>\n",
       "      <th>lpg</th>\n",
       "      <th>smoke</th>\n",
       "      <th>temp</th>\n",
       "    </tr>\n",
       "  </thead>\n",
       "  <tbody>\n",
       "    <tr>\n",
       "      <th>count</th>\n",
       "      <td>4.051840e+05</td>\n",
       "      <td>405184.000000</td>\n",
       "      <td>405184.000000</td>\n",
       "      <td>405184.000000</td>\n",
       "      <td>405179.000000</td>\n",
       "      <td>405184.000000</td>\n",
       "    </tr>\n",
       "    <tr>\n",
       "      <th>mean</th>\n",
       "      <td>1.592943e+09</td>\n",
       "      <td>0.004639</td>\n",
       "      <td>60.511694</td>\n",
       "      <td>0.007237</td>\n",
       "      <td>0.019264</td>\n",
       "      <td>22.453987</td>\n",
       "    </tr>\n",
       "    <tr>\n",
       "      <th>std</th>\n",
       "      <td>4.557306e+06</td>\n",
       "      <td>0.001250</td>\n",
       "      <td>11.366489</td>\n",
       "      <td>0.001444</td>\n",
       "      <td>0.004086</td>\n",
       "      <td>2.698347</td>\n",
       "    </tr>\n",
       "    <tr>\n",
       "      <th>min</th>\n",
       "      <td>1.590000e+09</td>\n",
       "      <td>0.001171</td>\n",
       "      <td>1.100000</td>\n",
       "      <td>0.002693</td>\n",
       "      <td>0.006692</td>\n",
       "      <td>0.000000</td>\n",
       "    </tr>\n",
       "    <tr>\n",
       "      <th>25%</th>\n",
       "      <td>1.590000e+09</td>\n",
       "      <td>0.003919</td>\n",
       "      <td>51.000000</td>\n",
       "      <td>0.006456</td>\n",
       "      <td>0.017024</td>\n",
       "      <td>19.900000</td>\n",
       "    </tr>\n",
       "    <tr>\n",
       "      <th>50%</th>\n",
       "      <td>1.590000e+09</td>\n",
       "      <td>0.004812</td>\n",
       "      <td>54.900000</td>\n",
       "      <td>0.007489</td>\n",
       "      <td>0.019950</td>\n",
       "      <td>22.200000</td>\n",
       "    </tr>\n",
       "    <tr>\n",
       "      <th>75%</th>\n",
       "      <td>1.600000e+09</td>\n",
       "      <td>0.005409</td>\n",
       "      <td>74.300003</td>\n",
       "      <td>0.008150</td>\n",
       "      <td>0.021838</td>\n",
       "      <td>23.600000</td>\n",
       "    </tr>\n",
       "    <tr>\n",
       "      <th>max</th>\n",
       "      <td>1.600000e+09</td>\n",
       "      <td>0.014420</td>\n",
       "      <td>99.900002</td>\n",
       "      <td>0.016567</td>\n",
       "      <td>0.046590</td>\n",
       "      <td>30.600000</td>\n",
       "    </tr>\n",
       "  </tbody>\n",
       "</table>\n",
       "</div>"
      ],
      "text/plain": [
       "                 ts             co       humidity            lpg  \\\n",
       "count  4.051840e+05  405184.000000  405184.000000  405184.000000   \n",
       "mean   1.592943e+09       0.004639      60.511694       0.007237   \n",
       "std    4.557306e+06       0.001250      11.366489       0.001444   \n",
       "min    1.590000e+09       0.001171       1.100000       0.002693   \n",
       "25%    1.590000e+09       0.003919      51.000000       0.006456   \n",
       "50%    1.590000e+09       0.004812      54.900000       0.007489   \n",
       "75%    1.600000e+09       0.005409      74.300003       0.008150   \n",
       "max    1.600000e+09       0.014420      99.900002       0.016567   \n",
       "\n",
       "               smoke           temp  \n",
       "count  405179.000000  405184.000000  \n",
       "mean        0.019264      22.453987  \n",
       "std         0.004086       2.698347  \n",
       "min         0.006692       0.000000  \n",
       "25%         0.017024      19.900000  \n",
       "50%         0.019950      22.200000  \n",
       "75%         0.021838      23.600000  \n",
       "max         0.046590      30.600000  "
      ]
     },
     "execution_count": 107,
     "metadata": {},
     "output_type": "execute_result"
    }
   ],
   "source": [
    "data.describe()"
   ]
  },
  {
   "cell_type": "code",
   "execution_count": 108,
   "id": "227c389a",
   "metadata": {},
   "outputs": [
    {
     "data": {
      "text/plain": [
       "ts          0\n",
       "device      0\n",
       "co          0\n",
       "humidity    0\n",
       "light       0\n",
       "lpg         0\n",
       "motion      0\n",
       "smoke       5\n",
       "temp        0\n",
       "dtype: int64"
      ]
     },
     "execution_count": 108,
     "metadata": {},
     "output_type": "execute_result"
    }
   ],
   "source": [
    "data.isna().sum()"
   ]
  },
  {
   "cell_type": "code",
   "execution_count": 109,
   "id": "68ee2a34",
   "metadata": {},
   "outputs": [],
   "source": [
    "data['smoke'].fillna(value=data['smoke'].mean(),inplace=True)"
   ]
  },
  {
   "cell_type": "code",
   "execution_count": 110,
   "id": "b7d4a9b3",
   "metadata": {},
   "outputs": [
    {
     "data": {
      "text/plain": [
       "b8:27:eb:bf:9d:51    187451\n",
       "00:0f:00:70:91:0a    111815\n",
       "1c:bf:ce:15:ec:4d    105918\n",
       "Name: device, dtype: int64"
      ]
     },
     "execution_count": 110,
     "metadata": {},
     "output_type": "execute_result"
    }
   ],
   "source": [
    "data['device'].value_counts()"
   ]
  },
  {
   "cell_type": "code",
   "execution_count": 111,
   "id": "c3d35e90",
   "metadata": {},
   "outputs": [],
   "source": [
    "from sklearn.preprocessing import LabelEncoder\n",
    "label_en=LabelEncoder()\n",
    "data['device']=label_en.fit_transform(data['device'])"
   ]
  },
  {
   "cell_type": "code",
   "execution_count": 112,
   "id": "babb1ce2",
   "metadata": {},
   "outputs": [
    {
     "data": {
      "text/plain": [
       "<AxesSubplot:>"
      ]
     },
     "execution_count": 112,
     "metadata": {},
     "output_type": "execute_result"
    },
    {
     "data": {
      "image/png": "[encoded data removed]",
      "text/plain": [
       "<Figure size 432x288 with 1 Axes>"
      ]
     },
     "metadata": {
      "needs_background": "light"
     },
     "output_type": "display_data"
    }
   ],
   "source": [
    "sns.boxplot(data=data['co'])"
   ]
  },
  {
   "cell_type": "code",
   "execution_count": 113,
   "id": "10cda5ca",
   "metadata": {},
   "outputs": [
    {
     "data": {
      "text/html": [
       "<div>\n",
       "<style scoped>\n",
       "    .dataframe tbody tr th:only-of-type {\n",
       "        vertical-align: middle;\n",
       "    }\n",
       "\n",
       "    .dataframe tbody tr th {\n",
       "        vertical-align: top;\n",
       "    }\n",
       "\n",
       "    .dataframe thead th {\n",
       "        text-align: right;\n",
       "    }\n",
       "</style>\n",
       "<table border=\"1\" class=\"dataframe\">\n",
       "  <thead>\n",
       "    <tr style=\"text-align: right;\">\n",
       "      <th></th>\n",
       "      <th>ts</th>\n",
       "      <th>device</th>\n",
       "      <th>co</th>\n",
       "      <th>humidity</th>\n",
       "      <th>light</th>\n",
       "      <th>lpg</th>\n",
       "      <th>motion</th>\n",
       "      <th>smoke</th>\n",
       "      <th>temp</th>\n",
       "    </tr>\n",
       "  </thead>\n",
       "  <tbody>\n",
       "    <tr>\n",
       "      <th>0</th>\n",
       "      <td>1.590000e+09</td>\n",
       "      <td>2</td>\n",
       "      <td>0.004956</td>\n",
       "      <td>51.000000</td>\n",
       "      <td>False</td>\n",
       "      <td>0.007651</td>\n",
       "      <td>False</td>\n",
       "      <td>0.019264</td>\n",
       "      <td>22.700000</td>\n",
       "    </tr>\n",
       "    <tr>\n",
       "      <th>1</th>\n",
       "      <td>1.590000e+09</td>\n",
       "      <td>0</td>\n",
       "      <td>0.002840</td>\n",
       "      <td>76.000000</td>\n",
       "      <td>False</td>\n",
       "      <td>0.005114</td>\n",
       "      <td>False</td>\n",
       "      <td>0.013275</td>\n",
       "      <td>19.700001</td>\n",
       "    </tr>\n",
       "    <tr>\n",
       "      <th>2</th>\n",
       "      <td>1.590000e+09</td>\n",
       "      <td>2</td>\n",
       "      <td>0.004976</td>\n",
       "      <td>50.900000</td>\n",
       "      <td>False</td>\n",
       "      <td>0.007673</td>\n",
       "      <td>False</td>\n",
       "      <td>0.020475</td>\n",
       "      <td>22.600000</td>\n",
       "    </tr>\n",
       "    <tr>\n",
       "      <th>3</th>\n",
       "      <td>1.590000e+09</td>\n",
       "      <td>1</td>\n",
       "      <td>0.004403</td>\n",
       "      <td>76.800003</td>\n",
       "      <td>True</td>\n",
       "      <td>0.007023</td>\n",
       "      <td>False</td>\n",
       "      <td>0.018628</td>\n",
       "      <td>27.000000</td>\n",
       "    </tr>\n",
       "    <tr>\n",
       "      <th>4</th>\n",
       "      <td>1.590000e+09</td>\n",
       "      <td>2</td>\n",
       "      <td>0.004967</td>\n",
       "      <td>50.900000</td>\n",
       "      <td>False</td>\n",
       "      <td>0.007664</td>\n",
       "      <td>False</td>\n",
       "      <td>0.020448</td>\n",
       "      <td>22.600000</td>\n",
       "    </tr>\n",
       "  </tbody>\n",
       "</table>\n",
       "</div>"
      ],
      "text/plain": [
       "             ts  device        co   humidity  light       lpg  motion  \\\n",
       "0  1.590000e+09       2  0.004956  51.000000  False  0.007651   False   \n",
       "1  1.590000e+09       0  0.002840  76.000000  False  0.005114   False   \n",
       "2  1.590000e+09       2  0.004976  50.900000  False  0.007673   False   \n",
       "3  1.590000e+09       1  0.004403  76.800003   True  0.007023   False   \n",
       "4  1.590000e+09       2  0.004967  50.900000  False  0.007664   False   \n",
       "\n",
       "      smoke       temp  \n",
       "0  0.019264  22.700000  \n",
       "1  0.013275  19.700001  \n",
       "2  0.020475  22.600000  \n",
       "3  0.018628  27.000000  \n",
       "4  0.020448  22.600000  "
      ]
     },
     "execution_count": 113,
     "metadata": {},
     "output_type": "execute_result"
    }
   ],
   "source": [
    "data.head()"
   ]
  },
  {
   "cell_type": "code",
   "execution_count": 114,
   "id": "bb550e2e",
   "metadata": {},
   "outputs": [
    {
     "data": {
      "text/plain": [
       "<AxesSubplot:>"
      ]
     },
     "execution_count": 114,
     "metadata": {},
     "output_type": "execute_result"
    },
    {
     "data": {
      "image/png": "[encoded data removed]",
      "text/plain": [
       "<Figure size 432x288 with 1 Axes>"
      ]
     },
     "metadata": {
      "needs_background": "light"
     },
     "output_type": "display_data"
    }
   ],
   "source": [
    "sns.boxplot(data=data['humidity'])"
   ]
  },
  {
   "cell_type": "code",
   "execution_count": 115,
   "id": "2517e750",
   "metadata": {},
   "outputs": [
    {
     "data": {
      "text/plain": [
       "<AxesSubplot:>"
      ]
     },
     "execution_count": 115,
     "metadata": {},
     "output_type": "execute_result"
    },
    {
     "data": {
      "image/png": "[encoded data removed]",
      "text/plain": [
       "<Figure size 432x288 with 1 Axes>"
      ]
     },
     "metadata": {
      "needs_background": "light"
     },
     "output_type": "display_data"
    }
   ],
   "source": [
    "sns.boxplot(data=data['lpg'])"
   ]
  },
  {
   "cell_type": "code",
   "execution_count": 116,
   "id": "4ef36b0a",
   "metadata": {},
   "outputs": [
    {
     "data": {
      "text/plain": [
       "<AxesSubplot:>"
      ]
     },
     "execution_count": 116,
     "metadata": {},
     "output_type": "execute_result"
    },
    {
     "data": {
      "image/png": "[encoded data removed]",
      "text/plain": [
       "<Figure size 432x288 with 1 Axes>"
      ]
     },
     "metadata": {
      "needs_background": "light"
     },
     "output_type": "display_data"
    }
   ],
   "source": [
    "sns.boxplot(data=data['smoke'])"
   ]
  },
  {
   "cell_type": "code",
   "execution_count": 117,
   "id": "9909dd6e",
   "metadata": {},
   "outputs": [],
   "source": [
    "q1=np.percentile(data['smoke'],25,interpolation=\"midpoint\")\n",
    "q2=np.percentile(data['smoke'],50,interpolation=\"midpoint\")\n",
    "q3=np.percentile(data['smoke'],75,interpolation=\"midpoint\")\n",
    "iqr=q3-q1\n",
    "low=q1-1.5*iqr\n",
    "high=q3+1.5*iqr\n",
    "outlier=[]\n",
    "for x in data['smoke']:\n",
    "    if((x>high) or (x<low)):\n",
    "        outlier.append(x)"
   ]
  },
  {
   "cell_type": "code",
   "execution_count": 118,
   "id": "8690ce46",
   "metadata": {},
   "outputs": [],
   "source": [
    "ind1=data['smoke']>high"
   ]
  },
  {
   "cell_type": "code",
   "execution_count": 119,
   "id": "0a8e4290",
   "metadata": {},
   "outputs": [],
   "source": [
    "data.drop(data.loc[ind1].index,inplace=True)"
   ]
  },
  {
   "cell_type": "code",
   "execution_count": 120,
   "id": "7695393c",
   "metadata": {},
   "outputs": [],
   "source": [
    "ind2=data['smoke']<low"
   ]
  },
  {
   "cell_type": "code",
   "execution_count": 121,
   "id": "b68bd606",
   "metadata": {},
   "outputs": [],
   "source": [
    "data.drop(data.loc[ind2].index,inplace=True)"
   ]
  },
  {
   "cell_type": "code",
   "execution_count": 122,
   "id": "99f692a7",
   "metadata": {},
   "outputs": [],
   "source": [
    "q1=np.percentile(data['lpg'],25,interpolation=\"midpoint\")\n",
    "q2=np.percentile(data['lpg'],50,interpolation=\"midpoint\")\n",
    "q3=np.percentile(data['lpg'],75,interpolation=\"midpoint\")\n",
    "iqr=q3-q1\n",
    "low=q1-1.5*iqr\n",
    "high=q3+1.5*iqr\n",
    "outlier=[]\n",
    "for x in data['lpg']:\n",
    "    if((x>high) or (x<low)):\n",
    "        outlier.append(x)"
   ]
  },
  {
   "cell_type": "code",
   "execution_count": 123,
   "id": "e80b7dcf",
   "metadata": {},
   "outputs": [],
   "source": [
    "ind1=data['lpg']>high"
   ]
  },
  {
   "cell_type": "code",
   "execution_count": 124,
   "id": "a3326ebf",
   "metadata": {},
   "outputs": [],
   "source": [
    "data.drop(data.loc[ind1].index,inplace=True)"
   ]
  },
  {
   "cell_type": "code",
   "execution_count": 125,
   "id": "6ae8ddc3",
   "metadata": {},
   "outputs": [],
   "source": [
    "ind2=data['lpg']<low"
   ]
  },
  {
   "cell_type": "code",
   "execution_count": 126,
   "id": "edba844b",
   "metadata": {},
   "outputs": [],
   "source": [
    "data.drop(data.loc[ind2].index,inplace=True)"
   ]
  },
  {
   "cell_type": "code",
   "execution_count": 127,
   "id": "38bd524e",
   "metadata": {},
   "outputs": [
    {
     "data": {
      "text/plain": [
       "<AxesSubplot:>"
      ]
     },
     "execution_count": 127,
     "metadata": {},
     "output_type": "execute_result"
    },
    {
     "data": {
      "image/png": "[encoded data removed]",
      "text/plain": [
       "<Figure size 432x288 with 1 Axes>"
      ]
     },
     "metadata": {
      "needs_background": "light"
     },
     "output_type": "display_data"
    }
   ],
   "source": [
    "sns.boxplot(data=data['lpg'])"
   ]
  },
  {
   "cell_type": "code",
   "execution_count": 128,
   "id": "08e99acc",
   "metadata": {},
   "outputs": [],
   "source": [
    "q1=np.percentile(data['humidity'],25,interpolation=\"midpoint\")\n",
    "q2=np.percentile(data['humidity'],50,interpolation=\"midpoint\")\n",
    "q3=np.percentile(data['humidity'],75,interpolation=\"midpoint\")\n",
    "iqr=q3-q1\n",
    "low=q1-1.5*iqr\n",
    "high=q3+1.5*iqr\n",
    "outlier=[]\n",
    "for x in data['co']:\n",
    "    if((x>high) or (x<low)):\n",
    "        outlier.append(x)"
   ]
  },
  {
   "cell_type": "code",
   "execution_count": 129,
   "id": "ffc36d6e",
   "metadata": {},
   "outputs": [],
   "source": [
    "ind1=data['humidity']>high"
   ]
  },
  {
   "cell_type": "code",
   "execution_count": 130,
   "id": "a6c0a255",
   "metadata": {},
   "outputs": [
    {
     "data": {
      "text/plain": [
       "0         False\n",
       "1         False\n",
       "2         False\n",
       "3         False\n",
       "4         False\n",
       "          ...  \n",
       "405179    False\n",
       "405180    False\n",
       "405181    False\n",
       "405182    False\n",
       "405183    False\n",
       "Name: humidity, Length: 391217, dtype: bool"
      ]
     },
     "execution_count": 130,
     "metadata": {},
     "output_type": "execute_result"
    }
   ],
   "source": [
    "ind1"
   ]
  },
  {
   "cell_type": "code",
   "execution_count": 131,
   "id": "6d82dee5",
   "metadata": {},
   "outputs": [],
   "source": [
    "data.drop(data.loc[ind1].index,inplace=True)"
   ]
  },
  {
   "cell_type": "code",
   "execution_count": 132,
   "id": "707b1228",
   "metadata": {},
   "outputs": [],
   "source": [
    "ind2=data['humidity']<low"
   ]
  },
  {
   "cell_type": "code",
   "execution_count": 133,
   "id": "a5c2621b",
   "metadata": {},
   "outputs": [],
   "source": [
    "data.drop(data.loc[ind2].index,inplace=True)"
   ]
  },
  {
   "cell_type": "code",
   "execution_count": 134,
   "id": "2ae4b682",
   "metadata": {},
   "outputs": [
    {
     "data": {
      "text/plain": [
       "<AxesSubplot:>"
      ]
     },
     "execution_count": 134,
     "metadata": {},
     "output_type": "execute_result"
    },
    {
     "data": {
      "image/png": "[encoded data removed]",
      "text/plain": [
       "<Figure size 432x288 with 1 Axes>"
      ]
     },
     "metadata": {
      "needs_background": "light"
     },
     "output_type": "display_data"
    }
   ],
   "source": [
    "sns.boxplot(data=data['humidity'])"
   ]
  },
  {
   "cell_type": "code",
   "execution_count": 135,
   "id": "d02439db",
   "metadata": {},
   "outputs": [],
   "source": [
    "data['light']=label_en.fit_transform(data['light'])"
   ]
  },
  {
   "cell_type": "code",
   "execution_count": 136,
   "id": "774fb6b2",
   "metadata": {},
   "outputs": [
    {
     "data": {
      "text/plain": [
       "<AxesSubplot:>"
      ]
     },
     "execution_count": 136,
     "metadata": {},
     "output_type": "execute_result"
    },
    {
     "data": {
      "image/png": "[encoded data removed]",
      "text/plain": [
       "<Figure size 432x288 with 1 Axes>"
      ]
     },
     "metadata": {
      "needs_background": "light"
     },
     "output_type": "display_data"
    }
   ],
   "source": [
    "sns.boxplot(data=data['smoke'])"
   ]
  },
  {
   "cell_type": "code",
   "execution_count": 137,
   "id": "5844fc1f",
   "metadata": {},
   "outputs": [],
   "source": [
    "data['motion']=label_en.fit_transform(data['motion'])"
   ]
  },
  {
   "cell_type": "code",
   "execution_count": 138,
   "id": "03cc904c",
   "metadata": {},
   "outputs": [
    {
     "data": {
      "text/plain": [
       "1.590000e+09    272813\n",
       "1.600000e+09    118360\n",
       "Name: ts, dtype: int64"
      ]
     },
     "execution_count": 138,
     "metadata": {},
     "output_type": "execute_result"
    }
   ],
   "source": [
    "data['ts'].value_counts()"
   ]
  },
  {
   "cell_type": "code",
   "execution_count": 139,
   "id": "23ef4ec2",
   "metadata": {},
   "outputs": [],
   "source": [
    "x=data.drop(['light'],axis=1)\n",
    "y=data['light']"
   ]
  },
  {
   "cell_type": "code",
   "execution_count": 140,
   "id": "6a0fd4bb",
   "metadata": {},
   "outputs": [],
   "source": [
    "from sklearn.model_selection import train_test_split\n",
    "X_train,X_test,Y_train,Y_test =train_test_split(x,y,random_state=42,test_size=0.2)"
   ]
  },
  {
   "cell_type": "code",
   "execution_count": 142,
   "id": "9db802e4",
   "metadata": {},
   "outputs": [],
   "source": [
    "from sklearn.ensemble import RandomForestClassifier\n",
    "rf_model=RandomForestClassifier()\n",
    "rf_model.fit(X_train,Y_train)\n",
    "y_pred=rf_model.predict(X_test)\n",
    "from sklearn.metrics import f1_score,confusion_matrix,accuracy_score"
   ]
  },
  {
   "cell_type": "code",
   "execution_count": 143,
   "id": "6d50163d",
   "metadata": {},
   "outputs": [
    {
     "data": {
      "text/plain": [
       "array([[55468,   260],\n",
       "       [  597, 21910]], dtype=int64)"
      ]
     },
     "execution_count": 143,
     "metadata": {},
     "output_type": "execute_result"
    }
   ],
   "source": [
    "confusion_matrix(Y_test,y_pred)"
   ]
  },
  {
   "cell_type": "code",
   "execution_count": 144,
   "id": "7682940a",
   "metadata": {},
   "outputs": [
    {
     "data": {
      "text/plain": [
       "0.9890458234805394"
      ]
     },
     "execution_count": 144,
     "metadata": {},
     "output_type": "execute_result"
    }
   ],
   "source": [
    "accuracy_score(Y_test,y_pred)"
   ]
  },
  {
   "cell_type": "code",
   "execution_count": 145,
   "id": "dada8dfa",
   "metadata": {},
   "outputs": [
    {
     "data": {
      "text/plain": [
       "0.9808178704926472"
      ]
     },
     "execution_count": 145,
     "metadata": {},
     "output_type": "execute_result"
    }
   ],
   "source": [
    "f1_score(Y_test,y_pred)"
   ]
  },
  {
   "cell_type": "code",
   "execution_count": null,
   "id": "053b460c",
   "metadata": {},
   "outputs": [],
   "source": []
  }
 ],
 "metadata": {
  "kernelspec": {
   "display_name": "Python 3 (ipykernel)",
   "language": "python",
   "name": "python3"
  },
  "language_info": {
   "codemirror_mode": {
    "name": "ipython",
    "version": 3
   },
   "file_extension": ".py",
   "mimetype": "text/x-python",
   "name": "python",
   "nbconvert_exporter": "python",
   "pygments_lexer": "ipython3",
   "version": "3.9.7"
  }
 },
 "nbformat": 4,
 "nbformat_minor": 5
}
